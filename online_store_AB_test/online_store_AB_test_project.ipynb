{
 "cells": [
  {
   "cell_type": "markdown",
   "metadata": {},
   "source": [
    "**Ход исследования**:\n",
    "1. Обзор и подготовка данных к анализу.\n",
    "2. Приоритизация гипотез.\n",
    "3. Анализ А/В теста.\n",
    "4. Принятие решения по результатам теста."
   ]
  },
  {
   "cell_type": "markdown",
   "metadata": {},
   "source": [
    "## Обзор и подготовка данных к анализу"
   ]
  },
  {
   "cell_type": "code",
   "execution_count": 1,
   "metadata": {},
   "outputs": [],
   "source": [
    "# импорт библиотек\n",
    "import pandas as pd\n",
    "import scipy.stats as stats\n",
    "import datetime as dt\n",
    "import numpy as np\n",
    "from matplotlib import pyplot as plt\n",
    "from pandas.plotting import register_matplotlib_converters\n",
    "import warnings"
   ]
  },
  {
   "cell_type": "code",
   "execution_count": 2,
   "metadata": {},
   "outputs": [
    {
     "name": "stdout",
     "output_type": "stream",
     "text": [
      "Файл hypothesis:\n"
     ]
    },
    {
     "data": {
      "text/html": [
       "<div>\n",
       "<style scoped>\n",
       "    .dataframe tbody tr th:only-of-type {\n",
       "        vertical-align: middle;\n",
       "    }\n",
       "\n",
       "    .dataframe tbody tr th {\n",
       "        vertical-align: top;\n",
       "    }\n",
       "\n",
       "    .dataframe thead th {\n",
       "        text-align: right;\n",
       "    }\n",
       "</style>\n",
       "<table border=\"1\" class=\"dataframe\">\n",
       "  <thead>\n",
       "    <tr style=\"text-align: right;\">\n",
       "      <th></th>\n",
       "      <th>Hypothesis</th>\n",
       "      <th>Reach</th>\n",
       "      <th>Impact</th>\n",
       "      <th>Confidence</th>\n",
       "      <th>Efforts</th>\n",
       "    </tr>\n",
       "  </thead>\n",
       "  <tbody>\n",
       "    <tr>\n",
       "      <th>0</th>\n",
       "      <td>Добавить два новых канала привлечения трафика,...</td>\n",
       "      <td>3</td>\n",
       "      <td>10</td>\n",
       "      <td>8</td>\n",
       "      <td>6</td>\n",
       "    </tr>\n",
       "    <tr>\n",
       "      <th>1</th>\n",
       "      <td>Запустить собственную службу доставки, что сок...</td>\n",
       "      <td>2</td>\n",
       "      <td>5</td>\n",
       "      <td>4</td>\n",
       "      <td>10</td>\n",
       "    </tr>\n",
       "    <tr>\n",
       "      <th>2</th>\n",
       "      <td>Добавить блоки рекомендаций товаров на сайт ин...</td>\n",
       "      <td>8</td>\n",
       "      <td>3</td>\n",
       "      <td>7</td>\n",
       "      <td>3</td>\n",
       "    </tr>\n",
       "    <tr>\n",
       "      <th>3</th>\n",
       "      <td>Изменить структура категорий, что увеличит кон...</td>\n",
       "      <td>8</td>\n",
       "      <td>3</td>\n",
       "      <td>3</td>\n",
       "      <td>8</td>\n",
       "    </tr>\n",
       "    <tr>\n",
       "      <th>4</th>\n",
       "      <td>Изменить цвет фона главной страницы, чтобы уве...</td>\n",
       "      <td>3</td>\n",
       "      <td>1</td>\n",
       "      <td>1</td>\n",
       "      <td>1</td>\n",
       "    </tr>\n",
       "    <tr>\n",
       "      <th>5</th>\n",
       "      <td>Добавить страницу отзывов клиентов о магазине,...</td>\n",
       "      <td>3</td>\n",
       "      <td>2</td>\n",
       "      <td>2</td>\n",
       "      <td>3</td>\n",
       "    </tr>\n",
       "    <tr>\n",
       "      <th>6</th>\n",
       "      <td>Показать на главной странице баннеры с актуаль...</td>\n",
       "      <td>5</td>\n",
       "      <td>3</td>\n",
       "      <td>8</td>\n",
       "      <td>3</td>\n",
       "    </tr>\n",
       "    <tr>\n",
       "      <th>7</th>\n",
       "      <td>Добавить форму подписки на все основные страни...</td>\n",
       "      <td>10</td>\n",
       "      <td>7</td>\n",
       "      <td>8</td>\n",
       "      <td>5</td>\n",
       "    </tr>\n",
       "    <tr>\n",
       "      <th>8</th>\n",
       "      <td>Запустить акцию, дающую скидку на товар в день...</td>\n",
       "      <td>1</td>\n",
       "      <td>9</td>\n",
       "      <td>9</td>\n",
       "      <td>5</td>\n",
       "    </tr>\n",
       "  </tbody>\n",
       "</table>\n",
       "</div>"
      ],
      "text/plain": [
       "                                          Hypothesis  Reach  Impact  \\\n",
       "0  Добавить два новых канала привлечения трафика,...      3      10   \n",
       "1  Запустить собственную службу доставки, что сок...      2       5   \n",
       "2  Добавить блоки рекомендаций товаров на сайт ин...      8       3   \n",
       "3  Изменить структура категорий, что увеличит кон...      8       3   \n",
       "4  Изменить цвет фона главной страницы, чтобы уве...      3       1   \n",
       "5  Добавить страницу отзывов клиентов о магазине,...      3       2   \n",
       "6  Показать на главной странице баннеры с актуаль...      5       3   \n",
       "7  Добавить форму подписки на все основные страни...     10       7   \n",
       "8  Запустить акцию, дающую скидку на товар в день...      1       9   \n",
       "\n",
       "   Confidence  Efforts  \n",
       "0           8        6  \n",
       "1           4       10  \n",
       "2           7        3  \n",
       "3           3        8  \n",
       "4           1        1  \n",
       "5           2        3  \n",
       "6           8        3  \n",
       "7           8        5  \n",
       "8           9        5  "
      ]
     },
     "metadata": {},
     "output_type": "display_data"
    },
    {
     "name": "stdout",
     "output_type": "stream",
     "text": [
      "Файл orders:\n"
     ]
    },
    {
     "data": {
      "text/html": [
       "<div>\n",
       "<style scoped>\n",
       "    .dataframe tbody tr th:only-of-type {\n",
       "        vertical-align: middle;\n",
       "    }\n",
       "\n",
       "    .dataframe tbody tr th {\n",
       "        vertical-align: top;\n",
       "    }\n",
       "\n",
       "    .dataframe thead th {\n",
       "        text-align: right;\n",
       "    }\n",
       "</style>\n",
       "<table border=\"1\" class=\"dataframe\">\n",
       "  <thead>\n",
       "    <tr style=\"text-align: right;\">\n",
       "      <th></th>\n",
       "      <th>transactionId</th>\n",
       "      <th>visitorId</th>\n",
       "      <th>date</th>\n",
       "      <th>revenue</th>\n",
       "      <th>group</th>\n",
       "    </tr>\n",
       "  </thead>\n",
       "  <tbody>\n",
       "    <tr>\n",
       "      <th>0</th>\n",
       "      <td>3667963787</td>\n",
       "      <td>3312258926</td>\n",
       "      <td>2019-08-15</td>\n",
       "      <td>1650</td>\n",
       "      <td>B</td>\n",
       "    </tr>\n",
       "    <tr>\n",
       "      <th>1</th>\n",
       "      <td>2804400009</td>\n",
       "      <td>3642806036</td>\n",
       "      <td>2019-08-15</td>\n",
       "      <td>730</td>\n",
       "      <td>B</td>\n",
       "    </tr>\n",
       "    <tr>\n",
       "      <th>2</th>\n",
       "      <td>2961555356</td>\n",
       "      <td>4069496402</td>\n",
       "      <td>2019-08-15</td>\n",
       "      <td>400</td>\n",
       "      <td>A</td>\n",
       "    </tr>\n",
       "    <tr>\n",
       "      <th>3</th>\n",
       "      <td>3797467345</td>\n",
       "      <td>1196621759</td>\n",
       "      <td>2019-08-15</td>\n",
       "      <td>9759</td>\n",
       "      <td>B</td>\n",
       "    </tr>\n",
       "    <tr>\n",
       "      <th>4</th>\n",
       "      <td>2282983706</td>\n",
       "      <td>2322279887</td>\n",
       "      <td>2019-08-15</td>\n",
       "      <td>2308</td>\n",
       "      <td>B</td>\n",
       "    </tr>\n",
       "  </tbody>\n",
       "</table>\n",
       "</div>"
      ],
      "text/plain": [
       "   transactionId   visitorId        date  revenue group\n",
       "0     3667963787  3312258926  2019-08-15     1650     B\n",
       "1     2804400009  3642806036  2019-08-15      730     B\n",
       "2     2961555356  4069496402  2019-08-15      400     A\n",
       "3     3797467345  1196621759  2019-08-15     9759     B\n",
       "4     2282983706  2322279887  2019-08-15     2308     B"
      ]
     },
     "metadata": {},
     "output_type": "display_data"
    },
    {
     "name": "stdout",
     "output_type": "stream",
     "text": [
      "<class 'pandas.core.frame.DataFrame'>\n",
      "RangeIndex: 1197 entries, 0 to 1196\n",
      "Data columns (total 5 columns):\n",
      " #   Column         Non-Null Count  Dtype \n",
      "---  ------         --------------  ----- \n",
      " 0   transactionId  1197 non-null   int64 \n",
      " 1   visitorId      1197 non-null   int64 \n",
      " 2   date           1197 non-null   object\n",
      " 3   revenue        1197 non-null   int64 \n",
      " 4   group          1197 non-null   object\n",
      "dtypes: int64(3), object(2)\n",
      "memory usage: 46.9+ KB\n",
      "None\n",
      "\n",
      "Файл visitors:\n"
     ]
    },
    {
     "data": {
      "text/html": [
       "<div>\n",
       "<style scoped>\n",
       "    .dataframe tbody tr th:only-of-type {\n",
       "        vertical-align: middle;\n",
       "    }\n",
       "\n",
       "    .dataframe tbody tr th {\n",
       "        vertical-align: top;\n",
       "    }\n",
       "\n",
       "    .dataframe thead th {\n",
       "        text-align: right;\n",
       "    }\n",
       "</style>\n",
       "<table border=\"1\" class=\"dataframe\">\n",
       "  <thead>\n",
       "    <tr style=\"text-align: right;\">\n",
       "      <th></th>\n",
       "      <th>date</th>\n",
       "      <th>group</th>\n",
       "      <th>visitors</th>\n",
       "    </tr>\n",
       "  </thead>\n",
       "  <tbody>\n",
       "    <tr>\n",
       "      <th>0</th>\n",
       "      <td>2019-08-01</td>\n",
       "      <td>A</td>\n",
       "      <td>719</td>\n",
       "    </tr>\n",
       "    <tr>\n",
       "      <th>1</th>\n",
       "      <td>2019-08-02</td>\n",
       "      <td>A</td>\n",
       "      <td>619</td>\n",
       "    </tr>\n",
       "    <tr>\n",
       "      <th>2</th>\n",
       "      <td>2019-08-03</td>\n",
       "      <td>A</td>\n",
       "      <td>507</td>\n",
       "    </tr>\n",
       "    <tr>\n",
       "      <th>3</th>\n",
       "      <td>2019-08-04</td>\n",
       "      <td>A</td>\n",
       "      <td>717</td>\n",
       "    </tr>\n",
       "    <tr>\n",
       "      <th>4</th>\n",
       "      <td>2019-08-05</td>\n",
       "      <td>A</td>\n",
       "      <td>756</td>\n",
       "    </tr>\n",
       "  </tbody>\n",
       "</table>\n",
       "</div>"
      ],
      "text/plain": [
       "         date group  visitors\n",
       "0  2019-08-01     A       719\n",
       "1  2019-08-02     A       619\n",
       "2  2019-08-03     A       507\n",
       "3  2019-08-04     A       717\n",
       "4  2019-08-05     A       756"
      ]
     },
     "metadata": {},
     "output_type": "display_data"
    },
    {
     "name": "stdout",
     "output_type": "stream",
     "text": [
      "<class 'pandas.core.frame.DataFrame'>\n",
      "RangeIndex: 62 entries, 0 to 61\n",
      "Data columns (total 3 columns):\n",
      " #   Column    Non-Null Count  Dtype \n",
      "---  ------    --------------  ----- \n",
      " 0   date      62 non-null     object\n",
      " 1   group     62 non-null     object\n",
      " 2   visitors  62 non-null     int64 \n",
      "dtypes: int64(1), object(2)\n",
      "memory usage: 1.6+ KB\n",
      "None\n"
     ]
    }
   ],
   "source": [
    "# чтение файлов с данными\n",
    "data, orders, visitors = (\n",
    "    pd.read_csv('/datasets/hypothesis.csv'),  \n",
    "    pd.read_csv('/datasets/orders.csv'), \n",
    "    pd.read_csv('/datasets/visitors.csv'), \n",
    ")\n",
    "\n",
    "# просмотр файлов с данными\n",
    "print('Файл hypothesis:')\n",
    "display(data)\n",
    "print('Файл orders:')\n",
    "display(orders.head(5))\n",
    "print(orders.info())\n",
    "print('\\nФайл visitors:')\n",
    "display(visitors.head(5))\n",
    "print(visitors.info())"
   ]
  },
  {
   "cell_type": "markdown",
   "metadata": {},
   "source": [
    "Переименуем столбцы в `data`."
   ]
  },
  {
   "cell_type": "code",
   "execution_count": 3,
   "metadata": {},
   "outputs": [],
   "source": [
    "# переименование столбцов\n",
    "data.columns = data.columns.str.lower()"
   ]
  },
  {
   "cell_type": "markdown",
   "metadata": {},
   "source": [
    "Преобразуем типы данных о времени."
   ]
  },
  {
   "cell_type": "code",
   "execution_count": 4,
   "metadata": {},
   "outputs": [],
   "source": [
    "# преобразование типов данных о времени\n",
    "orders['date'] = pd.to_datetime(orders['date'])\n",
    "visitors['date'] = pd.to_datetime(visitors['date'])"
   ]
  },
  {
   "cell_type": "markdown",
   "metadata": {},
   "source": [
    "Проверим отсутствие дубликатов в `orders` и `visitors`."
   ]
  },
  {
   "cell_type": "code",
   "execution_count": 5,
   "metadata": {},
   "outputs": [
    {
     "name": "stdout",
     "output_type": "stream",
     "text": [
      "Кол-во дубликатов в orders: 0\n",
      "Кол-во дубликатов в visitors: 0\n"
     ]
    }
   ],
   "source": [
    "print('Кол-во дубликатов в orders:', orders.duplicated().sum())\n",
    "print('Кол-во дубликатов в visitors:', visitors.duplicated().sum())"
   ]
  },
  {
   "cell_type": "markdown",
   "metadata": {},
   "source": [
    "**Выводы**\n",
    "\n",
    "Рассмотрены данные, произведена подготовка данных:\n",
    "* выявлено отсутствие пропусков в данных;\n",
    "* названия столбцов в `data` (данные с файла `hypothesis`) приведены в нижний регистр; \n",
    "* преобразованы типы данных о времени в `orders` и `visitors`;\n",
    "* произведена проверка на отсутствие дубликатов в `orders` и `visitors`. "
   ]
  },
  {
   "cell_type": "markdown",
   "metadata": {},
   "source": [
    "## Приоритизация гипотез"
   ]
  },
  {
   "cell_type": "markdown",
   "metadata": {},
   "source": [
    "Применим фреймворк `ICE` для приоритизации гипотез. Отсортируем их по убыванию приоритета."
   ]
  },
  {
   "cell_type": "code",
   "execution_count": 6,
   "metadata": {
    "scrolled": true
   },
   "outputs": [
    {
     "data": {
      "text/html": [
       "<div>\n",
       "<style scoped>\n",
       "    .dataframe tbody tr th:only-of-type {\n",
       "        vertical-align: middle;\n",
       "    }\n",
       "\n",
       "    .dataframe tbody tr th {\n",
       "        vertical-align: top;\n",
       "    }\n",
       "\n",
       "    .dataframe thead th {\n",
       "        text-align: right;\n",
       "    }\n",
       "</style>\n",
       "<table border=\"1\" class=\"dataframe\">\n",
       "  <thead>\n",
       "    <tr style=\"text-align: right;\">\n",
       "      <th></th>\n",
       "      <th>hypothesis</th>\n",
       "      <th>ICE</th>\n",
       "    </tr>\n",
       "  </thead>\n",
       "  <tbody>\n",
       "    <tr>\n",
       "      <th>8</th>\n",
       "      <td>Запустить акцию, дающую скидку на товар в день...</td>\n",
       "      <td>16.2</td>\n",
       "    </tr>\n",
       "    <tr>\n",
       "      <th>0</th>\n",
       "      <td>Добавить два новых канала привлечения трафика,...</td>\n",
       "      <td>13.3</td>\n",
       "    </tr>\n",
       "    <tr>\n",
       "      <th>7</th>\n",
       "      <td>Добавить форму подписки на все основные страни...</td>\n",
       "      <td>11.2</td>\n",
       "    </tr>\n",
       "    <tr>\n",
       "      <th>6</th>\n",
       "      <td>Показать на главной странице баннеры с актуаль...</td>\n",
       "      <td>8.0</td>\n",
       "    </tr>\n",
       "    <tr>\n",
       "      <th>2</th>\n",
       "      <td>Добавить блоки рекомендаций товаров на сайт ин...</td>\n",
       "      <td>7.0</td>\n",
       "    </tr>\n",
       "    <tr>\n",
       "      <th>1</th>\n",
       "      <td>Запустить собственную службу доставки, что сок...</td>\n",
       "      <td>2.0</td>\n",
       "    </tr>\n",
       "    <tr>\n",
       "      <th>5</th>\n",
       "      <td>Добавить страницу отзывов клиентов о магазине,...</td>\n",
       "      <td>1.3</td>\n",
       "    </tr>\n",
       "    <tr>\n",
       "      <th>3</th>\n",
       "      <td>Изменить структура категорий, что увеличит кон...</td>\n",
       "      <td>1.1</td>\n",
       "    </tr>\n",
       "    <tr>\n",
       "      <th>4</th>\n",
       "      <td>Изменить цвет фона главной страницы, чтобы уве...</td>\n",
       "      <td>1.0</td>\n",
       "    </tr>\n",
       "  </tbody>\n",
       "</table>\n",
       "</div>"
      ],
      "text/plain": [
       "                                          hypothesis   ICE\n",
       "8  Запустить акцию, дающую скидку на товар в день...  16.2\n",
       "0  Добавить два новых канала привлечения трафика,...  13.3\n",
       "7  Добавить форму подписки на все основные страни...  11.2\n",
       "6  Показать на главной странице баннеры с актуаль...   8.0\n",
       "2  Добавить блоки рекомендаций товаров на сайт ин...   7.0\n",
       "1  Запустить собственную службу доставки, что сок...   2.0\n",
       "5  Добавить страницу отзывов клиентов о магазине,...   1.3\n",
       "3  Изменить структура категорий, что увеличит кон...   1.1\n",
       "4  Изменить цвет фона главной страницы, чтобы уве...   1.0"
      ]
     },
     "execution_count": 6,
     "metadata": {},
     "output_type": "execute_result"
    }
   ],
   "source": [
    "data['ICE'] = round((data['impact'] * data['confidence'] / data['efforts']), 1)\n",
    "data[['hypothesis', 'ICE']].sort_values(by='ICE', ascending=False)"
   ]
  },
  {
   "cell_type": "markdown",
   "metadata": {},
   "source": [
    "Выведем полное описание двух наиболее перспективных гипотез по методу `ICE`. "
   ]
  },
  {
   "cell_type": "code",
   "execution_count": 7,
   "metadata": {},
   "outputs": [
    {
     "name": "stdout",
     "output_type": "stream",
     "text": [
      "Запустить акцию, дающую скидку на товар в день рождения\n",
      "Добавить два новых канала привлечения трафика, что позволит привлекать на 30% больше пользователей\n"
     ]
    }
   ],
   "source": [
    "print(data.loc[8, 'hypothesis'])\n",
    "print(data.loc[0, 'hypothesis'])"
   ]
  },
  {
   "cell_type": "markdown",
   "metadata": {},
   "source": [
    "Применим фреймворк `RICE` для приоритизации гипотез. Отсортируем их по убыванию приоритета."
   ]
  },
  {
   "cell_type": "code",
   "execution_count": 8,
   "metadata": {
    "scrolled": true
   },
   "outputs": [
    {
     "data": {
      "text/html": [
       "<div>\n",
       "<style scoped>\n",
       "    .dataframe tbody tr th:only-of-type {\n",
       "        vertical-align: middle;\n",
       "    }\n",
       "\n",
       "    .dataframe tbody tr th {\n",
       "        vertical-align: top;\n",
       "    }\n",
       "\n",
       "    .dataframe thead th {\n",
       "        text-align: right;\n",
       "    }\n",
       "</style>\n",
       "<table border=\"1\" class=\"dataframe\">\n",
       "  <thead>\n",
       "    <tr style=\"text-align: right;\">\n",
       "      <th></th>\n",
       "      <th>hypothesis</th>\n",
       "      <th>RICE</th>\n",
       "    </tr>\n",
       "  </thead>\n",
       "  <tbody>\n",
       "    <tr>\n",
       "      <th>7</th>\n",
       "      <td>Добавить форму подписки на все основные страни...</td>\n",
       "      <td>112.0</td>\n",
       "    </tr>\n",
       "    <tr>\n",
       "      <th>2</th>\n",
       "      <td>Добавить блоки рекомендаций товаров на сайт ин...</td>\n",
       "      <td>56.0</td>\n",
       "    </tr>\n",
       "    <tr>\n",
       "      <th>0</th>\n",
       "      <td>Добавить два новых канала привлечения трафика,...</td>\n",
       "      <td>40.0</td>\n",
       "    </tr>\n",
       "    <tr>\n",
       "      <th>6</th>\n",
       "      <td>Показать на главной странице баннеры с актуаль...</td>\n",
       "      <td>40.0</td>\n",
       "    </tr>\n",
       "    <tr>\n",
       "      <th>8</th>\n",
       "      <td>Запустить акцию, дающую скидку на товар в день...</td>\n",
       "      <td>16.2</td>\n",
       "    </tr>\n",
       "    <tr>\n",
       "      <th>3</th>\n",
       "      <td>Изменить структура категорий, что увеличит кон...</td>\n",
       "      <td>9.0</td>\n",
       "    </tr>\n",
       "    <tr>\n",
       "      <th>1</th>\n",
       "      <td>Запустить собственную службу доставки, что сок...</td>\n",
       "      <td>4.0</td>\n",
       "    </tr>\n",
       "    <tr>\n",
       "      <th>5</th>\n",
       "      <td>Добавить страницу отзывов клиентов о магазине,...</td>\n",
       "      <td>4.0</td>\n",
       "    </tr>\n",
       "    <tr>\n",
       "      <th>4</th>\n",
       "      <td>Изменить цвет фона главной страницы, чтобы уве...</td>\n",
       "      <td>3.0</td>\n",
       "    </tr>\n",
       "  </tbody>\n",
       "</table>\n",
       "</div>"
      ],
      "text/plain": [
       "                                          hypothesis   RICE\n",
       "7  Добавить форму подписки на все основные страни...  112.0\n",
       "2  Добавить блоки рекомендаций товаров на сайт ин...   56.0\n",
       "0  Добавить два новых канала привлечения трафика,...   40.0\n",
       "6  Показать на главной странице баннеры с актуаль...   40.0\n",
       "8  Запустить акцию, дающую скидку на товар в день...   16.2\n",
       "3  Изменить структура категорий, что увеличит кон...    9.0\n",
       "1  Запустить собственную службу доставки, что сок...    4.0\n",
       "5  Добавить страницу отзывов клиентов о магазине,...    4.0\n",
       "4  Изменить цвет фона главной страницы, чтобы уве...    3.0"
      ]
     },
     "execution_count": 8,
     "metadata": {},
     "output_type": "execute_result"
    }
   ],
   "source": [
    "data['RICE'] = data['reach'] * data['impact'] * data['confidence'] / data['efforts']\n",
    "data[['hypothesis', 'RICE']].sort_values(by='RICE', ascending=False)"
   ]
  },
  {
   "cell_type": "markdown",
   "metadata": {},
   "source": [
    "Выведем полное описание двух наиболее перспективных гипотез по методу `RICE`. "
   ]
  },
  {
   "cell_type": "code",
   "execution_count": 9,
   "metadata": {},
   "outputs": [
    {
     "name": "stdout",
     "output_type": "stream",
     "text": [
      "Добавить форму подписки на все основные страницы, чтобы собрать базу клиентов для email-рассылок\n",
      "Добавить блоки рекомендаций товаров на сайт интернет магазина, чтобы повысить конверсию и средний чек заказа\n"
     ]
    }
   ],
   "source": [
    "print(data.loc[7, 'hypothesis'])\n",
    "print(data.loc[2, 'hypothesis'])"
   ]
  },
  {
   "cell_type": "markdown",
   "metadata": {},
   "source": [
    "**Выводы**\n",
    "\n",
    "Посчитаны `ICE` и `RICE` для гипотез - при применении RICE вместо ICE наиболее перспективной ввиду максимального охвата (*Reach равен 10*) оказалась гипотеза 7 - \"***Добавить форму подписки на все основные страницы, чтобы собрать базу клиентов для email-рассылок***\", в то время как по методу ICE на первом месте была гипотеза 8 - \"*Запустить акцию, дающую скидку на товар в день рождения*\" (*Reach равен 1, по методу RICE - 5 место*). \n",
    "\n",
    "Также перспективной по методу RICE оказалась гипотеза 2 - \"***Добавить блоки рекомендаций товаров на сайт интернет магазина, чтобы повысить конверсию и средний чек заказа***\", которая по методу ICE была лишь на 5-м месте (*Reach равен 8*).  \n",
    "Находящаяся на 2-м месте по методу ICE гипотеза 0 - \"*Добавить два новых канала привлечения трафика, что позволит привлекать на 30% больше пользователей*\", из-за того, что затрагивает небольшое количество пользователей (*Reach равен 3*), по методу RICE оказалась на 3-м месте."
   ]
  },
  {
   "cell_type": "markdown",
   "metadata": {},
   "source": [
    "## Анализ А/В-теста"
   ]
  },
  {
   "cell_type": "markdown",
   "metadata": {},
   "source": [
    "Рассмотрим данные таблицы заказов `orders` и определим:\n",
    "1. Количество сделавших заказ пользователей в группе А и в группе В;\n",
    "2. Наличие пользователей, попавших и в группу А и в группу В."
   ]
  },
  {
   "cell_type": "code",
   "execution_count": 10,
   "metadata": {},
   "outputs": [
    {
     "name": "stdout",
     "output_type": "stream",
     "text": [
      "Общее количество пользователей: 1031\n"
     ]
    },
    {
     "data": {
      "text/html": [
       "<div>\n",
       "<style scoped>\n",
       "    .dataframe tbody tr th:only-of-type {\n",
       "        vertical-align: middle;\n",
       "    }\n",
       "\n",
       "    .dataframe tbody tr th {\n",
       "        vertical-align: top;\n",
       "    }\n",
       "\n",
       "    .dataframe thead th {\n",
       "        text-align: right;\n",
       "    }\n",
       "</style>\n",
       "<table border=\"1\" class=\"dataframe\">\n",
       "  <thead>\n",
       "    <tr style=\"text-align: right;\">\n",
       "      <th></th>\n",
       "      <th>visitorId</th>\n",
       "    </tr>\n",
       "    <tr>\n",
       "      <th>group</th>\n",
       "      <th></th>\n",
       "    </tr>\n",
       "  </thead>\n",
       "  <tbody>\n",
       "    <tr>\n",
       "      <th>A</th>\n",
       "      <td>503</td>\n",
       "    </tr>\n",
       "    <tr>\n",
       "      <th>B</th>\n",
       "      <td>586</td>\n",
       "    </tr>\n",
       "  </tbody>\n",
       "</table>\n",
       "</div>"
      ],
      "text/plain": [
       "       visitorId\n",
       "group           \n",
       "A            503\n",
       "B            586"
      ]
     },
     "execution_count": 10,
     "metadata": {},
     "output_type": "execute_result"
    }
   ],
   "source": [
    "# определим количество пользователей \n",
    "print('Общее количество пользователей:', orders['visitorId'].nunique())\n",
    "orders.groupby('group').agg({'visitorId':'nunique'})"
   ]
  },
  {
   "cell_type": "markdown",
   "metadata": {},
   "source": [
    "Общее количество пользователей и суммарное количество пользователей в разбивке по группам не совпадает, следовательно, есть пользователи, которые попали в обе группы.  \n",
    "Определим пользователей, попавших и в группу А и в группу В, и исключим данных пользователей."
   ]
  },
  {
   "cell_type": "code",
   "execution_count": 11,
   "metadata": {},
   "outputs": [
    {
     "name": "stdout",
     "output_type": "stream",
     "text": [
      "Количество пользователей, попавших в обе группы: 58\n"
     ]
    }
   ],
   "source": [
    "users_to_del = orders.groupby('visitorId').agg({'group': 'nunique'}).query('group == 2')\n",
    "print('Количество пользователей, попавших в обе группы:', len(users_to_del))\n",
    "\n",
    "# исключим пользователей, попавших в обе группы\n",
    "orders = orders.query('visitorId not in @users_to_del.index')"
   ]
  },
  {
   "cell_type": "markdown",
   "metadata": {},
   "source": [
    "Повторно рассмотрим количество сделавших заказ пользователей в разбивке по группам."
   ]
  },
  {
   "cell_type": "code",
   "execution_count": 12,
   "metadata": {
    "scrolled": false
   },
   "outputs": [
    {
     "name": "stdout",
     "output_type": "stream",
     "text": [
      "Общее количество пользователей: 973\n"
     ]
    },
    {
     "data": {
      "text/html": [
       "<div>\n",
       "<style scoped>\n",
       "    .dataframe tbody tr th:only-of-type {\n",
       "        vertical-align: middle;\n",
       "    }\n",
       "\n",
       "    .dataframe tbody tr th {\n",
       "        vertical-align: top;\n",
       "    }\n",
       "\n",
       "    .dataframe thead th {\n",
       "        text-align: right;\n",
       "    }\n",
       "</style>\n",
       "<table border=\"1\" class=\"dataframe\">\n",
       "  <thead>\n",
       "    <tr style=\"text-align: right;\">\n",
       "      <th></th>\n",
       "      <th>visitorId</th>\n",
       "    </tr>\n",
       "    <tr>\n",
       "      <th>group</th>\n",
       "      <th></th>\n",
       "    </tr>\n",
       "  </thead>\n",
       "  <tbody>\n",
       "    <tr>\n",
       "      <th>A</th>\n",
       "      <td>445</td>\n",
       "    </tr>\n",
       "    <tr>\n",
       "      <th>B</th>\n",
       "      <td>528</td>\n",
       "    </tr>\n",
       "  </tbody>\n",
       "</table>\n",
       "</div>"
      ],
      "text/plain": [
       "       visitorId\n",
       "group           \n",
       "A            445\n",
       "B            528"
      ]
     },
     "execution_count": 12,
     "metadata": {},
     "output_type": "execute_result"
    }
   ],
   "source": [
    "print('Общее количество пользователей:', orders['visitorId'].nunique())\n",
    "orders.groupby('group').agg({'visitorId':'nunique'})"
   ]
  },
  {
   "cell_type": "markdown",
   "metadata": {},
   "source": [
    "Для построения графиков соберем **кумулятивные данные.**"
   ]
  },
  {
   "cell_type": "code",
   "execution_count": 13,
   "metadata": {},
   "outputs": [
    {
     "data": {
      "text/html": [
       "<div>\n",
       "<style scoped>\n",
       "    .dataframe tbody tr th:only-of-type {\n",
       "        vertical-align: middle;\n",
       "    }\n",
       "\n",
       "    .dataframe tbody tr th {\n",
       "        vertical-align: top;\n",
       "    }\n",
       "\n",
       "    .dataframe thead th {\n",
       "        text-align: right;\n",
       "    }\n",
       "</style>\n",
       "<table border=\"1\" class=\"dataframe\">\n",
       "  <thead>\n",
       "    <tr style=\"text-align: right;\">\n",
       "      <th></th>\n",
       "      <th>date</th>\n",
       "      <th>group</th>\n",
       "      <th>orders</th>\n",
       "      <th>buyers</th>\n",
       "      <th>revenue</th>\n",
       "      <th>visitors</th>\n",
       "    </tr>\n",
       "  </thead>\n",
       "  <tbody>\n",
       "    <tr>\n",
       "      <th>0</th>\n",
       "      <td>2019-08-01</td>\n",
       "      <td>A</td>\n",
       "      <td>23</td>\n",
       "      <td>19</td>\n",
       "      <td>142779</td>\n",
       "      <td>719</td>\n",
       "    </tr>\n",
       "    <tr>\n",
       "      <th>1</th>\n",
       "      <td>2019-08-01</td>\n",
       "      <td>B</td>\n",
       "      <td>17</td>\n",
       "      <td>17</td>\n",
       "      <td>59758</td>\n",
       "      <td>713</td>\n",
       "    </tr>\n",
       "    <tr>\n",
       "      <th>2</th>\n",
       "      <td>2019-08-02</td>\n",
       "      <td>A</td>\n",
       "      <td>42</td>\n",
       "      <td>36</td>\n",
       "      <td>234381</td>\n",
       "      <td>1338</td>\n",
       "    </tr>\n",
       "    <tr>\n",
       "      <th>3</th>\n",
       "      <td>2019-08-02</td>\n",
       "      <td>B</td>\n",
       "      <td>40</td>\n",
       "      <td>39</td>\n",
       "      <td>221801</td>\n",
       "      <td>1294</td>\n",
       "    </tr>\n",
       "    <tr>\n",
       "      <th>4</th>\n",
       "      <td>2019-08-03</td>\n",
       "      <td>A</td>\n",
       "      <td>66</td>\n",
       "      <td>60</td>\n",
       "      <td>346854</td>\n",
       "      <td>1845</td>\n",
       "    </tr>\n",
       "  </tbody>\n",
       "</table>\n",
       "</div>"
      ],
      "text/plain": [
       "        date group  orders  buyers  revenue  visitors\n",
       "0 2019-08-01     A      23      19   142779       719\n",
       "1 2019-08-01     B      17      17    59758       713\n",
       "2 2019-08-02     A      42      36   234381      1338\n",
       "3 2019-08-02     B      40      39   221801      1294\n",
       "4 2019-08-03     A      66      60   346854      1845"
      ]
     },
     "execution_count": 13,
     "metadata": {},
     "output_type": "execute_result"
    }
   ],
   "source": [
    "# создаем массив уникальных пар значений дат и групп теста\n",
    "datesGroups = orders[['date', 'group']].drop_duplicates()\n",
    "\n",
    "# получаем агрегированные кумулятивные по дням данные о заказах\n",
    "ordersAggregated = datesGroups.apply(\n",
    "    lambda x: orders[\n",
    "        np.logical_and(\n",
    "            orders['date'] <= x['date'], orders['group'] == x['group']\n",
    "        )\n",
    "    ].agg(\n",
    "        {\n",
    "            'date': 'max',\n",
    "            'group': 'max',\n",
    "            'transactionId': 'nunique',\n",
    "            'visitorId': 'nunique',\n",
    "            'revenue': 'sum',\n",
    "        }\n",
    "    ),\n",
    "    axis=1,\n",
    ").sort_values(by=['date', 'group'])\n",
    "\n",
    "# получаем агрегированные кумулятивные по дням данные о посетителях интернет-магазина \n",
    "visitorsAggregated = datesGroups.apply(\n",
    "    lambda x: visitors[\n",
    "        np.logical_and(\n",
    "            visitors['date'] <= x['date'], visitors['group'] == x['group']\n",
    "        )\n",
    "    ].agg({'date': 'max', 'group': 'max', 'visitors': 'sum'}),\n",
    "    axis=1,\n",
    ").sort_values(by=['date', 'group'])\n",
    "\n",
    "# объединяем кумулятивные данные в одной таблице и присваиваем ее столбцам понятные названия\n",
    "cumulativeData = ordersAggregated.merge(\n",
    "    visitorsAggregated, left_on=['date', 'group'], right_on=['date', 'group']\n",
    ")\n",
    "cumulativeData.columns = [\n",
    "    'date',\n",
    "    'group',\n",
    "    'orders',\n",
    "    'buyers',\n",
    "    'revenue',\n",
    "    'visitors',\n",
    "]\n",
    "\n",
    "# датафрейм с кумулятивным количеством заказов и кумулятивной выручкой по дням в группе А\n",
    "cumulativeRevenueA = cumulativeData[cumulativeData['group']=='A'][['date','revenue', 'orders']]\n",
    "\n",
    "# датафрейм с кумулятивным количеством заказов и кумулятивной выручкой по дням в группе B\n",
    "cumulativeRevenueB = cumulativeData[cumulativeData['group']=='B'][['date','revenue', 'orders']]\n",
    "cumulativeData.head(5)"
   ]
  },
  {
   "cell_type": "markdown",
   "metadata": {},
   "source": [
    "### График кумулятивной выручки по группам"
   ]
  },
  {
   "cell_type": "markdown",
   "metadata": {},
   "source": [
    "Построим графики кумулятивной выручки по дням в разбивке по группам."
   ]
  },
  {
   "cell_type": "code",
   "execution_count": 14,
   "metadata": {
    "scrolled": false
   },
   "outputs": [
    {
     "data": {
      "image/png": "[encoded data removed]",
      "text/plain": [
       "<Figure size 864x360 with 1 Axes>"
      ]
     },
     "metadata": {
      "needs_background": "light"
     },
     "output_type": "display_data"
    }
   ],
   "source": [
    "plt.figure(figsize=(12, 5))\n",
    "\n",
    "# Строим график выручки группы А\n",
    "plt.plot(cumulativeRevenueA['date'], cumulativeRevenueA['revenue']/1000, label='A')\n",
    "\n",
    "# Строим график выручки группы B\n",
    "plt.plot(cumulativeRevenueB['date'], cumulativeRevenueB['revenue']/1000, label='B')\n",
    "\n",
    "plt.xlabel('Дата')\n",
    "plt.ylabel('Выручка, в тыс. у.е.')\n",
    "plt.title('График кумулятивной выручки по группам')\n",
    "plt.grid(True)\n",
    "plt.legend();"
   ]
  },
  {
   "cell_type": "markdown",
   "metadata": {},
   "source": [
    "**Выводы**\n",
    "\n",
    "После 17 августа по группе В наблюдается резкий рост, что свидетельствует о влиянии аномально больших заказов."
   ]
  },
  {
   "cell_type": "markdown",
   "metadata": {},
   "source": [
    "### График кумулятивного среднего чека по группам"
   ]
  },
  {
   "cell_type": "code",
   "execution_count": 15,
   "metadata": {},
   "outputs": [
    {
     "data": {
      "image/png": "[encoded data removed]",
      "text/plain": [
       "<Figure size 864x360 with 1 Axes>"
      ]
     },
     "metadata": {
      "needs_background": "light"
     },
     "output_type": "display_data"
    }
   ],
   "source": [
    "plt.figure(figsize=(12, 5))\n",
    "\n",
    "# Строим график выручки группы А\n",
    "plt.plot(cumulativeRevenueA['date'], cumulativeRevenueA['revenue']/cumulativeRevenueA['orders'], label='A')\n",
    "\n",
    "# Строим график выручки группы B\n",
    "plt.plot(cumulativeRevenueB['date'], cumulativeRevenueB['revenue']/cumulativeRevenueB['orders'], label='B')\n",
    "\n",
    "plt.xlabel('Дата')\n",
    "plt.ylabel('Средний чек')\n",
    "plt.title('График кумулятивного среднего чека по группам')\n",
    "plt.grid(True)\n",
    "plt.legend();"
   ]
  },
  {
   "cell_type": "markdown",
   "metadata": {},
   "source": [
    "**Выводы**\n",
    "\n",
    "На этом графике также заметно существенное влияние аномально больших заказов по группе В."
   ]
  },
  {
   "cell_type": "markdown",
   "metadata": {},
   "source": [
    "### График относительного изменения кумулятивного среднего чека группы В к группе А"
   ]
  },
  {
   "cell_type": "code",
   "execution_count": 16,
   "metadata": {},
   "outputs": [
    {
     "data": {
      "image/png": "[encoded data removed]",
      "text/plain": [
       "<Figure size 864x360 with 1 Axes>"
      ]
     },
     "metadata": {
      "needs_background": "light"
     },
     "output_type": "display_data"
    }
   ],
   "source": [
    "# собираем данные в одном датафрейме\n",
    "mergedCumulativeRevenue = (cumulativeRevenueA.merge(cumulativeRevenueB, \n",
    "                                                    left_on='date', right_on='date', how='left', suffixes=['A', 'B']))\n",
    "plt.figure(figsize=(12, 5))\n",
    "\n",
    "# cтроим отношение средних чеков\n",
    "plt.plot(mergedCumulativeRevenue['date'], (mergedCumulativeRevenue['revenueB']/mergedCumulativeRevenue['ordersB'])\\\n",
    "         /(mergedCumulativeRevenue['revenueA']/mergedCumulativeRevenue['ordersA'])-1)\n",
    "\n",
    "plt.title('График относительного изменения кумулятивного среднего чека группы В к группе А')\n",
    "plt.xlabel('Дата')\n",
    "plt.grid(True)\n",
    "\n",
    "# добавляем ось X\n",
    "plt.axhline(y=0, color='grey', linestyle='--');"
   ]
  },
  {
   "cell_type": "markdown",
   "metadata": {},
   "source": [
    "**Выводы**\n",
    "\n",
    "Вследствие теж же аномальных заказов по группе В присутствуют резкие скачки графика относительного изменения кумулятивного среднего чека группы В к группе А."
   ]
  },
  {
   "cell_type": "markdown",
   "metadata": {},
   "source": [
    "### График кумулятивной конверсии по группам"
   ]
  },
  {
   "cell_type": "code",
   "execution_count": 17,
   "metadata": {},
   "outputs": [
    {
     "data": {
      "image/png": "[encoded data removed]",
      "text/plain": [
       "<Figure size 864x360 with 1 Axes>"
      ]
     },
     "metadata": {
      "needs_background": "light"
     },
     "output_type": "display_data"
    }
   ],
   "source": [
    "# считаем кумулятивную конверсию\n",
    "cumulativeData['conversion'] = cumulativeData['orders']/cumulativeData['visitors']\n",
    "\n",
    "# отделяем данные по группе A\n",
    "cumulativeDataA = cumulativeData[cumulativeData['group']=='A']\n",
    "\n",
    "# отделяем данные по группе B\n",
    "cumulativeDataB = cumulativeData[cumulativeData['group']=='B']\n",
    "\n",
    "plt.figure(figsize=(12, 5))\n",
    "\n",
    "# строим графики\n",
    "plt.plot(cumulativeDataA['date'], cumulativeDataA['conversion'], label='A')\n",
    "plt.plot(cumulativeDataB['date'], cumulativeDataB['conversion'], label='B')\n",
    "plt.legend()\n",
    "plt.grid(True)\n",
    "\n",
    "# задаем масштаб осей\n",
    "plt.axis([dt.datetime(2019, 7, 31), dt.datetime(2019, 9, 1), 0, 0.04])\n",
    "\n",
    "plt.title('График кумулятивной конверсии по группам')\n",
    "plt.xlabel('Дата')\n",
    "plt.ylabel('Конверсия');"
   ]
  },
  {
   "cell_type": "markdown",
   "metadata": {},
   "source": [
    "**Выводы**\n",
    "\n",
    "Кумулятивная конверсия группы В выровнялась на уровне около 3%, в то время как конверсия группы А к концу теста составила примерно 2,5%."
   ]
  },
  {
   "cell_type": "markdown",
   "metadata": {},
   "source": [
    "### График относительного изменения кумулятивной конверсии группы B к группе A"
   ]
  },
  {
   "cell_type": "code",
   "execution_count": 18,
   "metadata": {},
   "outputs": [
    {
     "data": {
      "image/png": "[encoded data removed]",
      "text/plain": [
       "<Figure size 864x360 with 1 Axes>"
      ]
     },
     "metadata": {
      "needs_background": "light"
     },
     "output_type": "display_data"
    }
   ],
   "source": [
    "mergedCumulativeConversions = (cumulativeDataA[['date','conversion']].merge(\n",
    "    cumulativeDataB[['date','conversion']], left_on='date', right_on='date', how='left', suffixes=['A', 'B']))\n",
    "\n",
    "plt.figure(figsize=(12, 5))\n",
    "plt.plot(mergedCumulativeConversions['date'], mergedCumulativeConversions['conversionB']\\\n",
    "         /mergedCumulativeConversions['conversionA']-1, label=\"Относительный прирост конверсии группы B относительно группы A\")\n",
    "plt.legend()\n",
    "plt.grid(True)\n",
    "plt.axhline(y=0, color='grey', linestyle='--')\n",
    "plt.axhline(y=0.16, color='green', linestyle='--')\n",
    "plt.axis([dt.datetime(2019, 7, 31), dt.datetime(2019, 9, 1), -0.35, 0.35])\n",
    "plt.title('График относительного изменения кумулятивной конверсии группы B к группе A')\n",
    "plt.xlabel('Дата');"
   ]
  },
  {
   "cell_type": "markdown",
   "metadata": {},
   "source": [
    "**Выводы**\n",
    "\n",
    "В начале теста конверсия группы В была меньше конверсии группы А, но затем быстро перегнав, установилась около прироста в 16% относительно группы А. "
   ]
  },
  {
   "cell_type": "markdown",
   "metadata": {},
   "source": [
    "### Точечный график количества заказов по пользователям"
   ]
  },
  {
   "cell_type": "code",
   "execution_count": 19,
   "metadata": {},
   "outputs": [
    {
     "data": {
      "text/html": [
       "<div>\n",
       "<style scoped>\n",
       "    .dataframe tbody tr th:only-of-type {\n",
       "        vertical-align: middle;\n",
       "    }\n",
       "\n",
       "    .dataframe tbody tr th {\n",
       "        vertical-align: top;\n",
       "    }\n",
       "\n",
       "    .dataframe thead th {\n",
       "        text-align: right;\n",
       "    }\n",
       "</style>\n",
       "<table border=\"1\" class=\"dataframe\">\n",
       "  <thead>\n",
       "    <tr style=\"text-align: right;\">\n",
       "      <th></th>\n",
       "      <th>user_id</th>\n",
       "      <th>orders</th>\n",
       "    </tr>\n",
       "  </thead>\n",
       "  <tbody>\n",
       "    <tr>\n",
       "      <th>908</th>\n",
       "      <td>3967698036</td>\n",
       "      <td>3</td>\n",
       "    </tr>\n",
       "    <tr>\n",
       "      <th>55</th>\n",
       "      <td>249864742</td>\n",
       "      <td>3</td>\n",
       "    </tr>\n",
       "    <tr>\n",
       "      <th>478</th>\n",
       "      <td>2108163459</td>\n",
       "      <td>3</td>\n",
       "    </tr>\n",
       "    <tr>\n",
       "      <th>687</th>\n",
       "      <td>2988190573</td>\n",
       "      <td>3</td>\n",
       "    </tr>\n",
       "    <tr>\n",
       "      <th>890</th>\n",
       "      <td>3908431265</td>\n",
       "      <td>3</td>\n",
       "    </tr>\n",
       "  </tbody>\n",
       "</table>\n",
       "</div>"
      ],
      "text/plain": [
       "        user_id  orders\n",
       "908  3967698036       3\n",
       "55    249864742       3\n",
       "478  2108163459       3\n",
       "687  2988190573       3\n",
       "890  3908431265       3"
      ]
     },
     "execution_count": 19,
     "metadata": {},
     "output_type": "execute_result"
    }
   ],
   "source": [
    "# подсчитаем количество заказов по пользователям\n",
    "orders_by_users = (orders.groupby('visitorId', as_index=False)\n",
    "                 .agg({'transactionId':'nunique'}))\n",
    "orders_by_users.columns = ['user_id', 'orders']\n",
    "orders_by_users.sort_values(by='orders', ascending=False).head()"
   ]
  },
  {
   "cell_type": "code",
   "execution_count": 20,
   "metadata": {},
   "outputs": [
    {
     "data": {
      "image/png": "[encoded data removed]",
      "text/plain": [
       "<Figure size 864x360 with 1 Axes>"
      ]
     },
     "metadata": {
      "needs_background": "light"
     },
     "output_type": "display_data"
    }
   ],
   "source": [
    "# строим точечный график\n",
    "x_values = pd.Series(range(0, len(orders_by_users)))\n",
    "plt.figure(figsize=(12, 5))\n",
    "plt.title('Точечный график количества заказов по пользователям')\n",
    "plt.ylabel('Количество заказов')\n",
    "plt.scatter(x_values, orders_by_users['orders'])\n",
    "plt.yticks(np.arange(min(orders_by_users['orders']), max(orders_by_users['orders'])+1, 1));"
   ]
  },
  {
   "cell_type": "markdown",
   "metadata": {},
   "source": [
    "**Выводы**\n",
    "\n",
    "Есть совсем мало пользователей, сделавших 3 заказа, и небольшое количество пользователей с 2-мя заказами."
   ]
  },
  {
   "cell_type": "markdown",
   "metadata": {},
   "source": [
    "### Определение 95-й и 99-й перцентилей количества заказов на пользователя"
   ]
  },
  {
   "cell_type": "code",
   "execution_count": 21,
   "metadata": {},
   "outputs": [
    {
     "name": "stdout",
     "output_type": "stream",
     "text": [
      "[1. 2.]\n"
     ]
    }
   ],
   "source": [
    "print(np.percentile(orders_by_users['orders'], [95, 99]))"
   ]
  },
  {
   "cell_type": "markdown",
   "metadata": {},
   "source": [
    "**Выводы**\n",
    "\n",
    "Не более 5% пользователей совершили больше 1 заказа (2 или 3 заказа) и не более 1% заказывали 3 раза.  \n",
    "Примем за аномальных пользователей тех, кто совершил 3 заказа. "
   ]
  },
  {
   "cell_type": "markdown",
   "metadata": {},
   "source": [
    "### Точечный график стоимостей заказов"
   ]
  },
  {
   "cell_type": "code",
   "execution_count": 22,
   "metadata": {},
   "outputs": [
    {
     "data": {
      "image/png": "[encoded data removed]",
      "text/plain": [
       "<Figure size 576x288 with 1 Axes>"
      ]
     },
     "metadata": {
      "needs_background": "light"
     },
     "output_type": "display_data"
    }
   ],
   "source": [
    "# строим точечный график\n",
    "x_values = pd.Series(range(0, len(orders['revenue'])))\n",
    "plt.figure(figsize=(8, 4))\n",
    "plt.title('Точечный график стоимостей заказов')\n",
    "plt.ylabel('Стоимость заказа, в тыс. у.е.')\n",
    "plt.grid(True)\n",
    "plt.scatter(x_values, orders['revenue']/1000);"
   ]
  },
  {
   "cell_type": "markdown",
   "metadata": {},
   "source": [
    "Для информативности повторно построим график с исключением аномально большого заказа (более 1 млн. у.е.), приняв верхнюю границу в 250 тыс. у.е."
   ]
  },
  {
   "cell_type": "code",
   "execution_count": 23,
   "metadata": {},
   "outputs": [
    {
     "data": {
      "image/png": "[encoded data removed]",
      "text/plain": [
       "<Figure size 864x432 with 1 Axes>"
      ]
     },
     "metadata": {
      "needs_background": "light"
     },
     "output_type": "display_data"
    }
   ],
   "source": [
    "# строим точечный график для заказов стоимостью менее 1 млн. у.е.\n",
    "x_values = pd.Series(range(0, len(orders.query('revenue < 250000')['revenue'])))\n",
    "plt.figure(figsize=(12, 6))\n",
    "plt.title('Точечный график стоимостей заказов менее 250 тыс. у.е.')\n",
    "plt.ylabel('Стоимость заказа, в тыс. у.е.')\n",
    "plt.grid(True)\n",
    "plt.scatter(x_values, orders.query('revenue < 250000')['revenue']/1000);"
   ]
  },
  {
   "cell_type": "markdown",
   "metadata": {},
   "source": [
    "**Выводы**\n",
    "\n",
    "Помимо аномально большого заказа стоимостью более 1 млн. у.е., есть выбросы в районе 50 - 250 тыс. у.е."
   ]
  },
  {
   "cell_type": "markdown",
   "metadata": {},
   "source": [
    "### Определение 95-й и 99-й перцентилей стоимости заказов"
   ]
  },
  {
   "cell_type": "code",
   "execution_count": 24,
   "metadata": {},
   "outputs": [
    {
     "name": "stdout",
     "output_type": "stream",
     "text": [
      "[26785. 53904.]\n"
     ]
    }
   ],
   "source": [
    "print(np.percentile(orders['revenue'], [95, 99])) "
   ]
  },
  {
   "cell_type": "markdown",
   "metadata": {},
   "source": [
    "**Выводы**\n",
    "\n",
    "Не более 5 % заказов дороже 26 785 у.е. и не более 1 % дороже 53 904 у.е.  \n",
    "Выберем границу для определения аномальных заказов как - заказы дороже 53 904 у.е."
   ]
  },
  {
   "cell_type": "markdown",
   "metadata": {},
   "source": [
    "### Определение статистической значимости различий в конверсии между группами по «сырым» данным"
   ]
  },
  {
   "cell_type": "markdown",
   "metadata": {},
   "source": [
    "Сформулируем гипотезы: \n",
    " - Нулевая: различий в среднем количестве заказов между группами нет;\n",
    " - Альтернативная: различия в среднем между группами есть.\n",
    "\n",
    "Подготовим данные."
   ]
  },
  {
   "cell_type": "code",
   "execution_count": 25,
   "metadata": {
    "scrolled": true
   },
   "outputs": [
    {
     "data": {
      "text/html": [
       "<div>\n",
       "<style scoped>\n",
       "    .dataframe tbody tr th:only-of-type {\n",
       "        vertical-align: middle;\n",
       "    }\n",
       "\n",
       "    .dataframe tbody tr th {\n",
       "        vertical-align: top;\n",
       "    }\n",
       "\n",
       "    .dataframe thead th {\n",
       "        text-align: right;\n",
       "    }\n",
       "</style>\n",
       "<table border=\"1\" class=\"dataframe\">\n",
       "  <thead>\n",
       "    <tr style=\"text-align: right;\">\n",
       "      <th></th>\n",
       "      <th>date</th>\n",
       "      <th>ordersPerDateA</th>\n",
       "      <th>revenuePerDateA</th>\n",
       "      <th>ordersPerDateB</th>\n",
       "      <th>revenuePerDateB</th>\n",
       "      <th>ordersCummulativeA</th>\n",
       "      <th>revenueCummulativeA</th>\n",
       "      <th>ordersCummulativeB</th>\n",
       "      <th>revenueCummulativeB</th>\n",
       "      <th>visitorsPerDateA</th>\n",
       "      <th>visitorsPerDateB</th>\n",
       "      <th>visitorsCummulativeA</th>\n",
       "      <th>visitorsCummulativeB</th>\n",
       "    </tr>\n",
       "  </thead>\n",
       "  <tbody>\n",
       "    <tr>\n",
       "      <th>0</th>\n",
       "      <td>2019-08-01</td>\n",
       "      <td>23</td>\n",
       "      <td>142779</td>\n",
       "      <td>17</td>\n",
       "      <td>59758</td>\n",
       "      <td>23</td>\n",
       "      <td>142779</td>\n",
       "      <td>17</td>\n",
       "      <td>59758</td>\n",
       "      <td>719</td>\n",
       "      <td>713</td>\n",
       "      <td>719</td>\n",
       "      <td>713</td>\n",
       "    </tr>\n",
       "    <tr>\n",
       "      <th>1</th>\n",
       "      <td>2019-08-02</td>\n",
       "      <td>19</td>\n",
       "      <td>91602</td>\n",
       "      <td>23</td>\n",
       "      <td>162043</td>\n",
       "      <td>42</td>\n",
       "      <td>234381</td>\n",
       "      <td>40</td>\n",
       "      <td>221801</td>\n",
       "      <td>619</td>\n",
       "      <td>581</td>\n",
       "      <td>1338</td>\n",
       "      <td>1294</td>\n",
       "    </tr>\n",
       "    <tr>\n",
       "      <th>2</th>\n",
       "      <td>2019-08-03</td>\n",
       "      <td>24</td>\n",
       "      <td>112473</td>\n",
       "      <td>14</td>\n",
       "      <td>67049</td>\n",
       "      <td>66</td>\n",
       "      <td>346854</td>\n",
       "      <td>54</td>\n",
       "      <td>288850</td>\n",
       "      <td>507</td>\n",
       "      <td>509</td>\n",
       "      <td>1845</td>\n",
       "      <td>1803</td>\n",
       "    </tr>\n",
       "    <tr>\n",
       "      <th>3</th>\n",
       "      <td>2019-08-04</td>\n",
       "      <td>11</td>\n",
       "      <td>41176</td>\n",
       "      <td>14</td>\n",
       "      <td>96890</td>\n",
       "      <td>77</td>\n",
       "      <td>388030</td>\n",
       "      <td>68</td>\n",
       "      <td>385740</td>\n",
       "      <td>717</td>\n",
       "      <td>770</td>\n",
       "      <td>2562</td>\n",
       "      <td>2573</td>\n",
       "    </tr>\n",
       "    <tr>\n",
       "      <th>4</th>\n",
       "      <td>2019-08-05</td>\n",
       "      <td>22</td>\n",
       "      <td>86383</td>\n",
       "      <td>21</td>\n",
       "      <td>89908</td>\n",
       "      <td>99</td>\n",
       "      <td>474413</td>\n",
       "      <td>89</td>\n",
       "      <td>475648</td>\n",
       "      <td>756</td>\n",
       "      <td>707</td>\n",
       "      <td>3318</td>\n",
       "      <td>3280</td>\n",
       "    </tr>\n",
       "  </tbody>\n",
       "</table>\n",
       "</div>"
      ],
      "text/plain": [
       "        date  ordersPerDateA  revenuePerDateA  ordersPerDateB  \\\n",
       "0 2019-08-01              23           142779              17   \n",
       "1 2019-08-02              19            91602              23   \n",
       "2 2019-08-03              24           112473              14   \n",
       "3 2019-08-04              11            41176              14   \n",
       "4 2019-08-05              22            86383              21   \n",
       "\n",
       "   revenuePerDateB  ordersCummulativeA  revenueCummulativeA  \\\n",
       "0            59758                  23               142779   \n",
       "1           162043                  42               234381   \n",
       "2            67049                  66               346854   \n",
       "3            96890                  77               388030   \n",
       "4            89908                  99               474413   \n",
       "\n",
       "   ordersCummulativeB  revenueCummulativeB  visitorsPerDateA  \\\n",
       "0                  17                59758               719   \n",
       "1                  40               221801               619   \n",
       "2                  54               288850               507   \n",
       "3                  68               385740               717   \n",
       "4                  89               475648               756   \n",
       "\n",
       "   visitorsPerDateB  visitorsCummulativeA  visitorsCummulativeB  \n",
       "0               713                   719                   713  \n",
       "1               581                  1338                  1294  \n",
       "2               509                  1845                  1803  \n",
       "3               770                  2562                  2573  \n",
       "4               707                  3318                  3280  "
      ]
     },
     "execution_count": 25,
     "metadata": {},
     "output_type": "execute_result"
    }
   ],
   "source": [
    "visitorsADaily = visitors[visitors['group'] == 'A'][['date', 'visitors']]\n",
    "visitorsADaily.columns = ['date', 'visitorsPerDateA']\n",
    "\n",
    "visitorsACummulative = visitorsADaily.apply(\n",
    "    lambda x: visitorsADaily[visitorsADaily['date'] <= x['date']].agg(\n",
    "        {'date': 'max', 'visitorsPerDateA': 'sum'}\n",
    "    ),\n",
    "    axis=1,\n",
    ")\n",
    "visitorsACummulative.columns = ['date', 'visitorsCummulativeA']\n",
    "\n",
    "visitorsBDaily = visitors[visitors['group'] == 'B'][['date', 'visitors']]\n",
    "visitorsBDaily.columns = ['date', 'visitorsPerDateB']\n",
    "\n",
    "visitorsBCummulative = visitorsBDaily.apply(\n",
    "    lambda x: visitorsBDaily[visitorsBDaily['date'] <= x['date']].agg(\n",
    "        {'date': 'max', 'visitorsPerDateB': 'sum'}\n",
    "    ),\n",
    "    axis=1,\n",
    ")\n",
    "visitorsBCummulative.columns = ['date', 'visitorsCummulativeB']\n",
    "\n",
    "ordersADaily = (\n",
    "    orders[orders['group'] == 'A'][['date', 'transactionId', 'visitorId', 'revenue']]\n",
    "    .groupby('date', as_index=False)\n",
    "    .agg({'transactionId': pd.Series.nunique, 'revenue': 'sum'})\n",
    ")\n",
    "ordersADaily.columns = ['date', 'ordersPerDateA', 'revenuePerDateA']\n",
    "\n",
    "ordersACummulative = ordersADaily.apply(\n",
    "    lambda x: ordersADaily[ordersADaily['date'] <= x['date']].agg(\n",
    "        {'date': 'max', 'ordersPerDateA': 'sum', 'revenuePerDateA': 'sum'}\n",
    "    ),\n",
    "    axis=1,\n",
    ").sort_values(by=['date'])\n",
    "ordersACummulative.columns = [\n",
    "    'date',\n",
    "    'ordersCummulativeA',\n",
    "    'revenueCummulativeA',\n",
    "]\n",
    "\n",
    "ordersBDaily = (\n",
    "    orders[orders['group'] == 'B'][['date', 'transactionId', 'visitorId', 'revenue']]\n",
    "    .groupby('date', as_index=False)\n",
    "    .agg({'transactionId': pd.Series.nunique, 'revenue': 'sum'})\n",
    ")\n",
    "ordersBDaily.columns = ['date', 'ordersPerDateB', 'revenuePerDateB']\n",
    "\n",
    "ordersBCummulative = ordersBDaily.apply(\n",
    "    lambda x: ordersBDaily[ordersBDaily['date'] <= x['date']].agg(\n",
    "        {'date': 'max', 'ordersPerDateB': 'sum', 'revenuePerDateB': 'sum'}\n",
    "    ),\n",
    "    axis=1,\n",
    ").sort_values(by=['date'])\n",
    "ordersBCummulative.columns = [\n",
    "    'date',\n",
    "    'ordersCummulativeB',\n",
    "    'revenueCummulativeB',\n",
    "]\n",
    "\n",
    "data = (\n",
    "    ordersADaily.merge(\n",
    "        ordersBDaily, left_on='date', right_on='date', how='left'\n",
    "    )\n",
    "    .merge(ordersACummulative, left_on='date', right_on='date', how='left')\n",
    "    .merge(ordersBCummulative, left_on='date', right_on='date', how='left')\n",
    "    .merge(visitorsADaily, left_on='date', right_on='date', how='left')\n",
    "    .merge(visitorsBDaily, left_on='date', right_on='date', how='left')\n",
    "    .merge(visitorsACummulative, left_on='date', right_on='date', how='left')\n",
    "    .merge(visitorsBCummulative, left_on='date', right_on='date', how='left')\n",
    ")\n",
    "\n",
    "data.head(5)"
   ]
  },
  {
   "cell_type": "markdown",
   "metadata": {},
   "source": [
    "Объявим переменные c данными о конверсии (количества заказов) по группам.  \n",
    "Посчитаем статистическую значимость различия средней конверсии между группами применив тест Манна-Уитни."
   ]
  },
  {
   "cell_type": "code",
   "execution_count": 26,
   "metadata": {},
   "outputs": [
    {
     "name": "stdout",
     "output_type": "stream",
     "text": [
      "p-value: 0.011\n",
      "Относительный прирост среднего количества заказов группы В: 0.160\n"
     ]
    }
   ],
   "source": [
    "# объявим переменные с данными \n",
    "ordersByUsersA = (\n",
    "    orders[orders['group'] == 'A']\n",
    "    .groupby('visitorId', as_index=False)\n",
    "    .agg({'transactionId': pd.Series.nunique})\n",
    ")\n",
    "ordersByUsersA.columns = ['userId', 'orders']\n",
    "\n",
    "ordersByUsersB = (\n",
    "    orders[orders['group'] == 'B']\n",
    "    .groupby('visitorId', as_index=False)\n",
    "    .agg({'transactionId': pd.Series.nunique})\n",
    ")\n",
    "ordersByUsersB.columns = ['userId', 'orders'] \n",
    "\n",
    "sample_a = pd.concat(\n",
    "    [\n",
    "        ordersByUsersA['orders'],\n",
    "        pd.Series(\n",
    "            0,\n",
    "            index=np.arange(\n",
    "                data['visitorsPerDateA'].sum() - len(ordersByUsersA['orders'])\n",
    "            ),\n",
    "            name='orders',\n",
    "        ),\n",
    "    ],\n",
    "    axis=0,\n",
    ")\n",
    "\n",
    "sample_b = pd.concat(\n",
    "    [\n",
    "        ordersByUsersB['orders'],\n",
    "        pd.Series(\n",
    "            0,\n",
    "            index=np.arange(\n",
    "                data['visitorsPerDateB'].sum() - len(ordersByUsersB['orders'])\n",
    "            ),\n",
    "            name='orders',\n",
    "        ),\n",
    "    ],\n",
    "    axis=0,\n",
    ")\n",
    "\n",
    "print(\"p-value: {0:.3f}\".format(stats.mannwhitneyu(sample_a, sample_b)[1]))\n",
    "print(\"Относительный прирост среднего количества заказов группы В: {0:.3f}\".format(sample_b.mean() / sample_a.mean() - 1))"
   ]
  },
  {
   "cell_type": "markdown",
   "metadata": {},
   "source": [
    "**Выводы**\n",
    "\n",
    "По \"сырым\" данным есть статистически значимые различия, относительный прирост среднего количества заказов группы В к конверсии группы А равен 16 %. "
   ]
  },
  {
   "cell_type": "markdown",
   "metadata": {},
   "source": [
    "### Определение статистической значимости различий в среднем чеке заказа между группами по «сырым» данным"
   ]
  },
  {
   "cell_type": "markdown",
   "metadata": {},
   "source": [
    "Сформулируем гипотезы: \n",
    " - Нулевая: различий в среднем чеке между группами нет;\n",
    " - Альтернативная: различия в среднем чеке между группами есть.\n",
    " \n",
    "Посчитаем статистическую значимость различия в среднем чеке между группами по \"сырым\" данным применив тест Манна-Уитни."
   ]
  },
  {
   "cell_type": "code",
   "execution_count": 27,
   "metadata": {},
   "outputs": [
    {
     "name": "stdout",
     "output_type": "stream",
     "text": [
      "p-value: 0.829\n",
      "Относительный прирост среднего чека группы В: 0.287\n"
     ]
    }
   ],
   "source": [
    "print('p-value: {0:.3f}'.format(stats.mannwhitneyu(orders[orders['group']=='A']['revenue'], \\\n",
    "                                          orders[orders['group']=='B']['revenue'])[1]))\n",
    "print('Относительный прирост среднего чека группы В: {0:.3f}'.format(orders[orders['group']=='B']['revenue'].mean()\\\n",
    "                       /orders[orders['group']=='A']['revenue'].mean()-1))"
   ]
  },
  {
   "cell_type": "markdown",
   "metadata": {},
   "source": [
    "**Выводы**\n",
    "\n",
    "Статистически значимых различий в среднем чеке между группами нет, но средний чек группы В значительно больше среднего чека группы А. "
   ]
  },
  {
   "cell_type": "markdown",
   "metadata": {},
   "source": [
    "### Определение статистической значимости различий в конверсии между группами по «очищенным» данным"
   ]
  },
  {
   "cell_type": "markdown",
   "metadata": {},
   "source": [
    "Произведем \"очистку\" данных от аномалий."
   ]
  },
  {
   "cell_type": "code",
   "execution_count": 28,
   "metadata": {},
   "outputs": [
    {
     "name": "stdout",
     "output_type": "stream",
     "text": [
      "Количество аномальных пользователей: 16\n"
     ]
    },
    {
     "data": {
      "text/html": [
       "<div>\n",
       "<style scoped>\n",
       "    .dataframe tbody tr th:only-of-type {\n",
       "        vertical-align: middle;\n",
       "    }\n",
       "\n",
       "    .dataframe tbody tr th {\n",
       "        vertical-align: top;\n",
       "    }\n",
       "\n",
       "    .dataframe thead th {\n",
       "        text-align: right;\n",
       "    }\n",
       "</style>\n",
       "<table border=\"1\" class=\"dataframe\">\n",
       "  <thead>\n",
       "    <tr style=\"text-align: right;\">\n",
       "      <th></th>\n",
       "      <th>0</th>\n",
       "    </tr>\n",
       "  </thead>\n",
       "  <tbody>\n",
       "    <tr>\n",
       "      <th>1099</th>\n",
       "      <td>148427295</td>\n",
       "    </tr>\n",
       "    <tr>\n",
       "      <th>33</th>\n",
       "      <td>249864742</td>\n",
       "    </tr>\n",
       "    <tr>\n",
       "      <th>58</th>\n",
       "      <td>611059232</td>\n",
       "    </tr>\n",
       "    <tr>\n",
       "      <th>949</th>\n",
       "      <td>887908475</td>\n",
       "    </tr>\n",
       "    <tr>\n",
       "      <th>744</th>\n",
       "      <td>888512513</td>\n",
       "    </tr>\n",
       "  </tbody>\n",
       "</table>\n",
       "</div>"
      ],
      "text/plain": [
       "              0\n",
       "1099  148427295\n",
       "33    249864742\n",
       "58    611059232\n",
       "949   887908475\n",
       "744   888512513"
      ]
     },
     "execution_count": 28,
     "metadata": {},
     "output_type": "execute_result"
    }
   ],
   "source": [
    "usersWithManyOrders = pd.concat(\n",
    "    [\n",
    "        ordersByUsersA[ordersByUsersA['orders'] > 2]['userId'],\n",
    "        ordersByUsersB[ordersByUsersB['orders'] > 2]['userId'],\n",
    "    ],\n",
    "    axis=0,\n",
    ")\n",
    "usersWithExpensiveOrders = orders[orders['revenue'] > 53904]['visitorId']\n",
    "abnormalUsers = (\n",
    "    pd.concat([usersWithManyOrders, usersWithExpensiveOrders], axis=0)\n",
    "    .drop_duplicates()\n",
    "    .sort_values()\n",
    ")\n",
    "\n",
    "print('Количество аномальных пользователей:', abnormalUsers.shape[0])\n",
    "abnormalUsers.head(5).to_frame()"
   ]
  },
  {
   "cell_type": "markdown",
   "metadata": {},
   "source": [
    "Подготовим \"очищенные данные\" и посчитаем статистическую значимость различий в среднем количестве заказов между группами теста с применением критерия Манна-Уитни."
   ]
  },
  {
   "cell_type": "code",
   "execution_count": 29,
   "metadata": {},
   "outputs": [
    {
     "name": "stdout",
     "output_type": "stream",
     "text": [
      "p-value: 0.007\n",
      "Относительный прирост среднего количества заказов группы В: 0.189\n"
     ]
    }
   ],
   "source": [
    "sampleAFiltered = pd.concat(\n",
    "    [\n",
    "        ordersByUsersA[\n",
    "            np.logical_not(ordersByUsersA['userId'].isin(abnormalUsers))\n",
    "        ]['orders'],\n",
    "        pd.Series(\n",
    "            0,\n",
    "            index=np.arange(\n",
    "                data['visitorsPerDateA'].sum() - len(ordersByUsersA['orders'])\n",
    "            ),\n",
    "            name='orders',\n",
    "        ),\n",
    "    ],\n",
    "    axis=0,\n",
    ")\n",
    "\n",
    "sampleBFiltered = pd.concat(\n",
    "    [\n",
    "        ordersByUsersB[\n",
    "            np.logical_not(ordersByUsersB['userId'].isin(abnormalUsers))\n",
    "        ]['orders'],\n",
    "        pd.Series(\n",
    "            0,\n",
    "            index=np.arange(\n",
    "                data['visitorsPerDateB'].sum() - len(ordersByUsersB['orders'])\n",
    "            ),\n",
    "            name='orders',\n",
    "        ),\n",
    "    ],\n",
    "    axis=0,\n",
    ")\n",
    "\n",
    "print('p-value: {0:.3f}'.format(stats.mannwhitneyu(sampleAFiltered, sampleBFiltered)[1]))\n",
    "print('Относительный прирост среднего количества заказов группы В: {0:.3f}'.format(sampleBFiltered.mean()/sampleAFiltered.mean()-1))"
   ]
  },
  {
   "cell_type": "markdown",
   "metadata": {},
   "source": [
    "### Определение статистической значимости различий в среднем чеке заказа между группами по «очищенным» данным"
   ]
  },
  {
   "cell_type": "markdown",
   "metadata": {},
   "source": [
    "Посчитаем статистическую значимость различия в среднем чеке между группами по \"очищенным\" данным применив тест Манна-Уитни."
   ]
  },
  {
   "cell_type": "code",
   "execution_count": 30,
   "metadata": {},
   "outputs": [
    {
     "name": "stdout",
     "output_type": "stream",
     "text": [
      "p-value: 0.788\n",
      "Относительный прирост среднего чека группы В: -0.032\n"
     ]
    }
   ],
   "source": [
    "print(\n",
    "    'p-value: {0:.3f}'.format(\n",
    "        stats.mannwhitneyu(\n",
    "            orders[\n",
    "                np.logical_and(\n",
    "                    orders['group'] == 'A',\n",
    "                    np.logical_not(orders['visitorId'].isin(abnormalUsers)),\n",
    "                )\n",
    "            ]['revenue'],\n",
    "            orders[\n",
    "                np.logical_and(\n",
    "                    orders['group'] == 'B',\n",
    "                    np.logical_not(orders['visitorId'].isin(abnormalUsers)),\n",
    "                )\n",
    "            ]['revenue'],\n",
    "        )[1]\n",
    "    )\n",
    ")\n",
    "\n",
    "print(\n",
    "    \"Относительный прирост среднего чека группы В: {0:.3f}\".format(\n",
    "        orders[\n",
    "            np.logical_and(\n",
    "                orders['group'] == 'B',\n",
    "                np.logical_not(orders['visitorId'].isin(abnormalUsers)),\n",
    "            )\n",
    "        ]['revenue'].mean()\n",
    "        / orders[\n",
    "            np.logical_and(\n",
    "                orders['group'] == 'A',\n",
    "                np.logical_not(orders['visitorId'].isin(abnormalUsers)),\n",
    "            )\n",
    "        ]['revenue'].mean()\n",
    "        - 1\n",
    "    )\n",
    ")"
   ]
  },
  {
   "cell_type": "markdown",
   "metadata": {},
   "source": [
    "**Выводы**\n",
    "\n",
    "По \"очищенным\" данным статистически значимых различий в среднем чеке между группами по-прежнему нет, но из-за исключения выбросов с аномально дорогими заказами относительный средний чек группы В почти приравнялся со средним чеком группы А. "
   ]
  },
  {
   "cell_type": "markdown",
   "metadata": {},
   "source": [
    "## Принятие решения по результатам теста"
   ]
  },
  {
   "cell_type": "markdown",
   "metadata": {},
   "source": [
    "Повторно построим графики относительного изменения кумулятивного среднего чека и относительного изменения кумулятивной конверсии группы В к группе А, предварительно подготовив \"очищенные\" данные."
   ]
  },
  {
   "cell_type": "code",
   "execution_count": 31,
   "metadata": {
    "scrolled": true
   },
   "outputs": [
    {
     "data": {
      "image/png": "[encoded data removed]",
      "text/plain": [
       "<Figure size 864x360 with 1 Axes>"
      ]
     },
     "metadata": {
      "needs_background": "light"
     },
     "output_type": "display_data"
    }
   ],
   "source": [
    "orders = orders.query('index not in @abnormalUsers.index')\n",
    "\n",
    "# создаем массив уникальных пар значений дат и групп теста\n",
    "datesGroups = orders[['date', 'group']].drop_duplicates()\n",
    "\n",
    "# получаем агрегированные кумулятивные по дням данные о заказах\n",
    "ordersAggregated = datesGroups.apply(\n",
    "    lambda x: orders[\n",
    "        np.logical_and(\n",
    "            orders['date'] <= x['date'], orders['group'] == x['group']\n",
    "        )\n",
    "    ].agg(\n",
    "        {\n",
    "            'date': 'max',\n",
    "            'group': 'max',\n",
    "            'transactionId': 'nunique',\n",
    "            'visitorId': 'nunique',\n",
    "            'revenue': 'sum',\n",
    "        }\n",
    "    ),\n",
    "    axis=1,\n",
    ").sort_values(by=['date', 'group'])\n",
    "\n",
    "# получаем агрегированные кумулятивные по дням данные о посетителях интернет-магазина \n",
    "visitorsAggregated = datesGroups.apply(\n",
    "    lambda x: visitors[\n",
    "        np.logical_and(\n",
    "            visitors['date'] <= x['date'], visitors['group'] == x['group']\n",
    "        )\n",
    "    ].agg({'date': 'max', 'group': 'max', 'visitors': 'sum'}),\n",
    "    axis=1,\n",
    ").sort_values(by=['date', 'group'])\n",
    "\n",
    "# объединяем кумулятивные данные в одной таблице и присваиваем ее столбцам понятные названия\n",
    "cumulativeData = ordersAggregated.merge(\n",
    "    visitorsAggregated, left_on=['date', 'group'], right_on=['date', 'group']\n",
    ")\n",
    "cumulativeData.columns = [\n",
    "    'date',\n",
    "    'group',\n",
    "    'orders',\n",
    "    'buyers',\n",
    "    'revenue',\n",
    "    'visitors',\n",
    "]\n",
    "\n",
    "# датафрейм с кумулятивным количеством заказов и кумулятивной выручкой по дням в группе А\n",
    "cumulativeRevenueA = cumulativeData[cumulativeData['group']=='A'][['date','revenue', 'orders']]\n",
    "\n",
    "# датафрейм с кумулятивным количеством заказов и кумулятивной выручкой по дням в группе B\n",
    "cumulativeRevenueB = cumulativeData[cumulativeData['group']=='B'][['date','revenue', 'orders']]\n",
    "\n",
    "# собираем данные в одном датафрейме\n",
    "mergedCumulativeRevenue = (cumulativeRevenueA.merge(cumulativeRevenueB, \n",
    "                                                    left_on='date', right_on='date', how='left', suffixes=['A', 'B']))\n",
    "plt.figure(figsize=(12, 5))\n",
    "\n",
    "# cтроим отношение средних чеков\n",
    "plt.plot(mergedCumulativeRevenue['date'], (mergedCumulativeRevenue['revenueB']/mergedCumulativeRevenue['ordersB'])\\\n",
    "         /(mergedCumulativeRevenue['revenueA']/mergedCumulativeRevenue['ordersA'])-1)\n",
    "\n",
    "plt.title('График относительного изменения кумулятивного среднего чека группы В к группе А')\n",
    "plt.xlabel('Дата')\n",
    "plt.grid(True)\n",
    "\n",
    "# добавляем ось X\n",
    "plt.axhline(y=0, color='grey', linestyle='--');"
   ]
  },
  {
   "cell_type": "code",
   "execution_count": 32,
   "metadata": {},
   "outputs": [
    {
     "data": {
      "image/png": "[encoded data removed]",
      "text/plain": [
       "<Figure size 864x360 with 1 Axes>"
      ]
     },
     "metadata": {
      "needs_background": "light"
     },
     "output_type": "display_data"
    }
   ],
   "source": [
    "mergedCumulativeConversions = (cumulativeDataA[['date','conversion']].merge(\n",
    "    cumulativeDataB[['date','conversion']], left_on='date', right_on='date', how='left', suffixes=['A', 'B']))\n",
    "\n",
    "plt.figure(figsize=(12, 5))\n",
    "plt.plot(mergedCumulativeConversions['date'], mergedCumulativeConversions['conversionB']\\\n",
    "         /mergedCumulativeConversions['conversionA']-1, label=\"Относительный прирост конверсии группы B относительно группы A\")\n",
    "plt.legend()\n",
    "plt.grid(True)\n",
    "plt.axhline(y=0, color='grey', linestyle='--')\n",
    "plt.axhline(y=0.16, color='green', linestyle='--')\n",
    "plt.axis([dt.datetime(2019, 7, 31), dt.datetime(2019, 9, 1), -0.35, 0.35])\n",
    "plt.title('График относительного изменения кумулятивной конверсии группы B к группе A')\n",
    "plt.xlabel('Дата');"
   ]
  },
  {
   "cell_type": "markdown",
   "metadata": {},
   "source": [
    "Результаты теста:\n",
    "* Нет статистически значимого различия по среднему чеку между группами ни по \"сырым\" (группа В +28,7%), ни по данным после фильтрации аномалий (группа В -3%);\n",
    "* Есть статистически значимое различие по среднему количеству заказов (конверсии) по \"сырым\" (группа В +16%) и по данным после фильтрации аномалий (группа В +18,9%);\n",
    "* График различия среднего чека говорит о том, что средний чек группы В примерно равен среднему чеку группы А;\n",
    "* График различия конверсии между группами сообщает, что результаты группы В лучше группы А и нет тенденции к ухудшению.\n",
    "\n",
    "**Исходя из обнаруженных фактов, тест следует остановить и зафиксировать победу группы В ввиду большего среднего количества заказов.**"
   ]
  }
 ],
 "metadata": {
  "ExecuteTimeLog": [
   {
    "duration": 991,
    "start_time": "2022-07-20T06:00:58.026Z"
   },
   {
    "duration": 75,
    "start_time": "2022-07-20T06:26:06.880Z"
   },
   {
    "duration": 85,
    "start_time": "2022-07-20T06:32:10.249Z"
   },
   {
    "duration": 82,
    "start_time": "2022-07-20T06:32:22.127Z"
   },
   {
    "duration": 85,
    "start_time": "2022-07-20T06:33:13.922Z"
   },
   {
    "duration": 100,
    "start_time": "2022-07-20T06:33:31.600Z"
   },
   {
    "duration": 101,
    "start_time": "2022-07-20T06:34:31.898Z"
   },
   {
    "duration": 101,
    "start_time": "2022-07-20T06:34:49.945Z"
   },
   {
    "duration": 103,
    "start_time": "2022-07-20T06:35:12.962Z"
   },
   {
    "duration": 102,
    "start_time": "2022-07-20T06:35:21.577Z"
   },
   {
    "duration": 64,
    "start_time": "2022-07-20T06:38:13.458Z"
   },
   {
    "duration": 105,
    "start_time": "2022-07-20T06:38:31.934Z"
   },
   {
    "duration": 101,
    "start_time": "2022-07-20T06:39:10.321Z"
   },
   {
    "duration": 6,
    "start_time": "2022-07-20T07:36:41.753Z"
   },
   {
    "duration": 835,
    "start_time": "2022-07-20T07:42:30.939Z"
   },
   {
    "duration": 4,
    "start_time": "2022-07-20T07:44:08.457Z"
   },
   {
    "duration": 13,
    "start_time": "2022-07-20T07:44:14.881Z"
   },
   {
    "duration": 9,
    "start_time": "2022-07-20T07:51:16.872Z"
   },
   {
    "duration": 12,
    "start_time": "2022-07-20T07:51:54.249Z"
   },
   {
    "duration": 14,
    "start_time": "2022-07-20T07:53:19.137Z"
   },
   {
    "duration": 10,
    "start_time": "2022-07-20T07:57:35.288Z"
   },
   {
    "duration": 1155,
    "start_time": "2022-07-20T07:57:55.499Z"
   },
   {
    "duration": 860,
    "start_time": "2022-07-20T07:58:21.850Z"
   },
   {
    "duration": 6,
    "start_time": "2022-07-20T08:02:39.313Z"
   },
   {
    "duration": 4,
    "start_time": "2022-07-20T08:02:55.554Z"
   },
   {
    "duration": 4,
    "start_time": "2022-07-20T08:05:50.361Z"
   },
   {
    "duration": 5,
    "start_time": "2022-07-20T08:05:59.745Z"
   },
   {
    "duration": 4,
    "start_time": "2022-07-20T08:08:53.713Z"
   },
   {
    "duration": 4,
    "start_time": "2022-07-20T08:13:07.665Z"
   },
   {
    "duration": 563,
    "start_time": "2022-07-20T08:36:30.633Z"
   },
   {
    "duration": 3,
    "start_time": "2022-07-20T08:36:40.348Z"
   },
   {
    "duration": 7,
    "start_time": "2022-07-20T08:36:44.792Z"
   },
   {
    "duration": 13,
    "start_time": "2022-07-20T08:36:49.049Z"
   },
   {
    "duration": 4,
    "start_time": "2022-07-20T08:36:52.264Z"
   },
   {
    "duration": 11,
    "start_time": "2022-07-20T08:36:54.649Z"
   },
   {
    "duration": 1405,
    "start_time": "2022-07-21T02:11:06.685Z"
   },
   {
    "duration": 2,
    "start_time": "2022-07-21T02:11:08.092Z"
   },
   {
    "duration": 9,
    "start_time": "2022-07-21T02:11:08.096Z"
   },
   {
    "duration": 10,
    "start_time": "2022-07-21T02:11:08.107Z"
   },
   {
    "duration": 3,
    "start_time": "2022-07-21T02:11:08.119Z"
   },
   {
    "duration": 26,
    "start_time": "2022-07-21T02:11:08.123Z"
   },
   {
    "duration": 7,
    "start_time": "2022-07-21T02:11:08.150Z"
   },
   {
    "duration": 3,
    "start_time": "2022-07-21T02:11:28.139Z"
   },
   {
    "duration": 110,
    "start_time": "2022-07-21T02:11:29.963Z"
   },
   {
    "duration": 6,
    "start_time": "2022-07-21T02:43:36.839Z"
   },
   {
    "duration": 11,
    "start_time": "2022-07-21T02:43:47.245Z"
   },
   {
    "duration": 6,
    "start_time": "2022-07-21T02:43:56.717Z"
   },
   {
    "duration": 11,
    "start_time": "2022-07-21T02:43:59.125Z"
   },
   {
    "duration": 59,
    "start_time": "2022-07-21T02:44:22.542Z"
   },
   {
    "duration": 287,
    "start_time": "2022-07-21T02:44:34.598Z"
   },
   {
    "duration": 196,
    "start_time": "2022-07-21T02:44:50.446Z"
   },
   {
    "duration": 1018,
    "start_time": "2022-07-21T02:45:10.917Z"
   },
   {
    "duration": 157,
    "start_time": "2022-07-21T02:45:13.324Z"
   },
   {
    "duration": 3,
    "start_time": "2022-07-21T02:45:17.691Z"
   },
   {
    "duration": 11,
    "start_time": "2022-07-21T02:45:20.091Z"
   },
   {
    "duration": 11,
    "start_time": "2022-07-21T02:45:23.067Z"
   },
   {
    "duration": 274,
    "start_time": "2022-07-21T02:45:48.115Z"
   },
   {
    "duration": 10,
    "start_time": "2022-07-21T02:45:55.258Z"
   },
   {
    "duration": 6,
    "start_time": "2022-07-21T02:47:09.667Z"
   },
   {
    "duration": 10,
    "start_time": "2022-07-21T02:47:13.699Z"
   },
   {
    "duration": 6,
    "start_time": "2022-07-21T02:47:38.540Z"
   },
   {
    "duration": 11,
    "start_time": "2022-07-21T02:47:45.657Z"
   },
   {
    "duration": 8,
    "start_time": "2022-07-21T02:47:52.115Z"
   },
   {
    "duration": 13,
    "start_time": "2022-07-21T02:49:26.515Z"
   },
   {
    "duration": 12,
    "start_time": "2022-07-21T02:50:13.395Z"
   },
   {
    "duration": 11,
    "start_time": "2022-07-21T02:50:50.411Z"
   },
   {
    "duration": 4,
    "start_time": "2022-07-21T02:51:07.819Z"
   },
   {
    "duration": 5,
    "start_time": "2022-07-21T02:51:18.770Z"
   },
   {
    "duration": 4,
    "start_time": "2022-07-21T02:51:28.731Z"
   },
   {
    "duration": 10,
    "start_time": "2022-07-21T03:02:01.395Z"
   },
   {
    "duration": 8,
    "start_time": "2022-07-21T03:02:38.866Z"
   },
   {
    "duration": 11,
    "start_time": "2022-07-21T03:02:43.075Z"
   },
   {
    "duration": 12,
    "start_time": "2022-07-21T03:03:10.227Z"
   },
   {
    "duration": 815,
    "start_time": "2022-07-21T03:09:44.028Z"
   },
   {
    "duration": 10,
    "start_time": "2022-07-21T03:09:50.852Z"
   },
   {
    "duration": 11,
    "start_time": "2022-07-21T03:10:25.235Z"
   },
   {
    "duration": 11,
    "start_time": "2022-07-21T03:10:37.299Z"
   },
   {
    "duration": 9,
    "start_time": "2022-07-21T03:11:05.012Z"
   },
   {
    "duration": 10,
    "start_time": "2022-07-21T03:11:09.468Z"
   },
   {
    "duration": 10,
    "start_time": "2022-07-21T03:13:43.804Z"
   },
   {
    "duration": 13,
    "start_time": "2022-07-21T03:13:56.964Z"
   },
   {
    "duration": 9,
    "start_time": "2022-07-21T03:14:13.260Z"
   },
   {
    "duration": 14,
    "start_time": "2022-07-21T03:15:26.597Z"
   },
   {
    "duration": 7,
    "start_time": "2022-07-21T03:15:31.772Z"
   },
   {
    "duration": 9,
    "start_time": "2022-07-21T03:16:34.652Z"
   },
   {
    "duration": 28,
    "start_time": "2022-07-21T03:21:55.275Z"
   },
   {
    "duration": 15,
    "start_time": "2022-07-21T03:22:02.276Z"
   },
   {
    "duration": 9,
    "start_time": "2022-07-21T03:22:25.844Z"
   },
   {
    "duration": 8,
    "start_time": "2022-07-21T03:23:06.589Z"
   },
   {
    "duration": 22,
    "start_time": "2022-07-21T03:24:21.860Z"
   },
   {
    "duration": 22,
    "start_time": "2022-07-21T03:24:30.884Z"
   },
   {
    "duration": 8,
    "start_time": "2022-07-21T03:24:41.972Z"
   },
   {
    "duration": 21,
    "start_time": "2022-07-21T03:26:20.725Z"
   },
   {
    "duration": 771,
    "start_time": "2022-07-21T03:26:53.220Z"
   },
   {
    "duration": 6,
    "start_time": "2022-07-21T03:27:05.780Z"
   },
   {
    "duration": 7,
    "start_time": "2022-07-21T03:27:31.276Z"
   },
   {
    "duration": 7,
    "start_time": "2022-07-21T03:27:38.117Z"
   },
   {
    "duration": 5,
    "start_time": "2022-07-21T03:33:11.276Z"
   },
   {
    "duration": 7,
    "start_time": "2022-07-21T03:33:13.597Z"
   },
   {
    "duration": 1052,
    "start_time": "2022-07-21T05:24:18.570Z"
   },
   {
    "duration": 181,
    "start_time": "2022-07-21T05:24:19.624Z"
   },
   {
    "duration": 3,
    "start_time": "2022-07-21T05:24:19.806Z"
   },
   {
    "duration": 10,
    "start_time": "2022-07-21T05:24:19.812Z"
   },
   {
    "duration": 11,
    "start_time": "2022-07-21T05:24:19.824Z"
   },
   {
    "duration": 20,
    "start_time": "2022-07-21T05:24:19.836Z"
   },
   {
    "duration": 4,
    "start_time": "2022-07-21T05:24:19.858Z"
   },
   {
    "duration": 14,
    "start_time": "2022-07-21T05:24:19.864Z"
   },
   {
    "duration": 8,
    "start_time": "2022-07-21T05:24:19.879Z"
   },
   {
    "duration": 3,
    "start_time": "2022-07-21T05:24:49.735Z"
   },
   {
    "duration": 12,
    "start_time": "2022-07-21T05:27:10.127Z"
   },
   {
    "duration": 10,
    "start_time": "2022-07-21T05:27:27.024Z"
   },
   {
    "duration": 9,
    "start_time": "2022-07-21T05:32:08.128Z"
   },
   {
    "duration": 10,
    "start_time": "2022-07-21T05:32:23.791Z"
   },
   {
    "duration": 11,
    "start_time": "2022-07-21T05:33:37.032Z"
   },
   {
    "duration": 4,
    "start_time": "2022-07-21T05:34:11.780Z"
   },
   {
    "duration": 10,
    "start_time": "2022-07-21T05:34:19.295Z"
   },
   {
    "duration": 10,
    "start_time": "2022-07-21T05:34:27.816Z"
   },
   {
    "duration": 10,
    "start_time": "2022-07-21T05:37:43.728Z"
   },
   {
    "duration": 8,
    "start_time": "2022-07-21T05:38:09.286Z"
   },
   {
    "duration": 6,
    "start_time": "2022-07-21T05:38:41.461Z"
   },
   {
    "duration": 11,
    "start_time": "2022-07-21T05:39:50.201Z"
   },
   {
    "duration": 9,
    "start_time": "2022-07-21T05:40:37.537Z"
   },
   {
    "duration": 10,
    "start_time": "2022-07-21T05:44:39.792Z"
   },
   {
    "duration": 10,
    "start_time": "2022-07-21T05:44:57.914Z"
   },
   {
    "duration": 10,
    "start_time": "2022-07-21T05:45:44.497Z"
   },
   {
    "duration": 6,
    "start_time": "2022-07-21T05:50:52.699Z"
   },
   {
    "duration": 12,
    "start_time": "2022-07-21T05:51:02.494Z"
   },
   {
    "duration": 140,
    "start_time": "2022-07-21T05:53:59.632Z"
   },
   {
    "duration": 120,
    "start_time": "2022-07-21T05:54:52.873Z"
   },
   {
    "duration": 32,
    "start_time": "2022-07-21T05:56:04.156Z"
   },
   {
    "duration": 36,
    "start_time": "2022-07-21T05:57:05.035Z"
   },
   {
    "duration": 4,
    "start_time": "2022-07-21T06:05:28.933Z"
   },
   {
    "duration": 27,
    "start_time": "2022-07-21T06:13:04.189Z"
   },
   {
    "duration": 33,
    "start_time": "2022-07-21T06:15:26.140Z"
   },
   {
    "duration": 12,
    "start_time": "2022-07-21T06:16:30.315Z"
   },
   {
    "duration": 277,
    "start_time": "2022-07-21T06:17:00.277Z"
   },
   {
    "duration": 266,
    "start_time": "2022-07-21T06:17:17.476Z"
   },
   {
    "duration": 298,
    "start_time": "2022-07-21T06:18:18.462Z"
   },
   {
    "duration": 239,
    "start_time": "2022-07-21T06:18:58.070Z"
   },
   {
    "duration": 202,
    "start_time": "2022-07-21T06:19:08.808Z"
   },
   {
    "duration": 266,
    "start_time": "2022-07-21T06:23:58.359Z"
   },
   {
    "duration": 260,
    "start_time": "2022-07-21T06:24:36.777Z"
   },
   {
    "duration": 155,
    "start_time": "2022-07-21T06:24:42.977Z"
   },
   {
    "duration": 284,
    "start_time": "2022-07-21T06:25:21.858Z"
   },
   {
    "duration": 5,
    "start_time": "2022-07-21T06:30:45.576Z"
   },
   {
    "duration": 5,
    "start_time": "2022-07-21T06:30:51.091Z"
   },
   {
    "duration": 154,
    "start_time": "2022-07-21T06:31:27.857Z"
   },
   {
    "duration": 158,
    "start_time": "2022-07-21T06:31:44.417Z"
   },
   {
    "duration": 153,
    "start_time": "2022-07-21T06:32:19.257Z"
   },
   {
    "duration": 154,
    "start_time": "2022-07-21T06:32:24.888Z"
   },
   {
    "duration": 283,
    "start_time": "2022-07-21T06:32:28.896Z"
   },
   {
    "duration": 184,
    "start_time": "2022-07-21T06:32:59.345Z"
   },
   {
    "duration": 180,
    "start_time": "2022-07-21T06:33:15.257Z"
   },
   {
    "duration": 4,
    "start_time": "2022-07-21T06:34:57.040Z"
   },
   {
    "duration": 213,
    "start_time": "2022-07-21T06:35:28.809Z"
   },
   {
    "duration": 241,
    "start_time": "2022-07-21T06:35:46.993Z"
   },
   {
    "duration": 190,
    "start_time": "2022-07-21T06:36:04.587Z"
   },
   {
    "duration": 180,
    "start_time": "2022-07-21T06:37:15.351Z"
   },
   {
    "duration": 177,
    "start_time": "2022-07-21T06:38:27.560Z"
   },
   {
    "duration": 253,
    "start_time": "2022-07-21T06:39:22.112Z"
   },
   {
    "duration": 267,
    "start_time": "2022-07-21T06:39:29.305Z"
   },
   {
    "duration": 139,
    "start_time": "2022-07-21T06:39:35.258Z"
   },
   {
    "duration": 260,
    "start_time": "2022-07-21T06:39:49.184Z"
   },
   {
    "duration": 3,
    "start_time": "2022-07-21T06:40:08.157Z"
   },
   {
    "duration": 209,
    "start_time": "2022-07-21T06:40:56.363Z"
   },
   {
    "duration": 183,
    "start_time": "2022-07-21T06:42:28.385Z"
   },
   {
    "duration": 294,
    "start_time": "2022-07-21T06:42:33.184Z"
   },
   {
    "duration": 206,
    "start_time": "2022-07-21T06:48:37.343Z"
   },
   {
    "duration": 185,
    "start_time": "2022-07-21T06:56:54.761Z"
   },
   {
    "duration": 188,
    "start_time": "2022-07-21T06:57:04.001Z"
   },
   {
    "duration": 198,
    "start_time": "2022-07-21T06:57:16.242Z"
   },
   {
    "duration": 201,
    "start_time": "2022-07-21T06:58:56.946Z"
   },
   {
    "duration": 216,
    "start_time": "2022-07-21T07:01:51.834Z"
   },
   {
    "duration": 209,
    "start_time": "2022-07-21T07:10:56.354Z"
   },
   {
    "duration": 193,
    "start_time": "2022-07-21T07:11:26.472Z"
   },
   {
    "duration": 201,
    "start_time": "2022-07-21T07:11:48.048Z"
   },
   {
    "duration": 254,
    "start_time": "2022-07-21T07:14:58.807Z"
   },
   {
    "duration": 307,
    "start_time": "2022-07-21T07:15:04.704Z"
   },
   {
    "duration": 51,
    "start_time": "2022-07-21T07:18:25.048Z"
   },
   {
    "duration": 250,
    "start_time": "2022-07-21T07:18:40.864Z"
   },
   {
    "duration": 271,
    "start_time": "2022-07-21T07:19:52.521Z"
   },
   {
    "duration": 272,
    "start_time": "2022-07-21T07:20:26.040Z"
   },
   {
    "duration": 218,
    "start_time": "2022-07-21T07:20:31.801Z"
   },
   {
    "duration": 273,
    "start_time": "2022-07-21T07:21:04.850Z"
   },
   {
    "duration": 316,
    "start_time": "2022-07-21T07:21:57.224Z"
   },
   {
    "duration": 255,
    "start_time": "2022-07-21T07:22:08.993Z"
   },
   {
    "duration": 280,
    "start_time": "2022-07-21T07:22:29.241Z"
   },
   {
    "duration": 260,
    "start_time": "2022-07-21T07:22:45.948Z"
   },
   {
    "duration": 272,
    "start_time": "2022-07-21T07:27:59.331Z"
   },
   {
    "duration": 265,
    "start_time": "2022-07-21T07:29:32.252Z"
   },
   {
    "duration": 359,
    "start_time": "2022-07-21T07:29:58.475Z"
   },
   {
    "duration": 152,
    "start_time": "2022-07-21T07:37:54.885Z"
   },
   {
    "duration": 158,
    "start_time": "2022-07-21T07:38:00.158Z"
   },
   {
    "duration": 183,
    "start_time": "2022-07-21T07:39:00.716Z"
   },
   {
    "duration": 191,
    "start_time": "2022-07-21T07:39:31.886Z"
   },
   {
    "duration": 202,
    "start_time": "2022-07-21T07:39:53.068Z"
   },
   {
    "duration": 205,
    "start_time": "2022-07-21T07:40:11.781Z"
   },
   {
    "duration": 211,
    "start_time": "2022-07-21T07:40:27.997Z"
   },
   {
    "duration": 211,
    "start_time": "2022-07-21T07:40:40.021Z"
   },
   {
    "duration": 205,
    "start_time": "2022-07-21T07:41:14.022Z"
   },
   {
    "duration": 225,
    "start_time": "2022-07-21T07:41:51.405Z"
   },
   {
    "duration": 304,
    "start_time": "2022-07-21T07:41:55.606Z"
   },
   {
    "duration": 208,
    "start_time": "2022-07-21T07:42:10.613Z"
   },
   {
    "duration": 223,
    "start_time": "2022-07-21T07:43:29.544Z"
   },
   {
    "duration": 222,
    "start_time": "2022-07-21T07:44:18.661Z"
   },
   {
    "duration": 210,
    "start_time": "2022-07-21T07:44:25.066Z"
   },
   {
    "duration": 297,
    "start_time": "2022-07-21T07:46:43.860Z"
   },
   {
    "duration": 220,
    "start_time": "2022-07-21T07:46:56.960Z"
   },
   {
    "duration": 278,
    "start_time": "2022-07-21T07:54:02.753Z"
   },
   {
    "duration": 276,
    "start_time": "2022-07-21T07:54:06.357Z"
   },
   {
    "duration": 290,
    "start_time": "2022-07-21T07:54:26.558Z"
   },
   {
    "duration": 290,
    "start_time": "2022-07-21T07:54:34.574Z"
   },
   {
    "duration": 386,
    "start_time": "2022-07-21T07:54:55.309Z"
   },
   {
    "duration": 304,
    "start_time": "2022-07-21T07:57:15.863Z"
   },
   {
    "duration": 376,
    "start_time": "2022-07-21T07:57:39.446Z"
   },
   {
    "duration": 346,
    "start_time": "2022-07-21T07:57:52.454Z"
   },
   {
    "duration": 315,
    "start_time": "2022-07-21T07:58:09.655Z"
   },
   {
    "duration": 325,
    "start_time": "2022-07-21T07:58:47.998Z"
   },
   {
    "duration": 293,
    "start_time": "2022-07-21T08:01:33.589Z"
   },
   {
    "duration": 203,
    "start_time": "2022-07-21T08:03:54.062Z"
   },
   {
    "duration": 201,
    "start_time": "2022-07-21T08:04:05.182Z"
   },
   {
    "duration": 215,
    "start_time": "2022-07-21T08:04:43.943Z"
   },
   {
    "duration": 334,
    "start_time": "2022-07-21T08:04:56.527Z"
   },
   {
    "duration": 404,
    "start_time": "2022-07-21T08:05:35.471Z"
   },
   {
    "duration": 338,
    "start_time": "2022-07-21T08:07:22.615Z"
   },
   {
    "duration": 308,
    "start_time": "2022-07-21T08:07:39.406Z"
   },
   {
    "duration": 328,
    "start_time": "2022-07-21T08:08:02.143Z"
   },
   {
    "duration": 296,
    "start_time": "2022-07-21T08:09:12.599Z"
   },
   {
    "duration": 348,
    "start_time": "2022-07-21T08:10:41.512Z"
   },
   {
    "duration": 13,
    "start_time": "2022-07-21T08:43:35.879Z"
   },
   {
    "duration": 7,
    "start_time": "2022-07-21T08:43:56.288Z"
   },
   {
    "duration": 9,
    "start_time": "2022-07-21T08:44:11.263Z"
   },
   {
    "duration": 7,
    "start_time": "2022-07-21T08:44:45.416Z"
   },
   {
    "duration": 13,
    "start_time": "2022-07-21T08:45:11.799Z"
   },
   {
    "duration": 11,
    "start_time": "2022-07-21T08:45:16.431Z"
   },
   {
    "duration": 13,
    "start_time": "2022-07-21T08:48:24.783Z"
   },
   {
    "duration": 14,
    "start_time": "2022-07-21T08:48:38.791Z"
   },
   {
    "duration": 13,
    "start_time": "2022-07-21T08:49:41.289Z"
   },
   {
    "duration": 11,
    "start_time": "2022-07-21T08:49:52.841Z"
   },
   {
    "duration": 11,
    "start_time": "2022-07-21T08:53:21.834Z"
   },
   {
    "duration": 10,
    "start_time": "2022-07-21T08:53:43.297Z"
   },
   {
    "duration": 127,
    "start_time": "2022-07-21T08:54:01.145Z"
   },
   {
    "duration": 99,
    "start_time": "2022-07-21T08:55:00.197Z"
   },
   {
    "duration": 14,
    "start_time": "2022-07-21T08:55:07.857Z"
   },
   {
    "duration": 11,
    "start_time": "2022-07-21T08:55:20.969Z"
   },
   {
    "duration": 129,
    "start_time": "2022-07-21T08:55:39.146Z"
   },
   {
    "duration": 121,
    "start_time": "2022-07-21T08:55:42.521Z"
   },
   {
    "duration": 136,
    "start_time": "2022-07-21T08:56:17.673Z"
   },
   {
    "duration": 12,
    "start_time": "2022-07-21T08:56:58.392Z"
   },
   {
    "duration": 138,
    "start_time": "2022-07-21T08:58:07.287Z"
   },
   {
    "duration": 228,
    "start_time": "2022-07-21T08:59:05.934Z"
   },
   {
    "duration": 155,
    "start_time": "2022-07-21T09:02:08.614Z"
   },
   {
    "duration": 151,
    "start_time": "2022-07-21T09:02:17.918Z"
   },
   {
    "duration": 149,
    "start_time": "2022-07-21T09:02:26.479Z"
   },
   {
    "duration": 1263,
    "start_time": "2022-07-22T01:38:05.863Z"
   },
   {
    "duration": 340,
    "start_time": "2022-07-22T01:38:07.128Z"
   },
   {
    "duration": 3,
    "start_time": "2022-07-22T01:38:07.470Z"
   },
   {
    "duration": 12,
    "start_time": "2022-07-22T01:38:07.475Z"
   },
   {
    "duration": 14,
    "start_time": "2022-07-22T01:38:07.490Z"
   },
   {
    "duration": 34,
    "start_time": "2022-07-22T01:38:07.505Z"
   },
   {
    "duration": 15,
    "start_time": "2022-07-22T01:38:07.541Z"
   },
   {
    "duration": 19,
    "start_time": "2022-07-22T01:38:07.557Z"
   },
   {
    "duration": 7,
    "start_time": "2022-07-22T01:38:07.578Z"
   },
   {
    "duration": 12,
    "start_time": "2022-07-22T01:38:07.587Z"
   },
   {
    "duration": 11,
    "start_time": "2022-07-22T01:38:07.601Z"
   },
   {
    "duration": 41,
    "start_time": "2022-07-22T01:38:07.613Z"
   },
   {
    "duration": 306,
    "start_time": "2022-07-22T01:38:07.657Z"
   },
   {
    "duration": 315,
    "start_time": "2022-07-22T01:38:07.966Z"
   },
   {
    "duration": 222,
    "start_time": "2022-07-22T01:38:08.283Z"
   },
   {
    "duration": 350,
    "start_time": "2022-07-22T01:38:08.509Z"
   },
   {
    "duration": 240,
    "start_time": "2022-07-22T01:38:08.861Z"
   },
   {
    "duration": 355,
    "start_time": "2022-07-22T01:38:09.103Z"
   },
   {
    "duration": 12,
    "start_time": "2022-07-22T01:38:09.459Z"
   },
   {
    "duration": 182,
    "start_time": "2022-07-22T01:38:09.472Z"
   },
   {
    "duration": 129,
    "start_time": "2022-07-22T01:48:35.746Z"
   },
   {
    "duration": 159,
    "start_time": "2022-07-22T01:48:49.203Z"
   },
   {
    "duration": 135,
    "start_time": "2022-07-22T01:48:55.743Z"
   },
   {
    "duration": 12,
    "start_time": "2022-07-22T01:53:43.554Z"
   },
   {
    "duration": 11,
    "start_time": "2022-07-22T01:53:47.651Z"
   },
   {
    "duration": 20,
    "start_time": "2022-07-22T01:57:34.006Z"
   },
   {
    "duration": 8,
    "start_time": "2022-07-22T01:58:00.910Z"
   },
   {
    "duration": 11,
    "start_time": "2022-07-22T02:01:51.936Z"
   },
   {
    "duration": 7,
    "start_time": "2022-07-22T02:01:57.585Z"
   },
   {
    "duration": 11,
    "start_time": "2022-07-22T02:02:21.133Z"
   },
   {
    "duration": 8,
    "start_time": "2022-07-22T02:02:26.191Z"
   },
   {
    "duration": 128,
    "start_time": "2022-07-22T02:03:17.096Z"
   },
   {
    "duration": 8,
    "start_time": "2022-07-22T02:03:20.835Z"
   },
   {
    "duration": 8,
    "start_time": "2022-07-22T02:03:27.375Z"
   },
   {
    "duration": 8,
    "start_time": "2022-07-22T02:03:33.734Z"
   },
   {
    "duration": 7,
    "start_time": "2022-07-22T02:03:41.846Z"
   },
   {
    "duration": 4,
    "start_time": "2022-07-22T02:03:53.751Z"
   },
   {
    "duration": 4,
    "start_time": "2022-07-22T02:05:34.504Z"
   },
   {
    "duration": 5,
    "start_time": "2022-07-22T02:05:40.753Z"
   },
   {
    "duration": 11,
    "start_time": "2022-07-22T02:06:10.407Z"
   },
   {
    "duration": 6,
    "start_time": "2022-07-22T02:09:27.036Z"
   },
   {
    "duration": 4,
    "start_time": "2022-07-22T02:09:40.962Z"
   },
   {
    "duration": 5,
    "start_time": "2022-07-22T02:09:48.895Z"
   },
   {
    "duration": 6,
    "start_time": "2022-07-22T02:11:45.696Z"
   },
   {
    "duration": 4,
    "start_time": "2022-07-22T02:11:51.688Z"
   },
   {
    "duration": 110,
    "start_time": "2022-07-22T02:24:34.031Z"
   },
   {
    "duration": 155,
    "start_time": "2022-07-22T02:25:43.802Z"
   },
   {
    "duration": 154,
    "start_time": "2022-07-22T02:25:50.209Z"
   },
   {
    "duration": 146,
    "start_time": "2022-07-22T02:26:04.857Z"
   },
   {
    "duration": 168,
    "start_time": "2022-07-22T02:26:17.082Z"
   },
   {
    "duration": 192,
    "start_time": "2022-07-22T02:27:54.929Z"
   },
   {
    "duration": 163,
    "start_time": "2022-07-22T02:28:36.680Z"
   },
   {
    "duration": 147,
    "start_time": "2022-07-22T02:28:41.144Z"
   },
   {
    "duration": 217,
    "start_time": "2022-07-22T02:28:48.123Z"
   },
   {
    "duration": 139,
    "start_time": "2022-07-22T02:29:05.842Z"
   },
   {
    "duration": 67,
    "start_time": "2022-07-22T02:32:14.974Z"
   },
   {
    "duration": 161,
    "start_time": "2022-07-22T02:32:40.694Z"
   },
   {
    "duration": 167,
    "start_time": "2022-07-22T02:33:31.285Z"
   },
   {
    "duration": 161,
    "start_time": "2022-07-22T02:34:29.668Z"
   },
   {
    "duration": 286,
    "start_time": "2022-07-22T02:34:47.728Z"
   },
   {
    "duration": 179,
    "start_time": "2022-07-22T02:40:45.649Z"
   },
   {
    "duration": 187,
    "start_time": "2022-07-22T02:41:19.556Z"
   },
   {
    "duration": 5,
    "start_time": "2022-07-22T02:48:34.097Z"
   },
   {
    "duration": 4,
    "start_time": "2022-07-22T02:56:14.561Z"
   },
   {
    "duration": 8,
    "start_time": "2022-07-22T02:56:20.121Z"
   },
   {
    "duration": 5,
    "start_time": "2022-07-22T05:25:10.062Z"
   },
   {
    "duration": 9,
    "start_time": "2022-07-22T06:37:35.437Z"
   },
   {
    "duration": 17,
    "start_time": "2022-07-22T06:50:10.329Z"
   },
   {
    "duration": 126,
    "start_time": "2022-07-22T07:16:10.604Z"
   },
   {
    "duration": 5,
    "start_time": "2022-07-22T07:16:47.381Z"
   },
   {
    "duration": 9,
    "start_time": "2022-07-22T07:17:18.478Z"
   },
   {
    "duration": 17,
    "start_time": "2022-07-22T07:17:48.628Z"
   },
   {
    "duration": 175,
    "start_time": "2022-07-22T07:18:51.254Z"
   },
   {
    "duration": 273,
    "start_time": "2022-07-22T07:19:34.085Z"
   },
   {
    "duration": 282,
    "start_time": "2022-07-22T07:19:57.653Z"
   },
   {
    "duration": 237,
    "start_time": "2022-07-22T07:20:52.453Z"
   },
   {
    "duration": 9,
    "start_time": "2022-07-22T07:33:12.440Z"
   },
   {
    "duration": 10,
    "start_time": "2022-07-22T07:38:17.270Z"
   },
   {
    "duration": 9,
    "start_time": "2022-07-22T07:39:00.986Z"
   },
   {
    "duration": 6,
    "start_time": "2022-07-22T07:39:35.145Z"
   },
   {
    "duration": 8,
    "start_time": "2022-07-22T07:39:40.265Z"
   },
   {
    "duration": 8,
    "start_time": "2022-07-22T07:44:20.984Z"
   },
   {
    "duration": 250,
    "start_time": "2022-07-22T07:44:41.072Z"
   },
   {
    "duration": 7,
    "start_time": "2022-07-22T07:45:51.733Z"
   },
   {
    "duration": 9,
    "start_time": "2022-07-22T07:46:09.542Z"
   },
   {
    "duration": 7,
    "start_time": "2022-07-22T07:46:16.200Z"
   },
   {
    "duration": 13,
    "start_time": "2022-07-22T07:47:09.792Z"
   },
   {
    "duration": 10,
    "start_time": "2022-07-22T07:49:13.836Z"
   },
   {
    "duration": 7,
    "start_time": "2022-07-22T07:49:17.443Z"
   },
   {
    "duration": 5,
    "start_time": "2022-07-22T07:49:20.048Z"
   },
   {
    "duration": 7,
    "start_time": "2022-07-22T07:58:40.000Z"
   },
   {
    "duration": 22,
    "start_time": "2022-07-22T08:08:38.408Z"
   },
   {
    "duration": 169,
    "start_time": "2022-07-22T08:31:18.664Z"
   },
   {
    "duration": 239,
    "start_time": "2022-07-22T08:39:11.479Z"
   },
   {
    "duration": 192,
    "start_time": "2022-07-22T08:39:56.958Z"
   },
   {
    "duration": 173,
    "start_time": "2022-07-22T08:40:19.593Z"
   },
   {
    "duration": 262,
    "start_time": "2022-07-22T08:53:40.088Z"
   },
   {
    "duration": 198,
    "start_time": "2022-07-22T08:53:43.357Z"
   },
   {
    "duration": 12,
    "start_time": "2022-07-22T08:54:28.067Z"
   },
   {
    "duration": 1124,
    "start_time": "2022-07-22T14:43:06.181Z"
   },
   {
    "duration": 281,
    "start_time": "2022-07-22T14:43:07.307Z"
   },
   {
    "duration": 3,
    "start_time": "2022-07-22T14:43:07.589Z"
   },
   {
    "duration": 9,
    "start_time": "2022-07-22T14:43:07.594Z"
   },
   {
    "duration": 10,
    "start_time": "2022-07-22T14:43:07.604Z"
   },
   {
    "duration": 11,
    "start_time": "2022-07-22T14:43:07.615Z"
   },
   {
    "duration": 19,
    "start_time": "2022-07-22T14:43:07.628Z"
   },
   {
    "duration": 17,
    "start_time": "2022-07-22T14:43:07.648Z"
   },
   {
    "duration": 7,
    "start_time": "2022-07-22T14:43:07.667Z"
   },
   {
    "duration": 11,
    "start_time": "2022-07-22T14:43:07.676Z"
   },
   {
    "duration": 12,
    "start_time": "2022-07-22T14:43:07.688Z"
   },
   {
    "duration": 11,
    "start_time": "2022-07-22T14:43:07.702Z"
   },
   {
    "duration": 298,
    "start_time": "2022-07-22T14:43:07.715Z"
   },
   {
    "duration": 276,
    "start_time": "2022-07-22T14:43:08.015Z"
   },
   {
    "duration": 201,
    "start_time": "2022-07-22T14:43:08.293Z"
   },
   {
    "duration": 386,
    "start_time": "2022-07-22T14:43:08.496Z"
   },
   {
    "duration": 288,
    "start_time": "2022-07-22T14:43:08.884Z"
   },
   {
    "duration": 307,
    "start_time": "2022-07-22T14:43:09.174Z"
   },
   {
    "duration": 11,
    "start_time": "2022-07-22T14:43:09.483Z"
   },
   {
    "duration": 137,
    "start_time": "2022-07-22T14:43:09.496Z"
   },
   {
    "duration": 11,
    "start_time": "2022-07-22T14:43:09.635Z"
   },
   {
    "duration": 141,
    "start_time": "2022-07-22T14:43:09.647Z"
   },
   {
    "duration": 166,
    "start_time": "2022-07-22T14:43:09.789Z"
   },
   {
    "duration": 3,
    "start_time": "2022-07-22T14:43:09.957Z"
   },
   {
    "duration": 211,
    "start_time": "2022-07-22T14:43:09.962Z"
   },
   {
    "duration": 144,
    "start_time": "2022-07-22T14:43:10.175Z"
   },
   {
    "duration": 9,
    "start_time": "2022-07-22T14:43:10.320Z"
   },
   {
    "duration": 1245,
    "start_time": "2022-07-22T14:43:10.332Z"
   },
   {
    "duration": 1034,
    "start_time": "2022-07-22T14:52:57.518Z"
   },
   {
    "duration": 1329,
    "start_time": "2022-07-22T14:55:01.353Z"
   },
   {
    "duration": 999,
    "start_time": "2022-07-22T14:55:36.348Z"
   },
   {
    "duration": 151,
    "start_time": "2022-07-22T14:57:49.613Z"
   },
   {
    "duration": 1196,
    "start_time": "2022-07-22T14:58:02.154Z"
   },
   {
    "duration": 731,
    "start_time": "2022-07-22T14:59:08.109Z"
   },
   {
    "duration": 8,
    "start_time": "2022-07-22T15:00:36.109Z"
   },
   {
    "duration": 12,
    "start_time": "2022-07-22T15:02:36.772Z"
   },
   {
    "duration": 12,
    "start_time": "2022-07-22T15:03:42.820Z"
   },
   {
    "duration": 8,
    "start_time": "2022-07-22T15:10:13.429Z"
   },
   {
    "duration": 29,
    "start_time": "2022-07-22T15:14:02.756Z"
   },
   {
    "duration": 52,
    "start_time": "2022-07-22T15:20:04.029Z"
   },
   {
    "duration": 901,
    "start_time": "2022-07-22T15:21:35.428Z"
   },
   {
    "duration": 15,
    "start_time": "2022-07-22T15:22:13.224Z"
   },
   {
    "duration": 1201,
    "start_time": "2022-07-25T07:18:58.440Z"
   },
   {
    "duration": 265,
    "start_time": "2022-07-25T07:18:59.644Z"
   },
   {
    "duration": 3,
    "start_time": "2022-07-25T07:18:59.910Z"
   },
   {
    "duration": 8,
    "start_time": "2022-07-25T07:18:59.915Z"
   },
   {
    "duration": 8,
    "start_time": "2022-07-25T07:18:59.925Z"
   },
   {
    "duration": 26,
    "start_time": "2022-07-25T07:18:59.935Z"
   },
   {
    "duration": 3,
    "start_time": "2022-07-25T07:18:59.963Z"
   },
   {
    "duration": 12,
    "start_time": "2022-07-25T07:18:59.967Z"
   },
   {
    "duration": 6,
    "start_time": "2022-07-25T07:18:59.980Z"
   },
   {
    "duration": 12,
    "start_time": "2022-07-25T07:18:59.988Z"
   },
   {
    "duration": 9,
    "start_time": "2022-07-25T07:19:00.001Z"
   },
   {
    "duration": 27,
    "start_time": "2022-07-25T07:19:00.012Z"
   },
   {
    "duration": 275,
    "start_time": "2022-07-25T07:19:00.061Z"
   },
   {
    "duration": 276,
    "start_time": "2022-07-25T07:19:00.337Z"
   },
   {
    "duration": 217,
    "start_time": "2022-07-25T07:19:00.615Z"
   },
   {
    "duration": 360,
    "start_time": "2022-07-25T07:19:00.833Z"
   },
   {
    "duration": 207,
    "start_time": "2022-07-25T07:19:01.194Z"
   },
   {
    "duration": 291,
    "start_time": "2022-07-25T07:19:01.402Z"
   },
   {
    "duration": 11,
    "start_time": "2022-07-25T07:19:01.695Z"
   },
   {
    "duration": 133,
    "start_time": "2022-07-25T07:19:01.707Z"
   },
   {
    "duration": 6,
    "start_time": "2022-07-25T07:19:01.842Z"
   },
   {
    "duration": 149,
    "start_time": "2022-07-25T07:19:01.860Z"
   },
   {
    "duration": 184,
    "start_time": "2022-07-25T07:19:02.012Z"
   },
   {
    "duration": 4,
    "start_time": "2022-07-25T07:19:02.198Z"
   },
   {
    "duration": 234,
    "start_time": "2022-07-25T07:19:02.204Z"
   },
   {
    "duration": 164,
    "start_time": "2022-07-25T07:19:02.440Z"
   },
   {
    "duration": 9,
    "start_time": "2022-07-25T07:19:02.606Z"
   },
   {
    "duration": 12,
    "start_time": "2022-07-25T07:19:02.617Z"
   },
   {
    "duration": 49,
    "start_time": "2022-07-25T07:19:02.631Z"
   },
   {
    "duration": 14,
    "start_time": "2022-07-25T07:19:02.681Z"
   },
   {
    "duration": 13,
    "start_time": "2022-07-25T08:04:39.885Z"
   },
   {
    "duration": 5,
    "start_time": "2022-07-25T08:04:55.764Z"
   },
   {
    "duration": 14,
    "start_time": "2022-07-25T08:10:19.257Z"
   },
   {
    "duration": 10,
    "start_time": "2022-07-25T08:13:45.748Z"
   },
   {
    "duration": 5,
    "start_time": "2022-07-25T08:13:51.484Z"
   },
   {
    "duration": 15,
    "start_time": "2022-07-25T08:14:00.936Z"
   },
   {
    "duration": 5,
    "start_time": "2022-07-25T08:14:09.573Z"
   },
   {
    "duration": 59,
    "start_time": "2022-07-25T08:15:09.772Z"
   },
   {
    "duration": 4,
    "start_time": "2022-07-25T08:15:40.909Z"
   },
   {
    "duration": 14,
    "start_time": "2022-07-25T08:16:25.109Z"
   },
   {
    "duration": 1110,
    "start_time": "2022-07-25T08:16:45.149Z"
   },
   {
    "duration": 216,
    "start_time": "2022-07-25T08:16:46.262Z"
   },
   {
    "duration": 5,
    "start_time": "2022-07-25T08:16:46.480Z"
   },
   {
    "duration": 48,
    "start_time": "2022-07-25T08:16:46.488Z"
   },
   {
    "duration": 11,
    "start_time": "2022-07-25T08:16:46.540Z"
   },
   {
    "duration": 17,
    "start_time": "2022-07-25T08:16:46.553Z"
   },
   {
    "duration": 18,
    "start_time": "2022-07-25T08:16:46.572Z"
   },
   {
    "duration": 26,
    "start_time": "2022-07-25T08:16:46.592Z"
   },
   {
    "duration": 10,
    "start_time": "2022-07-25T08:16:46.621Z"
   },
   {
    "duration": 16,
    "start_time": "2022-07-25T08:16:46.635Z"
   },
   {
    "duration": 12,
    "start_time": "2022-07-25T08:16:46.653Z"
   },
   {
    "duration": 46,
    "start_time": "2022-07-25T08:16:46.667Z"
   },
   {
    "duration": 312,
    "start_time": "2022-07-25T08:16:46.716Z"
   },
   {
    "duration": 304,
    "start_time": "2022-07-25T08:16:47.030Z"
   },
   {
    "duration": 233,
    "start_time": "2022-07-25T08:16:47.336Z"
   },
   {
    "duration": 339,
    "start_time": "2022-07-25T08:16:47.571Z"
   },
   {
    "duration": 228,
    "start_time": "2022-07-25T08:16:47.912Z"
   },
   {
    "duration": 388,
    "start_time": "2022-07-25T08:16:48.143Z"
   },
   {
    "duration": 12,
    "start_time": "2022-07-25T08:16:48.532Z"
   },
   {
    "duration": 178,
    "start_time": "2022-07-25T08:16:48.546Z"
   },
   {
    "duration": 4,
    "start_time": "2022-07-25T08:16:48.726Z"
   },
   {
    "duration": 169,
    "start_time": "2022-07-25T08:16:48.732Z"
   },
   {
    "duration": 214,
    "start_time": "2022-07-25T08:16:48.903Z"
   },
   {
    "duration": 6,
    "start_time": "2022-07-25T08:16:49.119Z"
   },
   {
    "duration": 322,
    "start_time": "2022-07-25T08:16:49.127Z"
   },
   {
    "duration": 171,
    "start_time": "2022-07-25T08:16:49.450Z"
   },
   {
    "duration": 9,
    "start_time": "2022-07-25T08:16:49.623Z"
   },
   {
    "duration": 60,
    "start_time": "2022-07-25T08:16:49.635Z"
   },
   {
    "duration": 34,
    "start_time": "2022-07-25T08:16:49.697Z"
   },
   {
    "duration": 13,
    "start_time": "2022-07-25T08:16:49.733Z"
   },
   {
    "duration": 20,
    "start_time": "2022-07-25T08:16:49.747Z"
   },
   {
    "duration": 23,
    "start_time": "2022-07-25T08:16:49.770Z"
   },
   {
    "duration": 19,
    "start_time": "2022-07-25T08:16:56.512Z"
   },
   {
    "duration": 13,
    "start_time": "2022-07-25T08:17:00.825Z"
   },
   {
    "duration": 5,
    "start_time": "2022-07-25T08:17:31.032Z"
   },
   {
    "duration": 14,
    "start_time": "2022-07-25T08:17:52.336Z"
   },
   {
    "duration": 11,
    "start_time": "2022-07-25T08:18:10.634Z"
   },
   {
    "duration": 5,
    "start_time": "2022-07-25T08:18:20.896Z"
   },
   {
    "duration": 14,
    "start_time": "2022-07-25T08:18:58.840Z"
   },
   {
    "duration": 101,
    "start_time": "2022-07-25T08:20:07.160Z"
   },
   {
    "duration": 8,
    "start_time": "2022-07-25T08:20:10.144Z"
   },
   {
    "duration": 3,
    "start_time": "2022-07-25T08:20:19.819Z"
   },
   {
    "duration": 10,
    "start_time": "2022-07-25T08:20:34.933Z"
   },
   {
    "duration": 5,
    "start_time": "2022-07-25T08:20:51.230Z"
   },
   {
    "duration": 15,
    "start_time": "2022-07-25T08:21:22.035Z"
   },
   {
    "duration": 6,
    "start_time": "2022-07-25T08:22:35.673Z"
   },
   {
    "duration": 5,
    "start_time": "2022-07-25T08:22:54.273Z"
   },
   {
    "duration": 4,
    "start_time": "2022-07-25T08:23:03.745Z"
   },
   {
    "duration": 8,
    "start_time": "2022-07-25T08:23:56.531Z"
   },
   {
    "duration": 5,
    "start_time": "2022-07-25T08:24:02.939Z"
   },
   {
    "duration": 7,
    "start_time": "2022-07-25T08:25:11.952Z"
   },
   {
    "duration": 9,
    "start_time": "2022-07-25T08:25:23.873Z"
   },
   {
    "duration": 5,
    "start_time": "2022-07-25T08:25:27.448Z"
   },
   {
    "duration": 14,
    "start_time": "2022-07-25T08:29:03.897Z"
   },
   {
    "duration": 5,
    "start_time": "2022-07-25T08:29:39.927Z"
   },
   {
    "duration": 1132,
    "start_time": "2022-07-25T08:30:12.767Z"
   },
   {
    "duration": 166,
    "start_time": "2022-07-25T08:30:13.901Z"
   },
   {
    "duration": 4,
    "start_time": "2022-07-25T08:30:14.069Z"
   },
   {
    "duration": 17,
    "start_time": "2022-07-25T08:30:14.075Z"
   },
   {
    "duration": 19,
    "start_time": "2022-07-25T08:30:14.093Z"
   },
   {
    "duration": 17,
    "start_time": "2022-07-25T08:30:14.114Z"
   },
   {
    "duration": 4,
    "start_time": "2022-07-25T08:30:14.133Z"
   },
   {
    "duration": 14,
    "start_time": "2022-07-25T08:30:14.139Z"
   },
   {
    "duration": 7,
    "start_time": "2022-07-25T08:30:14.155Z"
   },
   {
    "duration": 16,
    "start_time": "2022-07-25T08:30:14.165Z"
   },
   {
    "duration": 16,
    "start_time": "2022-07-25T08:30:14.183Z"
   },
   {
    "duration": 14,
    "start_time": "2022-07-25T08:30:14.201Z"
   },
   {
    "duration": 323,
    "start_time": "2022-07-25T08:30:14.217Z"
   },
   {
    "duration": 320,
    "start_time": "2022-07-25T08:30:14.542Z"
   },
   {
    "duration": 234,
    "start_time": "2022-07-25T08:30:14.865Z"
   },
   {
    "duration": 297,
    "start_time": "2022-07-25T08:30:15.101Z"
   },
   {
    "duration": 225,
    "start_time": "2022-07-25T08:30:15.400Z"
   },
   {
    "duration": 350,
    "start_time": "2022-07-25T08:30:15.626Z"
   },
   {
    "duration": 12,
    "start_time": "2022-07-25T08:30:15.978Z"
   },
   {
    "duration": 140,
    "start_time": "2022-07-25T08:30:15.992Z"
   },
   {
    "duration": 5,
    "start_time": "2022-07-25T08:30:16.134Z"
   },
   {
    "duration": 196,
    "start_time": "2022-07-25T08:30:16.141Z"
   },
   {
    "duration": 215,
    "start_time": "2022-07-25T08:30:16.339Z"
   },
   {
    "duration": 4,
    "start_time": "2022-07-25T08:30:16.560Z"
   },
   {
    "duration": 273,
    "start_time": "2022-07-25T08:30:16.566Z"
   },
   {
    "duration": 190,
    "start_time": "2022-07-25T08:30:16.841Z"
   },
   {
    "duration": 10,
    "start_time": "2022-07-25T08:30:17.032Z"
   },
   {
    "duration": 12,
    "start_time": "2022-07-25T08:30:17.060Z"
   },
   {
    "duration": 32,
    "start_time": "2022-07-25T08:30:17.073Z"
   },
   {
    "duration": 13,
    "start_time": "2022-07-25T08:30:17.107Z"
   },
   {
    "duration": 14,
    "start_time": "2022-07-25T08:30:24.616Z"
   },
   {
    "duration": 15,
    "start_time": "2022-07-25T08:30:38.943Z"
   },
   {
    "duration": 4,
    "start_time": "2022-07-25T08:30:52.264Z"
   },
   {
    "duration": 4,
    "start_time": "2022-07-25T08:31:00.506Z"
   },
   {
    "duration": 5,
    "start_time": "2022-07-25T08:31:20.783Z"
   },
   {
    "duration": 6,
    "start_time": "2022-07-25T08:32:43.529Z"
   },
   {
    "duration": 267,
    "start_time": "2022-07-25T08:33:29.133Z"
   },
   {
    "duration": 687,
    "start_time": "2022-07-25T08:35:16.847Z"
   },
   {
    "duration": 291,
    "start_time": "2022-07-25T08:36:06.592Z"
   },
   {
    "duration": 197,
    "start_time": "2022-07-25T08:37:09.543Z"
   },
   {
    "duration": 12,
    "start_time": "2022-07-25T08:38:21.872Z"
   },
   {
    "duration": 324,
    "start_time": "2022-07-25T08:39:21.057Z"
   },
   {
    "duration": 327,
    "start_time": "2022-07-25T08:39:37.235Z"
   },
   {
    "duration": 1195,
    "start_time": "2022-07-25T20:25:54.756Z"
   },
   {
    "duration": 273,
    "start_time": "2022-07-25T20:25:55.953Z"
   },
   {
    "duration": 4,
    "start_time": "2022-07-25T20:25:56.228Z"
   },
   {
    "duration": 7,
    "start_time": "2022-07-25T20:25:56.234Z"
   },
   {
    "duration": 9,
    "start_time": "2022-07-25T20:25:56.243Z"
   },
   {
    "duration": 17,
    "start_time": "2022-07-25T20:25:56.253Z"
   },
   {
    "duration": 3,
    "start_time": "2022-07-25T20:25:56.271Z"
   },
   {
    "duration": 12,
    "start_time": "2022-07-25T20:25:56.275Z"
   },
   {
    "duration": 6,
    "start_time": "2022-07-25T20:25:56.289Z"
   },
   {
    "duration": 9,
    "start_time": "2022-07-25T20:25:56.297Z"
   },
   {
    "duration": 9,
    "start_time": "2022-07-25T20:25:56.307Z"
   },
   {
    "duration": 10,
    "start_time": "2022-07-25T20:25:56.318Z"
   },
   {
    "duration": 306,
    "start_time": "2022-07-25T20:25:56.329Z"
   },
   {
    "duration": 273,
    "start_time": "2022-07-25T20:25:56.637Z"
   },
   {
    "duration": 197,
    "start_time": "2022-07-25T20:25:56.911Z"
   },
   {
    "duration": 330,
    "start_time": "2022-07-25T20:25:57.110Z"
   },
   {
    "duration": 211,
    "start_time": "2022-07-25T20:25:57.441Z"
   },
   {
    "duration": 321,
    "start_time": "2022-07-25T20:25:57.653Z"
   },
   {
    "duration": 11,
    "start_time": "2022-07-25T20:25:57.976Z"
   },
   {
    "duration": 127,
    "start_time": "2022-07-25T20:25:57.988Z"
   },
   {
    "duration": 4,
    "start_time": "2022-07-25T20:25:58.116Z"
   },
   {
    "duration": 151,
    "start_time": "2022-07-25T20:25:58.122Z"
   },
   {
    "duration": 162,
    "start_time": "2022-07-25T20:25:58.274Z"
   },
   {
    "duration": 4,
    "start_time": "2022-07-25T20:25:58.438Z"
   },
   {
    "duration": 248,
    "start_time": "2022-07-25T20:25:58.443Z"
   },
   {
    "duration": 172,
    "start_time": "2022-07-25T20:25:58.693Z"
   },
   {
    "duration": 9,
    "start_time": "2022-07-25T20:25:58.866Z"
   },
   {
    "duration": 11,
    "start_time": "2022-07-25T20:25:58.878Z"
   },
   {
    "duration": 32,
    "start_time": "2022-07-25T20:25:58.890Z"
   },
   {
    "duration": 13,
    "start_time": "2022-07-25T20:25:58.923Z"
   },
   {
    "duration": 696,
    "start_time": "2022-07-25T20:25:58.937Z"
   },
   {
    "duration": 332,
    "start_time": "2022-07-25T20:25:59.635Z"
   }
  ],
  "kernelspec": {
   "display_name": "Python 3 (ipykernel)",
   "language": "python",
   "name": "python3"
  },
  "language_info": {
   "codemirror_mode": {
    "name": "ipython",
    "version": 3
   },
   "file_extension": ".py",
   "mimetype": "text/x-python",
   "name": "python",
   "nbconvert_exporter": "python",
   "pygments_lexer": "ipython3",
   "version": "3.9.13"
  },
  "toc": {
   "base_numbering": 1,
   "nav_menu": {},
   "number_sections": true,
   "sideBar": true,
   "skip_h1_title": true,
   "title_cell": "Table of Contents",
   "title_sidebar": "Contents",
   "toc_cell": false,
   "toc_position": {},
   "toc_section_display": true,
   "toc_window_display": false
  }
 },
 "nbformat": 4,
 "nbformat_minor": 2
}
