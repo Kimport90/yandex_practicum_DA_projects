{
 "cells": [
  {
   "cell_type": "markdown",
   "metadata": {},
   "source": [
    "# Изучение закономерностей, определяющих успешность компьютерных игр"
   ]
  },
  {
   "cell_type": "markdown",
   "metadata": {},
   "source": [
    "**Ход исследования**:\n",
    "1. Обзор данных.\n",
    "2. Предообработка данных.\n",
    "3. Исследовательский анализ данных.\n",
    "4. Составление портрета пользователя каждого региона.\n",
    "5. Проверка гипотез.\n",
    "6. Общие выводы."
   ]
  },
  {
   "cell_type": "markdown",
   "metadata": {},
   "source": [
    "## Обзор данных"
   ]
  },
  {
   "cell_type": "code",
   "execution_count": 1,
   "metadata": {},
   "outputs": [],
   "source": [
    "# импорт библиотек\n",
    "import pandas as pd\n",
    "import numpy as np\n",
    "import matplotlib.pyplot as plt\n",
    "import seaborn as sns\n",
    "from scipy import stats as st"
   ]
  },
  {
   "cell_type": "code",
   "execution_count": 2,
   "metadata": {
    "scrolled": true
   },
   "outputs": [
    {
     "name": "stdout",
     "output_type": "stream",
     "text": [
      "<class 'pandas.core.frame.DataFrame'>\n",
      "RangeIndex: 16715 entries, 0 to 16714\n",
      "Data columns (total 11 columns):\n",
      " #   Column           Non-Null Count  Dtype  \n",
      "---  ------           --------------  -----  \n",
      " 0   Name             16713 non-null  object \n",
      " 1   Platform         16715 non-null  object \n",
      " 2   Year_of_Release  16446 non-null  float64\n",
      " 3   Genre            16713 non-null  object \n",
      " 4   NA_sales         16715 non-null  float64\n",
      " 5   EU_sales         16715 non-null  float64\n",
      " 6   JP_sales         16715 non-null  float64\n",
      " 7   Other_sales      16715 non-null  float64\n",
      " 8   Critic_Score     8137 non-null   float64\n",
      " 9   User_Score       10014 non-null  object \n",
      " 10  Rating           9949 non-null   object \n",
      "dtypes: float64(6), object(5)\n",
      "memory usage: 1.4+ MB\n"
     ]
    }
   ],
   "source": [
    "# чтение файла с данными\n",
    "df = pd.read_csv('/datasets/games.csv')\n",
    "# получение общей информации о данных\n",
    "df.info()"
   ]
  },
  {
   "cell_type": "code",
   "execution_count": 3,
   "metadata": {},
   "outputs": [
    {
     "data": {
      "text/html": [
       "<div>\n",
       "<style scoped>\n",
       "    .dataframe tbody tr th:only-of-type {\n",
       "        vertical-align: middle;\n",
       "    }\n",
       "\n",
       "    .dataframe tbody tr th {\n",
       "        vertical-align: top;\n",
       "    }\n",
       "\n",
       "    .dataframe thead th {\n",
       "        text-align: right;\n",
       "    }\n",
       "</style>\n",
       "<table border=\"1\" class=\"dataframe\">\n",
       "  <thead>\n",
       "    <tr style=\"text-align: right;\">\n",
       "      <th></th>\n",
       "      <th>Name</th>\n",
       "      <th>Platform</th>\n",
       "      <th>Year_of_Release</th>\n",
       "      <th>Genre</th>\n",
       "      <th>NA_sales</th>\n",
       "      <th>EU_sales</th>\n",
       "      <th>JP_sales</th>\n",
       "      <th>Other_sales</th>\n",
       "      <th>Critic_Score</th>\n",
       "      <th>User_Score</th>\n",
       "      <th>Rating</th>\n",
       "    </tr>\n",
       "  </thead>\n",
       "  <tbody>\n",
       "    <tr>\n",
       "      <th>0</th>\n",
       "      <td>Wii Sports</td>\n",
       "      <td>Wii</td>\n",
       "      <td>2006.0</td>\n",
       "      <td>Sports</td>\n",
       "      <td>41.36</td>\n",
       "      <td>28.96</td>\n",
       "      <td>3.77</td>\n",
       "      <td>8.45</td>\n",
       "      <td>76.0</td>\n",
       "      <td>8</td>\n",
       "      <td>E</td>\n",
       "    </tr>\n",
       "    <tr>\n",
       "      <th>1</th>\n",
       "      <td>Super Mario Bros.</td>\n",
       "      <td>NES</td>\n",
       "      <td>1985.0</td>\n",
       "      <td>Platform</td>\n",
       "      <td>29.08</td>\n",
       "      <td>3.58</td>\n",
       "      <td>6.81</td>\n",
       "      <td>0.77</td>\n",
       "      <td>NaN</td>\n",
       "      <td>NaN</td>\n",
       "      <td>NaN</td>\n",
       "    </tr>\n",
       "    <tr>\n",
       "      <th>2</th>\n",
       "      <td>Mario Kart Wii</td>\n",
       "      <td>Wii</td>\n",
       "      <td>2008.0</td>\n",
       "      <td>Racing</td>\n",
       "      <td>15.68</td>\n",
       "      <td>12.76</td>\n",
       "      <td>3.79</td>\n",
       "      <td>3.29</td>\n",
       "      <td>82.0</td>\n",
       "      <td>8.3</td>\n",
       "      <td>E</td>\n",
       "    </tr>\n",
       "    <tr>\n",
       "      <th>3</th>\n",
       "      <td>Wii Sports Resort</td>\n",
       "      <td>Wii</td>\n",
       "      <td>2009.0</td>\n",
       "      <td>Sports</td>\n",
       "      <td>15.61</td>\n",
       "      <td>10.93</td>\n",
       "      <td>3.28</td>\n",
       "      <td>2.95</td>\n",
       "      <td>80.0</td>\n",
       "      <td>8</td>\n",
       "      <td>E</td>\n",
       "    </tr>\n",
       "    <tr>\n",
       "      <th>4</th>\n",
       "      <td>Pokemon Red/Pokemon Blue</td>\n",
       "      <td>GB</td>\n",
       "      <td>1996.0</td>\n",
       "      <td>Role-Playing</td>\n",
       "      <td>11.27</td>\n",
       "      <td>8.89</td>\n",
       "      <td>10.22</td>\n",
       "      <td>1.00</td>\n",
       "      <td>NaN</td>\n",
       "      <td>NaN</td>\n",
       "      <td>NaN</td>\n",
       "    </tr>\n",
       "  </tbody>\n",
       "</table>\n",
       "</div>"
      ],
      "text/plain": [
       "                       Name Platform  Year_of_Release         Genre  NA_sales  \\\n",
       "0                Wii Sports      Wii           2006.0        Sports     41.36   \n",
       "1         Super Mario Bros.      NES           1985.0      Platform     29.08   \n",
       "2            Mario Kart Wii      Wii           2008.0        Racing     15.68   \n",
       "3         Wii Sports Resort      Wii           2009.0        Sports     15.61   \n",
       "4  Pokemon Red/Pokemon Blue       GB           1996.0  Role-Playing     11.27   \n",
       "\n",
       "   EU_sales  JP_sales  Other_sales  Critic_Score User_Score Rating  \n",
       "0     28.96      3.77         8.45          76.0          8      E  \n",
       "1      3.58      6.81         0.77           NaN        NaN    NaN  \n",
       "2     12.76      3.79         3.29          82.0        8.3      E  \n",
       "3     10.93      3.28         2.95          80.0          8      E  \n",
       "4      8.89     10.22         1.00           NaN        NaN    NaN  "
      ]
     },
     "execution_count": 3,
     "metadata": {},
     "output_type": "execute_result"
    }
   ],
   "source": [
    "df.head()"
   ]
  },
  {
   "cell_type": "markdown",
   "metadata": {},
   "source": [
    "**Выводы**\n",
    "\n",
    "В таблице есть пропуски в некоторых столбцах - при этом в столбцах `Critic_Score`, `User_Score`, `Rating` значительное количество пропусков.  \n",
    "Названия столбцов приведены не в нижнем регистре.  \n",
    "Типы данных в некоторых столбцах также следует преобразовать (например, год выпуска из *float* в *int*, `User_Score` из *object* в *float*). "
   ]
  },
  {
   "cell_type": "markdown",
   "metadata": {},
   "source": [
    "## Предообработка данных"
   ]
  },
  {
   "cell_type": "markdown",
   "metadata": {},
   "source": [
    "### Переименование столбцов"
   ]
  },
  {
   "cell_type": "markdown",
   "metadata": {},
   "source": [
    "Переименуем столбцы - приведем к нижнему регистру, кроме столбцов с продажами по регионам. "
   ]
  },
  {
   "cell_type": "code",
   "execution_count": 4,
   "metadata": {},
   "outputs": [
    {
     "data": {
      "text/plain": [
       "Index(['name', 'platform', 'year_of_release', 'genre', 'NA_sales', 'EU_sales',\n",
       "       'JP_sales', 'other_sales', 'critic_score', 'user_score', 'rating'],\n",
       "      dtype='object')"
      ]
     },
     "execution_count": 4,
     "metadata": {},
     "output_type": "execute_result"
    }
   ],
   "source": [
    "df.columns= df.columns.str.lower()\n",
    "df = df.rename(columns={\n",
    "    'na_sales': 'NA_sales',\n",
    "    'eu_sales': 'EU_sales',\n",
    "    'jp_sales': 'JP_sales',\n",
    "})\n",
    "df.columns"
   ]
  },
  {
   "cell_type": "markdown",
   "metadata": {},
   "source": [
    "### Заполнение пропусков"
   ]
  },
  {
   "cell_type": "markdown",
   "metadata": {},
   "source": [
    "Произведем подсчет количества пропусков."
   ]
  },
  {
   "cell_type": "code",
   "execution_count": 5,
   "metadata": {},
   "outputs": [
    {
     "data": {
      "text/html": [
       "<div>\n",
       "<style scoped>\n",
       "    .dataframe tbody tr th:only-of-type {\n",
       "        vertical-align: middle;\n",
       "    }\n",
       "\n",
       "    .dataframe tbody tr th {\n",
       "        vertical-align: top;\n",
       "    }\n",
       "\n",
       "    .dataframe thead th {\n",
       "        text-align: right;\n",
       "    }\n",
       "</style>\n",
       "<table border=\"1\" class=\"dataframe\">\n",
       "  <thead>\n",
       "    <tr style=\"text-align: right;\">\n",
       "      <th></th>\n",
       "      <th>0</th>\n",
       "    </tr>\n",
       "  </thead>\n",
       "  <tbody>\n",
       "    <tr>\n",
       "      <th>name</th>\n",
       "      <td>2</td>\n",
       "    </tr>\n",
       "    <tr>\n",
       "      <th>platform</th>\n",
       "      <td>0</td>\n",
       "    </tr>\n",
       "    <tr>\n",
       "      <th>year_of_release</th>\n",
       "      <td>269</td>\n",
       "    </tr>\n",
       "    <tr>\n",
       "      <th>genre</th>\n",
       "      <td>2</td>\n",
       "    </tr>\n",
       "    <tr>\n",
       "      <th>NA_sales</th>\n",
       "      <td>0</td>\n",
       "    </tr>\n",
       "    <tr>\n",
       "      <th>EU_sales</th>\n",
       "      <td>0</td>\n",
       "    </tr>\n",
       "    <tr>\n",
       "      <th>JP_sales</th>\n",
       "      <td>0</td>\n",
       "    </tr>\n",
       "    <tr>\n",
       "      <th>other_sales</th>\n",
       "      <td>0</td>\n",
       "    </tr>\n",
       "    <tr>\n",
       "      <th>critic_score</th>\n",
       "      <td>8578</td>\n",
       "    </tr>\n",
       "    <tr>\n",
       "      <th>user_score</th>\n",
       "      <td>6701</td>\n",
       "    </tr>\n",
       "    <tr>\n",
       "      <th>rating</th>\n",
       "      <td>6766</td>\n",
       "    </tr>\n",
       "  </tbody>\n",
       "</table>\n",
       "</div>"
      ],
      "text/plain": [
       "                    0\n",
       "name                2\n",
       "platform            0\n",
       "year_of_release   269\n",
       "genre               2\n",
       "NA_sales            0\n",
       "EU_sales            0\n",
       "JP_sales            0\n",
       "other_sales         0\n",
       "critic_score     8578\n",
       "user_score       6701\n",
       "rating           6766"
      ]
     },
     "execution_count": 5,
     "metadata": {},
     "output_type": "execute_result"
    }
   ],
   "source": [
    "# подсчет пропусков\n",
    "df.isna().sum().to_frame()"
   ]
  },
  {
   "cell_type": "markdown",
   "metadata": {},
   "source": [
    "Посмотрим на пропуски в столбце `name`.  \n",
    "\n",
    "Видно, что 2 пропуска совпадают с пропусками в столбце `genre`."
   ]
  },
  {
   "cell_type": "code",
   "execution_count": 6,
   "metadata": {},
   "outputs": [
    {
     "data": {
      "text/html": [
       "<div>\n",
       "<style scoped>\n",
       "    .dataframe tbody tr th:only-of-type {\n",
       "        vertical-align: middle;\n",
       "    }\n",
       "\n",
       "    .dataframe tbody tr th {\n",
       "        vertical-align: top;\n",
       "    }\n",
       "\n",
       "    .dataframe thead th {\n",
       "        text-align: right;\n",
       "    }\n",
       "</style>\n",
       "<table border=\"1\" class=\"dataframe\">\n",
       "  <thead>\n",
       "    <tr style=\"text-align: right;\">\n",
       "      <th></th>\n",
       "      <th>name</th>\n",
       "      <th>platform</th>\n",
       "      <th>year_of_release</th>\n",
       "      <th>genre</th>\n",
       "      <th>NA_sales</th>\n",
       "      <th>EU_sales</th>\n",
       "      <th>JP_sales</th>\n",
       "      <th>other_sales</th>\n",
       "      <th>critic_score</th>\n",
       "      <th>user_score</th>\n",
       "      <th>rating</th>\n",
       "    </tr>\n",
       "  </thead>\n",
       "  <tbody>\n",
       "    <tr>\n",
       "      <th>659</th>\n",
       "      <td>NaN</td>\n",
       "      <td>GEN</td>\n",
       "      <td>1993.0</td>\n",
       "      <td>NaN</td>\n",
       "      <td>1.78</td>\n",
       "      <td>0.53</td>\n",
       "      <td>0.00</td>\n",
       "      <td>0.08</td>\n",
       "      <td>NaN</td>\n",
       "      <td>NaN</td>\n",
       "      <td>NaN</td>\n",
       "    </tr>\n",
       "    <tr>\n",
       "      <th>14244</th>\n",
       "      <td>NaN</td>\n",
       "      <td>GEN</td>\n",
       "      <td>1993.0</td>\n",
       "      <td>NaN</td>\n",
       "      <td>0.00</td>\n",
       "      <td>0.00</td>\n",
       "      <td>0.03</td>\n",
       "      <td>0.00</td>\n",
       "      <td>NaN</td>\n",
       "      <td>NaN</td>\n",
       "      <td>NaN</td>\n",
       "    </tr>\n",
       "  </tbody>\n",
       "</table>\n",
       "</div>"
      ],
      "text/plain": [
       "      name platform  year_of_release genre  NA_sales  EU_sales  JP_sales  \\\n",
       "659    NaN      GEN           1993.0   NaN      1.78      0.53      0.00   \n",
       "14244  NaN      GEN           1993.0   NaN      0.00      0.00      0.03   \n",
       "\n",
       "       other_sales  critic_score user_score rating  \n",
       "659           0.08           NaN        NaN    NaN  \n",
       "14244         0.00           NaN        NaN    NaN  "
      ]
     },
     "execution_count": 6,
     "metadata": {},
     "output_type": "execute_result"
    }
   ],
   "source": [
    "df[df['name'].isna() == True]"
   ]
  },
  {
   "cell_type": "markdown",
   "metadata": {},
   "source": [
    "Удалим пропуски в указанных столбцах."
   ]
  },
  {
   "cell_type": "code",
   "execution_count": 7,
   "metadata": {},
   "outputs": [],
   "source": [
    "df = df.dropna(subset=['name', 'genre'])"
   ]
  },
  {
   "cell_type": "markdown",
   "metadata": {},
   "source": [
    "Рассмотрим пропуски в годах выпуска игр.  \n",
    "Учитывая, что в названии некоторых игр присутствует год, можно заполнить пропуски в `year_of_release` по числам в названии игры.  "
   ]
  },
  {
   "cell_type": "code",
   "execution_count": 8,
   "metadata": {
    "scrolled": true
   },
   "outputs": [
    {
     "data": {
      "text/html": [
       "<div>\n",
       "<style scoped>\n",
       "    .dataframe tbody tr th:only-of-type {\n",
       "        vertical-align: middle;\n",
       "    }\n",
       "\n",
       "    .dataframe tbody tr th {\n",
       "        vertical-align: top;\n",
       "    }\n",
       "\n",
       "    .dataframe thead th {\n",
       "        text-align: right;\n",
       "    }\n",
       "</style>\n",
       "<table border=\"1\" class=\"dataframe\">\n",
       "  <thead>\n",
       "    <tr style=\"text-align: right;\">\n",
       "      <th></th>\n",
       "      <th>name</th>\n",
       "      <th>platform</th>\n",
       "      <th>year_of_release</th>\n",
       "      <th>genre</th>\n",
       "      <th>NA_sales</th>\n",
       "      <th>EU_sales</th>\n",
       "      <th>JP_sales</th>\n",
       "      <th>other_sales</th>\n",
       "      <th>critic_score</th>\n",
       "      <th>user_score</th>\n",
       "      <th>rating</th>\n",
       "    </tr>\n",
       "  </thead>\n",
       "  <tbody>\n",
       "    <tr>\n",
       "      <th>183</th>\n",
       "      <td>Madden NFL 2004</td>\n",
       "      <td>PS2</td>\n",
       "      <td>NaN</td>\n",
       "      <td>Sports</td>\n",
       "      <td>4.26</td>\n",
       "      <td>0.26</td>\n",
       "      <td>0.01</td>\n",
       "      <td>0.71</td>\n",
       "      <td>94.0</td>\n",
       "      <td>8.5</td>\n",
       "      <td>E</td>\n",
       "    </tr>\n",
       "    <tr>\n",
       "      <th>377</th>\n",
       "      <td>FIFA Soccer 2004</td>\n",
       "      <td>PS2</td>\n",
       "      <td>NaN</td>\n",
       "      <td>Sports</td>\n",
       "      <td>0.59</td>\n",
       "      <td>2.36</td>\n",
       "      <td>0.04</td>\n",
       "      <td>0.51</td>\n",
       "      <td>84.0</td>\n",
       "      <td>6.4</td>\n",
       "      <td>E</td>\n",
       "    </tr>\n",
       "    <tr>\n",
       "      <th>456</th>\n",
       "      <td>LEGO Batman: The Videogame</td>\n",
       "      <td>Wii</td>\n",
       "      <td>NaN</td>\n",
       "      <td>Action</td>\n",
       "      <td>1.80</td>\n",
       "      <td>0.97</td>\n",
       "      <td>0.00</td>\n",
       "      <td>0.29</td>\n",
       "      <td>74.0</td>\n",
       "      <td>7.9</td>\n",
       "      <td>E10+</td>\n",
       "    </tr>\n",
       "    <tr>\n",
       "      <th>475</th>\n",
       "      <td>wwe Smackdown vs. Raw 2006</td>\n",
       "      <td>PS2</td>\n",
       "      <td>NaN</td>\n",
       "      <td>Fighting</td>\n",
       "      <td>1.57</td>\n",
       "      <td>1.02</td>\n",
       "      <td>0.00</td>\n",
       "      <td>0.41</td>\n",
       "      <td>NaN</td>\n",
       "      <td>NaN</td>\n",
       "      <td>NaN</td>\n",
       "    </tr>\n",
       "    <tr>\n",
       "      <th>609</th>\n",
       "      <td>Space Invaders</td>\n",
       "      <td>2600</td>\n",
       "      <td>NaN</td>\n",
       "      <td>Shooter</td>\n",
       "      <td>2.36</td>\n",
       "      <td>0.14</td>\n",
       "      <td>0.00</td>\n",
       "      <td>0.03</td>\n",
       "      <td>NaN</td>\n",
       "      <td>NaN</td>\n",
       "      <td>NaN</td>\n",
       "    </tr>\n",
       "  </tbody>\n",
       "</table>\n",
       "</div>"
      ],
      "text/plain": [
       "                           name platform  year_of_release     genre  NA_sales  \\\n",
       "183             Madden NFL 2004      PS2              NaN    Sports      4.26   \n",
       "377            FIFA Soccer 2004      PS2              NaN    Sports      0.59   \n",
       "456  LEGO Batman: The Videogame      Wii              NaN    Action      1.80   \n",
       "475  wwe Smackdown vs. Raw 2006      PS2              NaN  Fighting      1.57   \n",
       "609              Space Invaders     2600              NaN   Shooter      2.36   \n",
       "\n",
       "     EU_sales  JP_sales  other_sales  critic_score user_score rating  \n",
       "183      0.26      0.01         0.71          94.0        8.5      E  \n",
       "377      2.36      0.04         0.51          84.0        6.4      E  \n",
       "456      0.97      0.00         0.29          74.0        7.9   E10+  \n",
       "475      1.02      0.00         0.41           NaN        NaN    NaN  \n",
       "609      0.14      0.00         0.03           NaN        NaN    NaN  "
      ]
     },
     "execution_count": 8,
     "metadata": {},
     "output_type": "execute_result"
    }
   ],
   "source": [
    "df[df['year_of_release'].isna() == True].head(5)"
   ]
  },
  {
   "cell_type": "markdown",
   "metadata": {},
   "source": [
    "Создадим столбец `numbers_in_names`, в котором выделим числа из названий игр."
   ]
  },
  {
   "cell_type": "code",
   "execution_count": 9,
   "metadata": {
    "scrolled": true
   },
   "outputs": [
    {
     "name": "stdout",
     "output_type": "stream",
     "text": [
      "Кол-во строк: 17\n"
     ]
    }
   ],
   "source": [
    "df['numbers_in_names'] = df['name'].str.extract('(\\d+)').fillna('0').astype('int')\n",
    "# отфильтруем значения в столбце, оставив числа с 1980 до 2016\n",
    "print('Кол-во строк:', len(df.query\\\n",
    "('(year_of_release.isna() == True) & (numbers_in_names > 1980) & (numbers_in_names < 2016)')))"
   ]
  },
  {
   "cell_type": "markdown",
   "metadata": {},
   "source": [
    "Рассмотрим оставшиеся значения в созданном столбце `numbers_in_names`. \n",
    "\n",
    "Из таблицы ниже в качестве года также подходят значения \"99\" и \"11\" как 1999 и 2011 соответственно. "
   ]
  },
  {
   "cell_type": "code",
   "execution_count": 10,
   "metadata": {
    "scrolled": true
   },
   "outputs": [
    {
     "data": {
      "text/html": [
       "<div>\n",
       "<style scoped>\n",
       "    .dataframe tbody tr th:only-of-type {\n",
       "        vertical-align: middle;\n",
       "    }\n",
       "\n",
       "    .dataframe tbody tr th {\n",
       "        vertical-align: top;\n",
       "    }\n",
       "\n",
       "    .dataframe thead th {\n",
       "        text-align: right;\n",
       "    }\n",
       "</style>\n",
       "<table border=\"1\" class=\"dataframe\">\n",
       "  <thead>\n",
       "    <tr style=\"text-align: right;\">\n",
       "      <th></th>\n",
       "      <th>numbers_in_names</th>\n",
       "    </tr>\n",
       "  </thead>\n",
       "  <tbody>\n",
       "    <tr>\n",
       "      <th>99</th>\n",
       "      <td>2</td>\n",
       "    </tr>\n",
       "    <tr>\n",
       "      <th>20</th>\n",
       "      <td>2</td>\n",
       "    </tr>\n",
       "    <tr>\n",
       "      <th>64</th>\n",
       "      <td>1</td>\n",
       "    </tr>\n",
       "    <tr>\n",
       "      <th>500</th>\n",
       "      <td>1</td>\n",
       "    </tr>\n",
       "    <tr>\n",
       "      <th>11</th>\n",
       "      <td>1</td>\n",
       "    </tr>\n",
       "  </tbody>\n",
       "</table>\n",
       "</div>"
      ],
      "text/plain": [
       "     numbers_in_names\n",
       "99                  2\n",
       "20                  2\n",
       "64                  1\n",
       "500                 1\n",
       "11                  1"
      ]
     },
     "execution_count": 10,
     "metadata": {},
     "output_type": "execute_result"
    }
   ],
   "source": [
    "# отфильтруем значения в столбце и рассмотрим оставшиеся значения\n",
    "df[(df['year_of_release'].isna() == True) & \\\n",
    "   (df['numbers_in_names'] < 1980) & (df['numbers_in_names'] > 10)]\\\n",
    "['numbers_in_names'].value_counts().to_frame()"
   ]
  },
  {
   "cell_type": "markdown",
   "metadata": {},
   "source": [
    "Заполним пропуски в `year_of_release` для игр, в названии которых указан год, учитывая то, что обычно игра выпускается за 1 год, до указанного в названии игры года."
   ]
  },
  {
   "cell_type": "code",
   "execution_count": 11,
   "metadata": {},
   "outputs": [],
   "source": [
    "# заполнение пропусков в `year_of_release`\n",
    "df.loc[(df['year_of_release'].isna() == True) & (df['numbers_in_names'] > 1980)\\\n",
    "       & (df['numbers_in_names'] < 2016), 'year_of_release'] = df['numbers_in_names'] - 1\n",
    "df.loc[(df['year_of_release'].isna() == True) & (df['numbers_in_names'] == 99), 'year_of_release'] = 1998\n",
    "df.loc[(df['year_of_release'].isna() == True) & (df['numbers_in_names'] == 11), 'year_of_release'] = 2010\n",
    "# удаление вспомогательного столбца\n",
    "df = df.drop(columns='numbers_in_names', axis=1)"
   ]
  },
  {
   "cell_type": "markdown",
   "metadata": {},
   "source": [
    "Учитывая, что год выпуска игры является критической информацией для дальнейшего анализа оставшиеся пропуски в `year_of_release` удалим."
   ]
  },
  {
   "cell_type": "code",
   "execution_count": 12,
   "metadata": {},
   "outputs": [
    {
     "name": "stdout",
     "output_type": "stream",
     "text": [
      "Количество удаленных строк: 249\n",
      "Доля удаленных строк: 1.490%\n"
     ]
    }
   ],
   "source": [
    "before = len(df)\n",
    "df = df.dropna(subset=['year_of_release'])\n",
    "after = len(df)\n",
    "print('Количество удаленных строк:', before - after)\n",
    "print(\"Доля удаленных строк: \"'{0:.3%}'.format((before - after)/before))"
   ]
  },
  {
   "cell_type": "markdown",
   "metadata": {},
   "source": [
    "Заполним пропуски в столбце `rating` условным значением `Nan`."
   ]
  },
  {
   "cell_type": "code",
   "execution_count": 13,
   "metadata": {},
   "outputs": [],
   "source": [
    "df['rating'] = df['rating'].fillna('Nan')"
   ]
  },
  {
   "cell_type": "markdown",
   "metadata": {},
   "source": [
    "Рассмотрим аббревиатуру `'tbd'` в столбце с оценкой пользователей, определим количество строк."
   ]
  },
  {
   "cell_type": "code",
   "execution_count": 14,
   "metadata": {},
   "outputs": [
    {
     "name": "stdout",
     "output_type": "stream",
     "text": [
      "Кол-во строк: 2378\n"
     ]
    },
    {
     "data": {
      "text/html": [
       "<div>\n",
       "<style scoped>\n",
       "    .dataframe tbody tr th:only-of-type {\n",
       "        vertical-align: middle;\n",
       "    }\n",
       "\n",
       "    .dataframe tbody tr th {\n",
       "        vertical-align: top;\n",
       "    }\n",
       "\n",
       "    .dataframe thead th {\n",
       "        text-align: right;\n",
       "    }\n",
       "</style>\n",
       "<table border=\"1\" class=\"dataframe\">\n",
       "  <thead>\n",
       "    <tr style=\"text-align: right;\">\n",
       "      <th></th>\n",
       "      <th>name</th>\n",
       "      <th>platform</th>\n",
       "      <th>year_of_release</th>\n",
       "      <th>genre</th>\n",
       "      <th>NA_sales</th>\n",
       "      <th>EU_sales</th>\n",
       "      <th>JP_sales</th>\n",
       "      <th>other_sales</th>\n",
       "      <th>critic_score</th>\n",
       "      <th>user_score</th>\n",
       "      <th>rating</th>\n",
       "    </tr>\n",
       "  </thead>\n",
       "  <tbody>\n",
       "    <tr>\n",
       "      <th>16521</th>\n",
       "      <td>ESPN NBA 2Night 2002</td>\n",
       "      <td>XB</td>\n",
       "      <td>2002.0</td>\n",
       "      <td>Sports</td>\n",
       "      <td>0.01</td>\n",
       "      <td>0.00</td>\n",
       "      <td>0.0</td>\n",
       "      <td>0.00</td>\n",
       "      <td>NaN</td>\n",
       "      <td>tbd</td>\n",
       "      <td>E</td>\n",
       "    </tr>\n",
       "    <tr>\n",
       "      <th>8451</th>\n",
       "      <td>ZhuZhu Puppies</td>\n",
       "      <td>DS</td>\n",
       "      <td>2011.0</td>\n",
       "      <td>Simulation</td>\n",
       "      <td>0.12</td>\n",
       "      <td>0.03</td>\n",
       "      <td>0.0</td>\n",
       "      <td>0.01</td>\n",
       "      <td>NaN</td>\n",
       "      <td>tbd</td>\n",
       "      <td>E</td>\n",
       "    </tr>\n",
       "    <tr>\n",
       "      <th>11408</th>\n",
       "      <td>Martian Panic</td>\n",
       "      <td>Wii</td>\n",
       "      <td>2010.0</td>\n",
       "      <td>Adventure</td>\n",
       "      <td>0.08</td>\n",
       "      <td>0.00</td>\n",
       "      <td>0.0</td>\n",
       "      <td>0.00</td>\n",
       "      <td>NaN</td>\n",
       "      <td>tbd</td>\n",
       "      <td>T</td>\n",
       "    </tr>\n",
       "    <tr>\n",
       "      <th>7168</th>\n",
       "      <td>Discovery Kids: Dolphin Discovery</td>\n",
       "      <td>DS</td>\n",
       "      <td>2008.0</td>\n",
       "      <td>Simulation</td>\n",
       "      <td>0.20</td>\n",
       "      <td>0.00</td>\n",
       "      <td>0.0</td>\n",
       "      <td>0.01</td>\n",
       "      <td>NaN</td>\n",
       "      <td>tbd</td>\n",
       "      <td>E</td>\n",
       "    </tr>\n",
       "    <tr>\n",
       "      <th>15358</th>\n",
       "      <td>Taito Legends 2</td>\n",
       "      <td>PS2</td>\n",
       "      <td>2006.0</td>\n",
       "      <td>Misc</td>\n",
       "      <td>0.01</td>\n",
       "      <td>0.01</td>\n",
       "      <td>0.0</td>\n",
       "      <td>0.00</td>\n",
       "      <td>67.0</td>\n",
       "      <td>tbd</td>\n",
       "      <td>T</td>\n",
       "    </tr>\n",
       "  </tbody>\n",
       "</table>\n",
       "</div>"
      ],
      "text/plain": [
       "                                    name platform  year_of_release  \\\n",
       "16521               ESPN NBA 2Night 2002       XB           2002.0   \n",
       "8451                      ZhuZhu Puppies       DS           2011.0   \n",
       "11408                      Martian Panic      Wii           2010.0   \n",
       "7168   Discovery Kids: Dolphin Discovery       DS           2008.0   \n",
       "15358                    Taito Legends 2      PS2           2006.0   \n",
       "\n",
       "            genre  NA_sales  EU_sales  JP_sales  other_sales  critic_score  \\\n",
       "16521      Sports      0.01      0.00       0.0         0.00           NaN   \n",
       "8451   Simulation      0.12      0.03       0.0         0.01           NaN   \n",
       "11408   Adventure      0.08      0.00       0.0         0.00           NaN   \n",
       "7168   Simulation      0.20      0.00       0.0         0.01           NaN   \n",
       "15358        Misc      0.01      0.01       0.0         0.00          67.0   \n",
       "\n",
       "      user_score rating  \n",
       "16521        tbd      E  \n",
       "8451         tbd      E  \n",
       "11408        tbd      T  \n",
       "7168         tbd      E  \n",
       "15358        tbd      T  "
      ]
     },
     "execution_count": 14,
     "metadata": {},
     "output_type": "execute_result"
    }
   ],
   "source": [
    "print('Кол-во строк:', len(df[df['user_score'] == 'tbd']))\n",
    "df[df['user_score'] == 'tbd'].sample(5)"
   ]
  },
  {
   "cell_type": "markdown",
   "metadata": {},
   "source": [
    "Строчное значение `'tbd'` заменим на NaN."
   ]
  },
  {
   "cell_type": "code",
   "execution_count": 15,
   "metadata": {},
   "outputs": [],
   "source": [
    "df.loc[df['user_score'] == 'tbd', 'user_score'] = np.nan"
   ]
  },
  {
   "cell_type": "markdown",
   "metadata": {},
   "source": [
    "Посчитаем суммарные продажи во всех регионах и запишем их в отдельный столбец - `total_sales`."
   ]
  },
  {
   "cell_type": "code",
   "execution_count": 16,
   "metadata": {},
   "outputs": [],
   "source": [
    "df['total_sales'] = df['NA_sales'] + df['JP_sales'] + df['EU_sales'] + df['other_sales']"
   ]
  },
  {
   "cell_type": "code",
   "execution_count": 17,
   "metadata": {},
   "outputs": [
    {
     "data": {
      "text/html": [
       "<div>\n",
       "<style scoped>\n",
       "    .dataframe tbody tr th:only-of-type {\n",
       "        vertical-align: middle;\n",
       "    }\n",
       "\n",
       "    .dataframe tbody tr th {\n",
       "        vertical-align: top;\n",
       "    }\n",
       "\n",
       "    .dataframe thead th {\n",
       "        text-align: right;\n",
       "    }\n",
       "</style>\n",
       "<table border=\"1\" class=\"dataframe\">\n",
       "  <thead>\n",
       "    <tr style=\"text-align: right;\">\n",
       "      <th></th>\n",
       "      <th>0</th>\n",
       "    </tr>\n",
       "  </thead>\n",
       "  <tbody>\n",
       "    <tr>\n",
       "      <th>name</th>\n",
       "      <td>0</td>\n",
       "    </tr>\n",
       "    <tr>\n",
       "      <th>platform</th>\n",
       "      <td>0</td>\n",
       "    </tr>\n",
       "    <tr>\n",
       "      <th>year_of_release</th>\n",
       "      <td>0</td>\n",
       "    </tr>\n",
       "    <tr>\n",
       "      <th>genre</th>\n",
       "      <td>0</td>\n",
       "    </tr>\n",
       "    <tr>\n",
       "      <th>NA_sales</th>\n",
       "      <td>0</td>\n",
       "    </tr>\n",
       "    <tr>\n",
       "      <th>EU_sales</th>\n",
       "      <td>0</td>\n",
       "    </tr>\n",
       "    <tr>\n",
       "      <th>JP_sales</th>\n",
       "      <td>0</td>\n",
       "    </tr>\n",
       "    <tr>\n",
       "      <th>other_sales</th>\n",
       "      <td>0</td>\n",
       "    </tr>\n",
       "    <tr>\n",
       "      <th>critic_score</th>\n",
       "      <td>8467</td>\n",
       "    </tr>\n",
       "    <tr>\n",
       "      <th>user_score</th>\n",
       "      <td>8989</td>\n",
       "    </tr>\n",
       "    <tr>\n",
       "      <th>rating</th>\n",
       "      <td>0</td>\n",
       "    </tr>\n",
       "    <tr>\n",
       "      <th>total_sales</th>\n",
       "      <td>0</td>\n",
       "    </tr>\n",
       "  </tbody>\n",
       "</table>\n",
       "</div>"
      ],
      "text/plain": [
       "                    0\n",
       "name                0\n",
       "platform            0\n",
       "year_of_release     0\n",
       "genre               0\n",
       "NA_sales            0\n",
       "EU_sales            0\n",
       "JP_sales            0\n",
       "other_sales         0\n",
       "critic_score     8467\n",
       "user_score       8989\n",
       "rating              0\n",
       "total_sales         0"
      ]
     },
     "execution_count": 17,
     "metadata": {},
     "output_type": "execute_result"
    }
   ],
   "source": [
    "# итоговая проверка количества пропусков\n",
    "df.isna().sum().to_frame()"
   ]
  },
  {
   "cell_type": "markdown",
   "metadata": {},
   "source": [
    "**Выводы**\n",
    "\n",
    "Была произведена обработка пропусков:\n",
    "* Совпадающие пропуски в `genre` и `name` в кол-ве 2 шт. были удалены;\n",
    "* Пропуски в `year_of_release` частично были заполнены с использованием года в названии игры, оставшиеся пропуски были удалены, так как год выпуска игр является критической информацией для дальнейшего анализа;\n",
    "* Пропуски в столбце `rating` были заполнены условным значением `Nan`;\n",
    "* Аббревиатура ***'tbd'*** в столбце `user_score` была заменена на NaN, так как данное значение было в виде строки;\n",
    "* Для оставшихся пропусков в столбцах `critic_score`, `user_score`, нет подходящего значения на замену.\n",
    "\n",
    "Посчитаны суммарные продажи во всех регионах в столбец `total_score`."
   ]
  },
  {
   "cell_type": "markdown",
   "metadata": {},
   "source": [
    "### Изменение типов данных"
   ]
  },
  {
   "cell_type": "markdown",
   "metadata": {},
   "source": [
    "Заменим тип данных в столбце `year_of_release` с вещественного на целочисленный.  \n",
    "Заменим тип данных в столбцах `name`, `platform`, `genre` на string.  \n",
    "С учетом пропусков заменим тип данных в столбце `critic_score` на целочисленный (Int64).  \n",
    "Изменим тип данных в столбце `user_score` на float."
   ]
  },
  {
   "cell_type": "code",
   "execution_count": 18,
   "metadata": {},
   "outputs": [
    {
     "data": {
      "text/html": [
       "<div>\n",
       "<style scoped>\n",
       "    .dataframe tbody tr th:only-of-type {\n",
       "        vertical-align: middle;\n",
       "    }\n",
       "\n",
       "    .dataframe tbody tr th {\n",
       "        vertical-align: top;\n",
       "    }\n",
       "\n",
       "    .dataframe thead th {\n",
       "        text-align: right;\n",
       "    }\n",
       "</style>\n",
       "<table border=\"1\" class=\"dataframe\">\n",
       "  <thead>\n",
       "    <tr style=\"text-align: right;\">\n",
       "      <th></th>\n",
       "      <th>0</th>\n",
       "    </tr>\n",
       "  </thead>\n",
       "  <tbody>\n",
       "    <tr>\n",
       "      <th>year_of_release</th>\n",
       "      <td>int64</td>\n",
       "    </tr>\n",
       "    <tr>\n",
       "      <th>name</th>\n",
       "      <td>string</td>\n",
       "    </tr>\n",
       "    <tr>\n",
       "      <th>platform</th>\n",
       "      <td>string</td>\n",
       "    </tr>\n",
       "    <tr>\n",
       "      <th>genre</th>\n",
       "      <td>string</td>\n",
       "    </tr>\n",
       "    <tr>\n",
       "      <th>critic_score</th>\n",
       "      <td>Int64</td>\n",
       "    </tr>\n",
       "    <tr>\n",
       "      <th>user_score</th>\n",
       "      <td>float64</td>\n",
       "    </tr>\n",
       "  </tbody>\n",
       "</table>\n",
       "</div>"
      ],
      "text/plain": [
       "                       0\n",
       "year_of_release    int64\n",
       "name              string\n",
       "platform          string\n",
       "genre             string\n",
       "critic_score       Int64\n",
       "user_score       float64"
      ]
     },
     "execution_count": 18,
     "metadata": {},
     "output_type": "execute_result"
    }
   ],
   "source": [
    "df['year_of_release'] = df['year_of_release'].astype('int')\n",
    "df[['name', 'platform', 'genre']] = df[['name', 'platform', 'genre']].astype('string')\n",
    "df['critic_score'] = df['critic_score'].astype('Int64')\n",
    "df['user_score'] = df['user_score'].astype('float64')\n",
    "# проверка изменения типа данных в столбцах\n",
    "df[['year_of_release', 'name', 'platform', 'genre', 'critic_score', 'user_score']].dtypes.to_frame()"
   ]
  },
  {
   "cell_type": "markdown",
   "metadata": {},
   "source": [
    "**Выводы**\n",
    "\n",
    "В столбцах `name`, `platform`, `genre` тип данных изменен на ***string***.\n",
    "\n",
    "В столбцах `year_of_release`, `critic_score` с учетом целочисленных значений в них тип данных изменен на ***int64***.  \n",
    "\n",
    "В столбце `user_score` с учет данных в десятичных числах тип изменен на ***float***."
   ]
  },
  {
   "cell_type": "markdown",
   "metadata": {},
   "source": [
    "## Исследовательский анализ данных"
   ]
  },
  {
   "cell_type": "markdown",
   "metadata": {},
   "source": [
    "### Количество выпускаемых игр по годам"
   ]
  },
  {
   "cell_type": "markdown",
   "metadata": {},
   "source": [
    "Рассмотрим сколько игр выпускалось в разные годы - построим гистограмму и таблицу с группировкой по годам.  \n",
    "Видно, что в до 2000 года игр выпускалось мало - до 400 штук в год."
   ]
  },
  {
   "cell_type": "code",
   "execution_count": 19,
   "metadata": {},
   "outputs": [
    {
     "data": {
      "image/png": "[encoded data removed]",
      "text/plain": [
       "<Figure size 432x288 with 1 Axes>"
      ]
     },
     "metadata": {
      "needs_background": "light"
     },
     "output_type": "display_data"
    }
   ],
   "source": [
    "df['year_of_release'].hist(range=(1980,2016), bins=37);"
   ]
  },
  {
   "cell_type": "code",
   "execution_count": 20,
   "metadata": {},
   "outputs": [
    {
     "data": {
      "text/html": [
       "<div>\n",
       "<style scoped>\n",
       "    .dataframe tbody tr th:only-of-type {\n",
       "        vertical-align: middle;\n",
       "    }\n",
       "\n",
       "    .dataframe tbody tr th {\n",
       "        vertical-align: top;\n",
       "    }\n",
       "\n",
       "    .dataframe thead th {\n",
       "        text-align: right;\n",
       "    }\n",
       "</style>\n",
       "<table border=\"1\" class=\"dataframe\">\n",
       "  <thead>\n",
       "    <tr style=\"text-align: right;\">\n",
       "      <th></th>\n",
       "      <th>year_of_release</th>\n",
       "      <th>name</th>\n",
       "    </tr>\n",
       "  </thead>\n",
       "  <tbody>\n",
       "    <tr>\n",
       "      <th>0</th>\n",
       "      <td>2016</td>\n",
       "      <td>502</td>\n",
       "    </tr>\n",
       "    <tr>\n",
       "      <th>1</th>\n",
       "      <td>2015</td>\n",
       "      <td>606</td>\n",
       "    </tr>\n",
       "    <tr>\n",
       "      <th>2</th>\n",
       "      <td>2014</td>\n",
       "      <td>581</td>\n",
       "    </tr>\n",
       "    <tr>\n",
       "      <th>3</th>\n",
       "      <td>2013</td>\n",
       "      <td>544</td>\n",
       "    </tr>\n",
       "    <tr>\n",
       "      <th>4</th>\n",
       "      <td>2012</td>\n",
       "      <td>654</td>\n",
       "    </tr>\n",
       "    <tr>\n",
       "      <th>5</th>\n",
       "      <td>2011</td>\n",
       "      <td>1136</td>\n",
       "    </tr>\n",
       "    <tr>\n",
       "      <th>6</th>\n",
       "      <td>2010</td>\n",
       "      <td>1257</td>\n",
       "    </tr>\n",
       "    <tr>\n",
       "      <th>7</th>\n",
       "      <td>2009</td>\n",
       "      <td>1426</td>\n",
       "    </tr>\n",
       "    <tr>\n",
       "      <th>8</th>\n",
       "      <td>2008</td>\n",
       "      <td>1428</td>\n",
       "    </tr>\n",
       "    <tr>\n",
       "      <th>9</th>\n",
       "      <td>2007</td>\n",
       "      <td>1199</td>\n",
       "    </tr>\n",
       "    <tr>\n",
       "      <th>10</th>\n",
       "      <td>2006</td>\n",
       "      <td>1007</td>\n",
       "    </tr>\n",
       "    <tr>\n",
       "      <th>11</th>\n",
       "      <td>2005</td>\n",
       "      <td>941</td>\n",
       "    </tr>\n",
       "    <tr>\n",
       "      <th>12</th>\n",
       "      <td>2004</td>\n",
       "      <td>764</td>\n",
       "    </tr>\n",
       "    <tr>\n",
       "      <th>13</th>\n",
       "      <td>2003</td>\n",
       "      <td>777</td>\n",
       "    </tr>\n",
       "    <tr>\n",
       "      <th>14</th>\n",
       "      <td>2002</td>\n",
       "      <td>833</td>\n",
       "    </tr>\n",
       "    <tr>\n",
       "      <th>15</th>\n",
       "      <td>2001</td>\n",
       "      <td>483</td>\n",
       "    </tr>\n",
       "  </tbody>\n",
       "</table>\n",
       "</div>"
      ],
      "text/plain": [
       "    year_of_release  name\n",
       "0              2016   502\n",
       "1              2015   606\n",
       "2              2014   581\n",
       "3              2013   544\n",
       "4              2012   654\n",
       "5              2011  1136\n",
       "6              2010  1257\n",
       "7              2009  1426\n",
       "8              2008  1428\n",
       "9              2007  1199\n",
       "10             2006  1007\n",
       "11             2005   941\n",
       "12             2004   764\n",
       "13             2003   777\n",
       "14             2002   833\n",
       "15             2001   483"
      ]
     },
     "execution_count": 20,
     "metadata": {},
     "output_type": "execute_result"
    }
   ],
   "source": [
    "df.groupby('year_of_release')['name'].count().to_frame().sort_values(by='year_of_release', ascending=False).\\\n",
    "head(16).reset_index()"
   ]
  },
  {
   "cell_type": "markdown",
   "metadata": {},
   "source": [
    "**Выводы**\n",
    "\n",
    "Можно считать, что данные до 2000 года не важны - ввиду малого количества выпущенных игр в указанный период."
   ]
  },
  {
   "cell_type": "markdown",
   "metadata": {},
   "source": [
    "### Продажи по платформам"
   ]
  },
  {
   "cell_type": "markdown",
   "metadata": {},
   "source": [
    "Выберем топ 10 платформ с наибольшими суммарными продажами и сохраним в таблицу `top_platforms`. "
   ]
  },
  {
   "cell_type": "code",
   "execution_count": 21,
   "metadata": {},
   "outputs": [
    {
     "data": {
      "text/html": [
       "<div>\n",
       "<style scoped>\n",
       "    .dataframe tbody tr th:only-of-type {\n",
       "        vertical-align: middle;\n",
       "    }\n",
       "\n",
       "    .dataframe tbody tr th {\n",
       "        vertical-align: top;\n",
       "    }\n",
       "\n",
       "    .dataframe thead th {\n",
       "        text-align: right;\n",
       "    }\n",
       "</style>\n",
       "<table border=\"1\" class=\"dataframe\">\n",
       "  <thead>\n",
       "    <tr style=\"text-align: right;\">\n",
       "      <th></th>\n",
       "      <th>platform</th>\n",
       "      <th>total_sales</th>\n",
       "    </tr>\n",
       "  </thead>\n",
       "  <tbody>\n",
       "    <tr>\n",
       "      <th>0</th>\n",
       "      <td>PS2</td>\n",
       "      <td>1247.28</td>\n",
       "    </tr>\n",
       "    <tr>\n",
       "      <th>1</th>\n",
       "      <td>X360</td>\n",
       "      <td>961.30</td>\n",
       "    </tr>\n",
       "    <tr>\n",
       "      <th>2</th>\n",
       "      <td>PS3</td>\n",
       "      <td>931.34</td>\n",
       "    </tr>\n",
       "    <tr>\n",
       "      <th>3</th>\n",
       "      <td>Wii</td>\n",
       "      <td>891.90</td>\n",
       "    </tr>\n",
       "    <tr>\n",
       "      <th>4</th>\n",
       "      <td>DS</td>\n",
       "      <td>802.79</td>\n",
       "    </tr>\n",
       "    <tr>\n",
       "      <th>5</th>\n",
       "      <td>PS</td>\n",
       "      <td>729.04</td>\n",
       "    </tr>\n",
       "    <tr>\n",
       "      <th>6</th>\n",
       "      <td>PS4</td>\n",
       "      <td>314.14</td>\n",
       "    </tr>\n",
       "    <tr>\n",
       "      <th>7</th>\n",
       "      <td>GBA</td>\n",
       "      <td>312.88</td>\n",
       "    </tr>\n",
       "    <tr>\n",
       "      <th>8</th>\n",
       "      <td>PSP</td>\n",
       "      <td>290.34</td>\n",
       "    </tr>\n",
       "    <tr>\n",
       "      <th>9</th>\n",
       "      <td>3DS</td>\n",
       "      <td>257.81</td>\n",
       "    </tr>\n",
       "  </tbody>\n",
       "</table>\n",
       "</div>"
      ],
      "text/plain": [
       "  platform  total_sales\n",
       "0      PS2      1247.28\n",
       "1     X360       961.30\n",
       "2      PS3       931.34\n",
       "3      Wii       891.90\n",
       "4       DS       802.79\n",
       "5       PS       729.04\n",
       "6      PS4       314.14\n",
       "7      GBA       312.88\n",
       "8      PSP       290.34\n",
       "9      3DS       257.81"
      ]
     },
     "execution_count": 21,
     "metadata": {},
     "output_type": "execute_result"
    }
   ],
   "source": [
    "top_platforms = (df.groupby('platform').agg({'total_sales': 'sum'}).sort_values(by='total_sales', ascending=False).\n",
    "                 reset_index().head(10))\n",
    "top_platforms"
   ]
  },
  {
   "cell_type": "markdown",
   "metadata": {},
   "source": [
    "Построим столбчатую диаграмму с распределением суммарных продаж по годам топ 10 платформ с 2001 года. "
   ]
  },
  {
   "cell_type": "code",
   "execution_count": 22,
   "metadata": {
    "scrolled": false
   },
   "outputs": [
    {
     "data": {
      "image/png": "[encoded data removed]",
      "text/plain": [
       "<Figure size 864x432 with 1 Axes>"
      ]
     },
     "metadata": {},
     "output_type": "display_data"
    }
   ],
   "source": [
    "# из основного датафрейма отберем данные по топ 10 платформам, периоду с 2001 года и сформируем сводную таблицу\n",
    "actual_years = list(range(2001, 2017))\n",
    "top_platforms_sales = (df.query('(platform in @top_platforms.platform) & (year_of_release in @actual_years)').\n",
    "                       pivot_table(index=['year_of_release'], columns='platform', values='total_sales', aggfunc='sum'))\n",
    "# построим столбчатую диаграмму\n",
    "sns.set(style='white')\n",
    "top_platforms_sales.plot(kind='bar', stacked=True, figsize= (12, 6))\n",
    "plt.title('Top 10 platforms sales', fontsize=15)\n",
    "plt.ylabel('Total sales')\n",
    "plt.xlabel('Year of release');"
   ]
  },
  {
   "cell_type": "markdown",
   "metadata": {},
   "source": [
    "**Выводы**\n",
    "\n",
    "Платформами с наибольшими продажами за весь период наблюдения являются PS2, X360 и PS3.  \n",
    "По построенной диаграмме видно, что в среднем за **8-10 лет** появляются новые и исчезают старые платформы."
   ]
  },
  {
   "cell_type": "markdown",
   "metadata": {},
   "source": [
    "### Определение актуального периода"
   ]
  },
  {
   "cell_type": "markdown",
   "metadata": {},
   "source": [
    "В целях определения актуального период построим диаграмму общих продаж по всем платформам с 2006 года, учитывая что каждые 8-10 лет платформы сменяются."
   ]
  },
  {
   "cell_type": "code",
   "execution_count": 23,
   "metadata": {},
   "outputs": [
    {
     "data": {
      "image/png": "[encoded data removed]",
      "text/plain": [
       "<Figure size 432x288 with 1 Axes>"
      ]
     },
     "metadata": {},
     "output_type": "display_data"
    }
   ],
   "source": [
    "df.query('year_of_release >= 2006').pivot_table(index=['year_of_release'], values='total_sales', aggfunc='sum').\\\n",
    "plot(kind='bar');"
   ]
  },
  {
   "cell_type": "markdown",
   "metadata": {},
   "source": [
    "**Выводы**\n",
    "\n",
    "По диаграмме выше видно, что начиная с 2014 года начался спад продаж, связанный в том числе со сменой поколений популярных платформ - PS3 и X360 (хорошо заметно в диаграмме \"*Top 10 platforms sales*\" в разделе 3.2).    \n",
    "С учетом этого, определим **актуальный период - начиная с 2014 года.**"
   ]
  },
  {
   "cell_type": "code",
   "execution_count": 24,
   "metadata": {},
   "outputs": [
    {
     "name": "stdout",
     "output_type": "stream",
     "text": [
      "Кол-во строк: 1689\n"
     ]
    }
   ],
   "source": [
    "# выделим актуальный датасет\n",
    "dfa = df.query('year_of_release >= 2014')\n",
    "print('Кол-во строк:', len(dfa))"
   ]
  },
  {
   "cell_type": "markdown",
   "metadata": {},
   "source": [
    "### Выбор потенциально прибыльных платформ"
   ]
  },
  {
   "cell_type": "markdown",
   "metadata": {},
   "source": [
    "Построим столбчатую диаграмму с распределением суммарных продаж по всем платформам за актуальный период."
   ]
  },
  {
   "cell_type": "code",
   "execution_count": 25,
   "metadata": {},
   "outputs": [
    {
     "data": {
      "image/png": "[encoded data removed]",
      "text/plain": [
       "<Figure size 1080x504 with 1 Axes>"
      ]
     },
     "metadata": {},
     "output_type": "display_data"
    }
   ],
   "source": [
    "# построим столбчатую диаграмму\n",
    "dfa.pivot_table(index=['year_of_release'], columns='platform', values='total_sales', aggfunc='sum').\\\n",
    "plot(kind='bar', figsize=(15, 7), grid=True);"
   ]
  },
  {
   "cell_type": "markdown",
   "metadata": {},
   "source": [
    "**Выводы**\n",
    "\n",
    "Из диаграммы видно следующее: \n",
    "- по продажам лидируют PS4 и XOne;\n",
    "- также по PS4 и XOne растут продажи и доля продаж (учитывая, что данные за 2016 - неполные);\n",
    "- падают продажи по PS3, X360, а также по 3DS.\n",
    "\n",
    "Потенциально прибыльные платформы - PS4 и XOne."
   ]
  },
  {
   "cell_type": "markdown",
   "metadata": {},
   "source": [
    "### Диаграммы размаха по глобальным продажам игр в разбивке по платформам"
   ]
  },
  {
   "cell_type": "markdown",
   "metadata": {},
   "source": [
    "Построим диаграммы размаха по глобальным продажам игр в разбивке по платформам.  \n",
    "Для информативности разобъем диаграммы на 2 группы - с большими и низкими продажами."
   ]
  },
  {
   "cell_type": "code",
   "execution_count": 26,
   "metadata": {
    "scrolled": false
   },
   "outputs": [
    {
     "data": {
      "image/png": "[encoded data removed]",
      "text/plain": [
       "<Figure size 1080x504 with 1 Axes>"
      ]
     },
     "metadata": {},
     "output_type": "display_data"
    }
   ],
   "source": [
    "low_platforms_list = ['PC', 'Wii', 'PSV', 'PSP']\n",
    "top_platforms = dfa.query('platform not in @low_platforms_list')\n",
    "low_platforms = dfa.query('platform in @low_platforms_list')\n",
    "# диаграмма размаха для платформ с относительно большими продажами\n",
    "sns.set(rc={'figure.figsize':(15, 7)})\n",
    "ax = (sns.boxplot(x='total_sales', y='platform', data=top_platforms, orient='h', fliersize=5).\n",
    "     set_title('Big sales group'))"
   ]
  },
  {
   "cell_type": "code",
   "execution_count": 27,
   "metadata": {
    "scrolled": false
   },
   "outputs": [
    {
     "data": {
      "image/png": "[encoded data removed]",
      "text/plain": [
       "<Figure size 1080x504 with 1 Axes>"
      ]
     },
     "metadata": {},
     "output_type": "display_data"
    }
   ],
   "source": [
    "# диаграмма размаха для платформ с низкими продажами\n",
    "sns.set(rc={'figure.figsize':(15, 7)})\n",
    "ax = (sns.boxplot(x='total_sales', y='platform', data=low_platforms, orient='h', fliersize=5).\n",
    "     set_title('Low sales group'))"
   ]
  },
  {
   "cell_type": "code",
   "execution_count": 28,
   "metadata": {},
   "outputs": [
    {
     "name": "stdout",
     "output_type": "stream",
     "text": [
      "Доля продаж топ игры для PS4: 5%\n"
     ]
    }
   ],
   "source": [
    "(print(\"Доля продаж топ игры для PS4: \"'{0:.0%}'.format\n",
    "       (dfa.query('platform == \"PS4\"')['total_sales'].max()/dfa.query('platform == \"PS4\"')['total_sales'].sum())))"
   ]
  },
  {
   "cell_type": "markdown",
   "metadata": {},
   "source": [
    "**Выводы**\n",
    "\n",
    "Почти во всех платформах есть очень популярные игры, обеспечивающие существенную долю суммарных продаж."
   ]
  },
  {
   "cell_type": "markdown",
   "metadata": {},
   "source": [
    "### Диаграммы рассеяния и корреляция между отзывами и продажами"
   ]
  },
  {
   "cell_type": "markdown",
   "metadata": {},
   "source": [
    "В качестве популярной платформы выберем PS4.  \n",
    "Построим диаграмму рассеяния и посчитаем корреляцию между отзывами и продажами."
   ]
  },
  {
   "cell_type": "code",
   "execution_count": 29,
   "metadata": {},
   "outputs": [
    {
     "name": "stdout",
     "output_type": "stream",
     "text": [
      "Корреляция между отзывами критиков и продажами: 0.402661410681041\n"
     ]
    },
    {
     "data": {
      "image/png": "[encoded data removed]",
      "text/plain": [
       "<Figure size 720x360 with 1 Axes>"
      ]
     },
     "metadata": {},
     "output_type": "display_data"
    }
   ],
   "source": [
    "ps4_data = dfa.query('platform == \"PS4\"')\n",
    "print('Корреляция между отзывами критиков и продажами:', \\\n",
    "      (ps4_data['critic_score'].astype('float64')).corr(ps4_data['total_sales']))\n",
    "# построение диаграммы рассеяния между отзывами критиков и продажами\n",
    "sns.set(rc={'figure.figsize':(10, 5)})\n",
    "sns.scatterplot(data=ps4_data, x='critic_score', y='total_sales').set_title('Critic score and total sales correlation for PS4');"
   ]
  },
  {
   "cell_type": "code",
   "execution_count": 30,
   "metadata": {
    "scrolled": false
   },
   "outputs": [
    {
     "name": "stdout",
     "output_type": "stream",
     "text": [
      "Корреляция между отзывами пользователей и продажами: -0.040131589472697356\n"
     ]
    },
    {
     "data": {
      "image/png": "[encoded data removed]",
      "text/plain": [
       "<Figure size 720x360 with 1 Axes>"
      ]
     },
     "metadata": {},
     "output_type": "display_data"
    }
   ],
   "source": [
    "print('Корреляция между отзывами пользователей и продажами:', \\\n",
    "      (ps4_data['user_score'].astype('float64')).corr(ps4_data['total_sales']))\n",
    "# построение диаграммы рассеяния между отзывами пользователей и продажами\n",
    "sns.scatterplot(data=ps4_data, x='user_score', y='total_sales').set_title('User score and total sales correlation for PS4');"
   ]
  },
  {
   "cell_type": "markdown",
   "metadata": {},
   "source": [
    "Рассмотрим аналогичные корреляции для остальных платформ."
   ]
  },
  {
   "cell_type": "code",
   "execution_count": 31,
   "metadata": {},
   "outputs": [
    {
     "name": "stdout",
     "output_type": "stream",
     "text": [
      "Корреляция между отзывами критиков и продажами в 3DS:     0.285 (кол-во оценок: 47)\n",
      "Корреляция между отзывами критиков и продажами в PC:     0.172 (кол-во оценок: 115)\n",
      "Корреляция между отзывами критиков и продажами в PS3:     0.447 (кол-во оценок: 36)\n",
      "Корреляция между отзывами критиков и продажами в PSV:     0.041 (кол-во оценок: 53)\n",
      "Корреляция между отзывами критиков и продажами в WiiU:     0.376 (кол-во оценок: 42)\n",
      "Корреляция между отзывами критиков и продажами в X360:     0.526 (кол-во оценок: 26)\n",
      "Корреляция между отзывами критиков и продажами в XOne:     0.422 (кол-во оценок: 151)\n",
      "\n",
      "Корреляция между отзывами пользователей и продажами в 3DS:     0.28 (кол-во оценок: 47)\n",
      "Корреляция между отзывами пользователей и продажами в PC:     -0.09 (кол-во оценок: 115)\n",
      "Корреляция между отзывами пользователей и продажами в PS3:     0.157 (кол-во оценок: 36)\n",
      "Корреляция между отзывами пользователей и продажами в PSV:     0.0235 (кол-во оценок: 53)\n",
      "Корреляция между отзывами пользователей и продажами в WiiU:     0.411 (кол-во оценок: 42)\n",
      "Корреляция между отзывами пользователей и продажами в X360:     0.337 (кол-во оценок: 26)\n",
      "Корреляция между отзывами пользователей и продажами в XOne:     -0.0917 (кол-во оценок: 151)\n"
     ]
    }
   ],
   "source": [
    "dfa_without_ps4 = dfa.query('platform != \"PS4\"').dropna()\n",
    "for platform, data in dfa_without_ps4.groupby('platform'):\n",
    "    print(f'Корреляция между отзывами критиков и продажами в {platform}: \\\n",
    "    {(data[\"critic_score\"].astype(\"float64\")).corr(data[\"total_sales\"]):.3} (кол-во оценок: {len(data[\"critic_score\"])})')\n",
    "print()\n",
    "for platform, data in dfa_without_ps4.groupby('platform'):\n",
    "    print(f'Корреляция между отзывами пользователей и продажами в {platform}: \\\n",
    "    {(data[\"user_score\"].astype(\"float64\")).corr(data[\"total_sales\"]):.3} (кол-во оценок: {len(data[\"user_score\"])})')"
   ]
  },
  {
   "cell_type": "markdown",
   "metadata": {},
   "source": [
    "**Выводы**\n",
    "\n",
    "Для выбранной платформы PS4 выявлено следующее: \n",
    " - Между отзывами критиков и продажами наблюдается прямая корреляция c коэффициентом 0.4 - высокие оценки критиков положительно сказываются на продажах;  \n",
    " - Отзывы пользователей не влияют на продажи, корреляция отсутствует.  \n",
    "\n",
    "Для остальных платформ в целом также есть корреляция между отзывами критиков и продажами (кроме непопулярных платформ).  \n",
    "Отзывы пользователей для остальных платформ тоже не влияют на продажи, кроме 3DS, WiiU и X360.  "
   ]
  },
  {
   "cell_type": "markdown",
   "metadata": {},
   "source": [
    "### Общее распределение игр по жанрам"
   ]
  },
  {
   "cell_type": "markdown",
   "metadata": {},
   "source": [
    "Посмотрим на общее распределение игр по жанрам за актуальный период."
   ]
  },
  {
   "cell_type": "code",
   "execution_count": 32,
   "metadata": {},
   "outputs": [
    {
     "data": {
      "image/png": "[encoded data removed]",
      "text/plain": [
       "<Figure size 576x360 with 1 Axes>"
      ]
     },
     "metadata": {},
     "output_type": "display_data"
    }
   ],
   "source": [
    "# распределение по кол-ву выпущенных игр\n",
    "dfa.groupby('genre')['name'].count().to_frame().sort_values(by='name', ascending=False).reset_index().\\\n",
    "set_index('genre').plot(kind='bar', figsize=(8, 5), title='Number of games by genres');"
   ]
  },
  {
   "cell_type": "code",
   "execution_count": 33,
   "metadata": {},
   "outputs": [
    {
     "data": {
      "image/png": "[encoded data removed]",
      "text/plain": [
       "<Figure size 576x360 with 1 Axes>"
      ]
     },
     "metadata": {},
     "output_type": "display_data"
    }
   ],
   "source": [
    "# распределение по продажам\n",
    "dfa.groupby('genre')['total_sales'].sum().to_frame().sort_values(by='total_sales', ascending=False).reset_index().\\\n",
    "set_index('genre').plot(kind='bar', figsize=(8, 5), title='total sales by genres');"
   ]
  },
  {
   "cell_type": "markdown",
   "metadata": {},
   "source": [
    "**Выводы**\n",
    "\n",
    "Самыми прибыльными жанрами являются - Action, Shooter и Sports.  \n",
    "Жанры с самыми низкими продажами - Puzzle, Strategy и Simulation."
   ]
  },
  {
   "cell_type": "markdown",
   "metadata": {},
   "source": [
    "## Составление портрета пользователя каждого региона"
   ]
  },
  {
   "cell_type": "markdown",
   "metadata": {},
   "source": [
    "### Самые популярные платформы (топ-5)"
   ]
  },
  {
   "cell_type": "markdown",
   "metadata": {},
   "source": [
    "Определим для пользователя каждого региона самые популярные платформы (топ-5)."
   ]
  },
  {
   "cell_type": "code",
   "execution_count": 34,
   "metadata": {},
   "outputs": [
    {
     "data": {
      "image/png": "[encoded data removed]",
      "text/plain": [
       "<Figure size 1080x360 with 3 Axes>"
      ]
     },
     "metadata": {},
     "output_type": "display_data"
    }
   ],
   "source": [
    "fig, axes = plt.subplots(1, 3, figsize=(15, 5), sharey=True)\n",
    "# регион - NA\n",
    "dfa.groupby('platform').agg({'NA_sales': 'sum'}).sort_values(by='NA_sales', ascending=False).reset_index().head(5).\\\n",
    "set_index('platform').plot(kind='pie', y='NA_sales', title='NA sales by platforms', ax=axes[0], legend=False, ylabel='')\n",
    "# регион - EU\n",
    "dfa.groupby('platform').agg({'EU_sales': 'sum'}).sort_values(by='EU_sales', ascending=False).reset_index().head(5).\\\n",
    "set_index('platform').plot(kind='pie', y='EU_sales', title='EU sales by platforms', ax=axes[1], legend=False)\n",
    "# регион - JP\n",
    "dfa.groupby('platform').agg({'JP_sales': 'sum'}).sort_values(by='JP_sales', ascending=False).reset_index().head(5).\\\n",
    "set_index('platform').plot(kind='pie', y='JP_sales', title='JP sales by platforms', ax=axes[2], legend=False);"
   ]
  },
  {
   "cell_type": "markdown",
   "metadata": {},
   "source": [
    "**Выводы**\n",
    "\n",
    "В Северной Америке самыми популярными платформами являются PS4 и XOne, причем их доля примерно совпадает.  \n",
    "В Европе самой популярной платформой является PS4 с большим отрывом от XOne, в отличие от Сев. Америки заметная доля продаж по PC, X360 в Европе не попал в топ-5.     \n",
    "В Японии самой популярной платформой является 3DS, также заметные доли продаж у WiiU и PSV."
   ]
  },
  {
   "cell_type": "markdown",
   "metadata": {},
   "source": [
    "### Самые популярные жанры (топ-5)"
   ]
  },
  {
   "cell_type": "markdown",
   "metadata": {},
   "source": [
    "Определим для пользователя каждого региона самые популярные жанры (топ-5)."
   ]
  },
  {
   "cell_type": "code",
   "execution_count": 35,
   "metadata": {
    "scrolled": true
   },
   "outputs": [
    {
     "data": {
      "image/png": "[encoded data removed]",
      "text/plain": [
       "<Figure size 1080x360 with 3 Axes>"
      ]
     },
     "metadata": {},
     "output_type": "display_data"
    }
   ],
   "source": [
    "fig, axes = plt.subplots(1, 3, figsize=(15, 5), sharey=True)\n",
    "# регион - NA\n",
    "dfa.groupby('genre').agg({'NA_sales': 'sum'}).sort_values(by='NA_sales', ascending=False).reset_index().head(5).\\\n",
    "set_index('genre').plot(kind='pie', y='NA_sales', title='NA sales by genres', ax=axes[0], legend=False, ylabel='')\n",
    "# регион - EU\n",
    "dfa.groupby('genre').agg({'EU_sales': 'sum'}).sort_values(by='EU_sales', ascending=False).reset_index().head(5).\\\n",
    "set_index('genre').plot(kind='pie', y='EU_sales', title='EU sales by genres', ax=axes[1], legend=False)\n",
    "# регион - JP\n",
    "dfa.groupby('genre').agg({'JP_sales': 'sum'}).sort_values(by='JP_sales', ascending=False).reset_index().head(5).\\\n",
    "set_index('genre').plot(kind='pie', y='JP_sales', title='JP sales by genres', ax=axes[2], legend=False);\n",
    "\n"
   ]
  },
  {
   "cell_type": "markdown",
   "metadata": {},
   "source": [
    "**Выводы**\n",
    "\n",
    "В Сев. Америке и Европе самыми популярными жанрами являются Action, Shooter и Sports. В Европе также популярен Racing, а в Сев. Америке Misc.  \n",
    "В Японии самым популярным жанром является Role-PLaying, также в топ-5 попал жанр Fighting."
   ]
  },
  {
   "cell_type": "markdown",
   "metadata": {},
   "source": [
    "### Влияние рейтинга ESRB на продажи в регионах"
   ]
  },
  {
   "cell_type": "markdown",
   "metadata": {},
   "source": [
    "Определим влияние рейтинга ESRB на продажи в отдельном регионе."
   ]
  },
  {
   "cell_type": "code",
   "execution_count": 36,
   "metadata": {
    "scrolled": false
   },
   "outputs": [
    {
     "data": {
      "image/png": "[encoded data removed]",
      "text/plain": [
       "<Figure size 1080x360 with 3 Axes>"
      ]
     },
     "metadata": {},
     "output_type": "display_data"
    }
   ],
   "source": [
    "fig, axes = plt.subplots(1, 3, figsize=(15, 5), sharey=True)\n",
    "regions = ['NA_sales', 'EU_sales', 'JP_sales']\n",
    "i = 0\n",
    "for region in regions:\n",
    "    dfa.groupby('rating').agg({region: 'sum'}).sort_values(by=region, ascending=False).reset_index().\\\n",
    "    set_index('rating').plot(kind='bar', ax=axes[i])\n",
    "    i += 1\n"
   ]
  },
  {
   "cell_type": "markdown",
   "metadata": {},
   "source": [
    "**Выводы**\n",
    "\n",
    "По Сев. Америке и Европе влияние рейтинга ESRB на продажи игр одинаково - наибольшие продажи с рейтингом M, наименьшие продажи с рейтингом E10+.  \n",
    "В Японии иная картина - наибольшие продажи игр с рейтингом T, наименьшие также с рейтингом E10+. Также по Японии очень большая доля пропусков в столбце с рейтингом ESRB - вероятно в Японии применяется другая рейтинговая система. "
   ]
  },
  {
   "cell_type": "markdown",
   "metadata": {},
   "source": [
    "## Проверка гипотез"
   ]
  },
  {
   "cell_type": "markdown",
   "metadata": {},
   "source": [
    "### Средние пользовательские рейтинги платформ Xbox One и PC"
   ]
  },
  {
   "cell_type": "markdown",
   "metadata": {},
   "source": [
    "*Нулевая гипотеза:* средние пользовательские рейтинги платформ Xbox One и PC одинаковые.  \n",
    "*Альтернативная гипотеза:* средние пользовательские рейтинги платформ Xbox One и PC различаются.   \n",
    "*Критический уровень статистической значимости* примем в 1%, ввиду того, что размер выборки для проверки гипотезы достаточен.  \n",
    "\n",
    "Применим t-тест о равенстве среднего двух генеральных совокупностей по взятым из них выборкам:"
   ]
  },
  {
   "cell_type": "code",
   "execution_count": 37,
   "metadata": {},
   "outputs": [
    {
     "name": "stdout",
     "output_type": "stream",
     "text": [
      "Выборка XOne: 165\n",
      "Выборка PC: 122\n"
     ]
    },
    {
     "data": {
      "image/png": "[encoded data removed]",
      "text/plain": [
       "<Figure size 720x360 with 1 Axes>"
      ]
     },
     "metadata": {},
     "output_type": "display_data"
    }
   ],
   "source": [
    "# определение размеров выборок\n",
    "print('Выборка XOne:', len(dfa.query('(user_score.isna() == False) & (platform == \"XOne\")')))\n",
    "print('Выборка PC:', len(dfa.query('(user_score.isna() == False) & (platform == \"PC\")')))\n",
    "# построим гистограммы по пользовательским рейтингам XOne и PC \n",
    "data = dfa.query('user_score.isna() == False')\n",
    "ax = data[data['platform'] == 'XOne'].plot(\n",
    "    kind='hist', y='user_score', histtype='step', range=(0, 10), \n",
    "    bins=35, linewidth=3, alpha=0.7, label='XOne', legend=True)\n",
    "data[data['platform'] == 'PC'].plot(\n",
    "    kind='hist', y='user_score', histtype='step', range=(0, 10), bins=35,\n",
    "    linewidth=3, alpha=0.7, label='PC', ax=ax, grid=True, legend=True);"
   ]
  },
  {
   "cell_type": "code",
   "execution_count": 38,
   "metadata": {},
   "outputs": [
    {
     "name": "stdout",
     "output_type": "stream",
     "text": [
      "p-значение: 0.11601398086668827\n",
      "Не получилось отвергнуть нулевую гипотезу\n"
     ]
    }
   ],
   "source": [
    "# проведение t-теста\n",
    "sample_1 = data[data['platform'] == 'XOne']['user_score']\n",
    "sample_2 = data[data['platform'] == 'PC']['user_score']\n",
    "alpha = .01\n",
    "results = st.ttest_ind(\n",
    "    sample_1, \n",
    "    sample_2,\n",
    "    equal_var=False)\n",
    "print('p-значение:', results.pvalue)\n",
    "\n",
    "if results.pvalue < alpha:\n",
    "    print(\"Отвергаем нулевую гипотезу\")\n",
    "else:\n",
    "    print(\"Не получилось отвергнуть нулевую гипотезу\") "
   ]
  },
  {
   "cell_type": "code",
   "execution_count": 39,
   "metadata": {},
   "outputs": [
    {
     "name": "stdout",
     "output_type": "stream",
     "text": [
      "Среднее по выборке XOne: 6.594545454545456\n",
      "Среднее по выборке PC: 6.298360655737705\n"
     ]
    }
   ],
   "source": [
    "# Определение средних по выборкам\n",
    "print('Среднее по выборке XOne:', sample_1.mean())\n",
    "print('Среднее по выборке PC:', sample_2.mean())"
   ]
  },
  {
   "cell_type": "markdown",
   "metadata": {},
   "source": [
    "### Средние пользовательские рейтинги жанров Action и Sports"
   ]
  },
  {
   "cell_type": "markdown",
   "metadata": {},
   "source": [
    "*Нулевая гипотеза:* средние пользовательские рейтинги жанров Action и Sports одинаковые.  \n",
    "*Альтернативная гипотеза:* средние пользовательские рейтинги жанров Action и Sports различаются.   \n",
    "*Критический уровень статистической значимости* примем в 1%, ввиду того, что размер выборки для проверки гипотезы достаточен.  \n",
    "\n",
    "Применим t-тест о равенстве среднего двух генеральных совокупностей по взятым из них выборкам:"
   ]
  },
  {
   "cell_type": "code",
   "execution_count": 40,
   "metadata": {},
   "outputs": [
    {
     "name": "stdout",
     "output_type": "stream",
     "text": [
      "Выборка Action: 297\n",
      "Выборка Sports: 127\n"
     ]
    },
    {
     "data": {
      "image/png": "[encoded data removed]",
      "text/plain": [
       "<Figure size 720x360 with 1 Axes>"
      ]
     },
     "metadata": {},
     "output_type": "display_data"
    }
   ],
   "source": [
    "# определение размеров выборок\n",
    "print('Выборка Action:', len(dfa.query('(user_score.isna() == False) & (genre == \"Action\")')))\n",
    "print('Выборка Sports:', len(dfa.query('(user_score.isna() == False) & (genre == \"Sports\")')))\n",
    "# построим гистограммы по пользовательским рейтингам XOne и PC \n",
    "ax = data[data['genre'] == 'Action'].plot(\n",
    "    kind='hist', y='user_score', histtype='step', range=(0, 10), \n",
    "    bins=35, linewidth=3, alpha=0.7, label='Action', legend=True)\n",
    "data[data['genre'] == 'Sports'].plot(\n",
    "    kind='hist', y='user_score', histtype='step', range=(0, 10), bins=35,\n",
    "    linewidth=3, alpha=0.7, label='Sports', ax=ax, grid=True, legend=True);"
   ]
  },
  {
   "cell_type": "code",
   "execution_count": 41,
   "metadata": {},
   "outputs": [
    {
     "name": "stdout",
     "output_type": "stream",
     "text": [
      "p-значение: 1.1825550382644557e-14\n",
      "Отвергаем нулевую гипотезу\n"
     ]
    }
   ],
   "source": [
    "# проведение t-теста\n",
    "sample_A = data[data['genre'] == 'Action']['user_score']\n",
    "sample_S = data[data['genre'] == 'Sports']['user_score']\n",
    "alpha = .01\n",
    "results = st.ttest_ind(\n",
    "    sample_A, \n",
    "    sample_S,\n",
    "    equal_var=False)\n",
    "print('p-значение:', results.pvalue)\n",
    "\n",
    "if results.pvalue < alpha:\n",
    "    print(\"Отвергаем нулевую гипотезу\")\n",
    "else:\n",
    "    print(\"Не получилось отвергнуть нулевую гипотезу\") "
   ]
  },
  {
   "cell_type": "code",
   "execution_count": 42,
   "metadata": {},
   "outputs": [
    {
     "name": "stdout",
     "output_type": "stream",
     "text": [
      "Среднее по выборке Action: 6.760606060606061\n",
      "Среднее по выборке Sports: 5.2251968503937\n"
     ]
    }
   ],
   "source": [
    "# Определение средних по выборкам\n",
    "print('Среднее по выборке Action:', sample_A.mean())\n",
    "print('Среднее по выборке Sports:', sample_S.mean())"
   ]
  },
  {
   "cell_type": "markdown",
   "metadata": {},
   "source": [
    "**Выводы**\n",
    "\n",
    "По результатам проверки 2-х гипотез можно сделать следующие выводы:\n",
    "1. Средние пользовательские рейтинги платформ Xbox One и PC одинаковые.\n",
    "2. Средние пользовательские рейтинги жанров Action и Sports разные."
   ]
  },
  {
   "cell_type": "markdown",
   "metadata": {},
   "source": [
    "## Общие выводы"
   ]
  },
  {
   "cell_type": "markdown",
   "metadata": {},
   "source": [
    "Изучены данные - исторические данные о продажах игр, оценки пользователей и экспертов, жанры и платформы.\n",
    "\n",
    "Произведена предообработка данных:\n",
    "* переименование столбцов - приведение названий столбцов к нижнему регистру;\n",
    "* заполнение пропусков - пропуски в `year_of_release` частично были заполнены с использованием года в названии игры, оставшиеся пропуски были удалены, так как год выпуска игр является критической информацией для дальнейшего анализа, пропуски в столбце `rating` были заполнены условным значением `Nan`, для оставшихся пропусков в столбцах `critic_score`, `user_score` нет подходящего значения на замену;\n",
    "* изменение типов данных - данные с целыми числами переведены в int, вещественные - в float, строчные - в string;\n",
    "\n",
    "Произведен исследовательский анализ данных с построением диаграмм и графиков:\n",
    "* до 2000 года выпускалось менее 400 игр в год;\n",
    "* выявлено что каждые 8-10 лет платформы сменяются;\n",
    "* актуальным является период с 2014 по 2016 годы;\n",
    "* потенциально прибыльные платформы - PS4 и XOne;\n",
    "* во всех платформах есть очень популярные игры, обеспечивающие значительные доли продаж;\n",
    "* в целом отзывы критиков влияют на продажи, в то время как между отзывами пользователей и продажами корреляция отсутствует;\n",
    "* самые популярные жанры - Action, Shooter, Sport, самые непопулярные - Puzzle, Strategy и Simulation.\n",
    "\n",
    "Составлен портрет пользователя каждого региона:\n",
    "* пользователи Европы и Сев. Америки в целом отличаются не сильно: популярные платформы - PS4 и XOne, популярные жанры - Action и Shooter, самые продаваемые игры - с рейтингом M;\n",
    "* пользователи Японии существенно отличаются от пользователей Европы и Сев. Америки: самая популярная платформа - 3DS, также среди популярных - WiiU, популярный жанр - Role-Playing, самые продаваемые игры - с рейтингом T, также по Японии значительная доля пропусков рейтинга - вероятно применяется иная рейтинговая система.\n",
    "\n",
    "Проверены 2 гипотезы, по которым можно сделать вывод о том, что:\n",
    "1. Средние пользовательские рейтинги платформ Xbox One и PC одинаковые.\n",
    "2. Средние пользовательские рейтинги жанров Action и Sports разные.\n",
    "\n",
    "**Рекомендации для проведения рекламной кампании на 2017 год:**\n",
    "* основные рекламируемые игры для Европы и Сев. Америки - жанра Action, Shooter и Sport для PS4 и XOne, с хорошими отзывами критиков, с рейтингом M;\n",
    "* для Японии - жанра Role-Playing, Action и Fighting, на платформах 3DS и PS4, с хорошими отзывами критиков."
   ]
  }
 ],
 "metadata": {
  "ExecuteTimeLog": [
   {
    "duration": 896,
    "start_time": "2022-06-06T05:42:27.022Z"
   },
   {
    "duration": 90,
    "start_time": "2022-06-06T05:43:13.866Z"
   },
   {
    "duration": 59,
    "start_time": "2022-06-06T05:43:46.203Z"
   },
   {
    "duration": 21,
    "start_time": "2022-06-06T06:29:11.559Z"
   },
   {
    "duration": 92,
    "start_time": "2022-06-06T06:34:03.524Z"
   },
   {
    "duration": 4,
    "start_time": "2022-06-06T06:34:07.667Z"
   },
   {
    "duration": 4,
    "start_time": "2022-06-06T06:37:31.146Z"
   },
   {
    "duration": 25,
    "start_time": "2022-06-06T06:37:37.347Z"
   },
   {
    "duration": 44,
    "start_time": "2022-06-06T06:41:59.454Z"
   },
   {
    "duration": 4,
    "start_time": "2022-06-06T06:43:00.242Z"
   },
   {
    "duration": 28,
    "start_time": "2022-06-06T06:43:03.082Z"
   },
   {
    "duration": 5,
    "start_time": "2022-06-06T06:50:05.293Z"
   },
   {
    "duration": 13,
    "start_time": "2022-06-06T06:50:16.896Z"
   },
   {
    "duration": 7,
    "start_time": "2022-06-06T06:50:23.461Z"
   },
   {
    "duration": 15,
    "start_time": "2022-06-06T06:53:08.068Z"
   },
   {
    "duration": 4,
    "start_time": "2022-06-06T07:16:47.683Z"
   },
   {
    "duration": 5,
    "start_time": "2022-06-06T07:17:29.383Z"
   },
   {
    "duration": 12,
    "start_time": "2022-06-06T07:17:53.240Z"
   },
   {
    "duration": 7,
    "start_time": "2022-06-06T07:18:20.200Z"
   },
   {
    "duration": 13,
    "start_time": "2022-06-06T07:18:52.000Z"
   },
   {
    "duration": 7,
    "start_time": "2022-06-06T07:21:18.672Z"
   },
   {
    "duration": 13,
    "start_time": "2022-06-06T07:42:24.024Z"
   },
   {
    "duration": 32,
    "start_time": "2022-06-06T07:43:05.415Z"
   },
   {
    "duration": 15,
    "start_time": "2022-06-06T07:43:42.119Z"
   },
   {
    "duration": 8,
    "start_time": "2022-06-06T07:54:55.118Z"
   },
   {
    "duration": 7,
    "start_time": "2022-06-06T07:55:26.711Z"
   },
   {
    "duration": 21,
    "start_time": "2022-06-06T07:55:51.736Z"
   },
   {
    "duration": 8,
    "start_time": "2022-06-06T08:03:01.571Z"
   },
   {
    "duration": 14,
    "start_time": "2022-06-06T08:03:10.456Z"
   },
   {
    "duration": 6,
    "start_time": "2022-06-06T08:03:18.609Z"
   },
   {
    "duration": 415,
    "start_time": "2022-06-06T08:03:54.001Z"
   },
   {
    "duration": 19,
    "start_time": "2022-06-06T08:04:01.287Z"
   },
   {
    "duration": 15,
    "start_time": "2022-06-06T08:05:24.594Z"
   },
   {
    "duration": 14,
    "start_time": "2022-06-06T08:05:38.114Z"
   },
   {
    "duration": 12,
    "start_time": "2022-06-06T08:06:02.975Z"
   },
   {
    "duration": 14,
    "start_time": "2022-06-06T08:06:20.986Z"
   },
   {
    "duration": 16,
    "start_time": "2022-06-06T08:06:53.753Z"
   },
   {
    "duration": 909,
    "start_time": "2022-06-07T06:27:53.755Z"
   },
   {
    "duration": 259,
    "start_time": "2022-06-07T06:27:54.665Z"
   },
   {
    "duration": 30,
    "start_time": "2022-06-07T06:27:54.928Z"
   },
   {
    "duration": 31,
    "start_time": "2022-06-07T06:27:54.962Z"
   },
   {
    "duration": 32,
    "start_time": "2022-06-07T06:27:54.994Z"
   },
   {
    "duration": 51,
    "start_time": "2022-06-07T06:27:55.029Z"
   },
   {
    "duration": 10,
    "start_time": "2022-06-07T06:27:55.083Z"
   },
   {
    "duration": 45,
    "start_time": "2022-06-07T06:27:55.095Z"
   },
   {
    "duration": 19,
    "start_time": "2022-06-07T06:28:00.647Z"
   },
   {
    "duration": 9,
    "start_time": "2022-06-07T06:28:36.410Z"
   },
   {
    "duration": 7,
    "start_time": "2022-06-07T06:28:42.778Z"
   },
   {
    "duration": 13,
    "start_time": "2022-06-07T06:28:48.562Z"
   },
   {
    "duration": 22,
    "start_time": "2022-06-07T06:29:41.370Z"
   },
   {
    "duration": 16,
    "start_time": "2022-06-07T06:38:13.008Z"
   },
   {
    "duration": 22,
    "start_time": "2022-06-07T06:38:22.266Z"
   },
   {
    "duration": 36,
    "start_time": "2022-06-07T06:45:48.219Z"
   },
   {
    "duration": 23,
    "start_time": "2022-06-07T06:55:18.156Z"
   },
   {
    "duration": 40,
    "start_time": "2022-06-07T06:55:51.400Z"
   },
   {
    "duration": 57,
    "start_time": "2022-06-07T06:55:57.847Z"
   },
   {
    "duration": 5,
    "start_time": "2022-06-07T06:56:57.160Z"
   },
   {
    "duration": 385,
    "start_time": "2022-06-07T06:57:04.515Z"
   },
   {
    "duration": 26,
    "start_time": "2022-06-07T06:58:15.253Z"
   },
   {
    "duration": 32,
    "start_time": "2022-06-07T06:58:29.680Z"
   },
   {
    "duration": 39,
    "start_time": "2022-06-07T06:58:45.206Z"
   },
   {
    "duration": 42,
    "start_time": "2022-06-07T06:58:53.259Z"
   },
   {
    "duration": 156,
    "start_time": "2022-06-07T07:00:46.787Z"
   },
   {
    "duration": 39,
    "start_time": "2022-06-07T07:01:15.522Z"
   },
   {
    "duration": 37,
    "start_time": "2022-06-07T07:01:36.018Z"
   },
   {
    "duration": 57,
    "start_time": "2022-06-07T07:03:18.493Z"
   },
   {
    "duration": 41,
    "start_time": "2022-06-07T07:04:16.866Z"
   },
   {
    "duration": 59,
    "start_time": "2022-06-07T07:04:26.912Z"
   },
   {
    "duration": 60,
    "start_time": "2022-06-07T07:04:57.158Z"
   },
   {
    "duration": 20,
    "start_time": "2022-06-07T07:06:28.758Z"
   },
   {
    "duration": 19,
    "start_time": "2022-06-07T07:06:33.955Z"
   },
   {
    "duration": 47,
    "start_time": "2022-06-07T07:07:39.578Z"
   },
   {
    "duration": 29,
    "start_time": "2022-06-07T07:09:28.497Z"
   },
   {
    "duration": 7,
    "start_time": "2022-06-07T07:09:38.575Z"
   },
   {
    "duration": 28,
    "start_time": "2022-06-07T07:10:51.558Z"
   },
   {
    "duration": 7,
    "start_time": "2022-06-07T07:10:56.148Z"
   },
   {
    "duration": 10,
    "start_time": "2022-06-07T07:11:23.866Z"
   },
   {
    "duration": 40,
    "start_time": "2022-06-07T07:14:50.641Z"
   },
   {
    "duration": 17,
    "start_time": "2022-06-07T07:15:42.340Z"
   },
   {
    "duration": 17,
    "start_time": "2022-06-07T07:16:24.446Z"
   },
   {
    "duration": 15,
    "start_time": "2022-06-07T07:16:33.994Z"
   },
   {
    "duration": 15,
    "start_time": "2022-06-07T07:18:44.283Z"
   },
   {
    "duration": 59,
    "start_time": "2022-06-07T07:28:20.514Z"
   },
   {
    "duration": 35,
    "start_time": "2022-06-07T07:28:29.594Z"
   },
   {
    "duration": 48,
    "start_time": "2022-06-07T07:28:38.879Z"
   },
   {
    "duration": 48,
    "start_time": "2022-06-07T07:28:45.822Z"
   },
   {
    "duration": 29,
    "start_time": "2022-06-07T07:29:13.474Z"
   },
   {
    "duration": 37,
    "start_time": "2022-06-07T07:29:32.417Z"
   },
   {
    "duration": 5,
    "start_time": "2022-06-07T07:30:06.020Z"
   },
   {
    "duration": 62,
    "start_time": "2022-06-07T07:30:11.013Z"
   },
   {
    "duration": 924,
    "start_time": "2022-06-07T14:42:25.074Z"
   },
   {
    "duration": 128,
    "start_time": "2022-06-07T14:42:26.000Z"
   },
   {
    "duration": 28,
    "start_time": "2022-06-07T14:42:26.130Z"
   },
   {
    "duration": 29,
    "start_time": "2022-06-07T14:42:26.161Z"
   },
   {
    "duration": 56,
    "start_time": "2022-06-07T14:42:26.192Z"
   },
   {
    "duration": 82,
    "start_time": "2022-06-07T14:42:26.250Z"
   },
   {
    "duration": 36,
    "start_time": "2022-06-07T14:42:26.339Z"
   },
   {
    "duration": 31,
    "start_time": "2022-06-07T14:42:26.377Z"
   },
   {
    "duration": 59,
    "start_time": "2022-06-07T14:42:30.164Z"
   },
   {
    "duration": 4,
    "start_time": "2022-06-07T14:42:36.897Z"
   },
   {
    "duration": 11,
    "start_time": "2022-06-07T14:43:04.989Z"
   },
   {
    "duration": 25,
    "start_time": "2022-06-07T14:44:08.268Z"
   },
   {
    "duration": 35,
    "start_time": "2022-06-07T14:44:52.720Z"
   },
   {
    "duration": 16,
    "start_time": "2022-06-07T14:45:28.970Z"
   },
   {
    "duration": 16,
    "start_time": "2022-06-07T14:45:59.474Z"
   },
   {
    "duration": 4,
    "start_time": "2022-06-07T14:47:19.711Z"
   },
   {
    "duration": 14,
    "start_time": "2022-06-07T14:47:37.167Z"
   },
   {
    "duration": 13,
    "start_time": "2022-06-07T14:49:13.901Z"
   },
   {
    "duration": 45,
    "start_time": "2022-06-07T14:53:52.195Z"
   },
   {
    "duration": 220,
    "start_time": "2022-06-07T15:00:37.162Z"
   },
   {
    "duration": 113,
    "start_time": "2022-06-07T15:01:21.093Z"
   },
   {
    "duration": 32,
    "start_time": "2022-06-07T15:01:48.888Z"
   },
   {
    "duration": 31,
    "start_time": "2022-06-07T15:01:54.193Z"
   },
   {
    "duration": 34,
    "start_time": "2022-06-07T15:02:07.457Z"
   },
   {
    "duration": 61,
    "start_time": "2022-06-07T15:07:10.511Z"
   },
   {
    "duration": 8,
    "start_time": "2022-06-07T15:07:22.759Z"
   },
   {
    "duration": 28,
    "start_time": "2022-06-07T15:07:38.683Z"
   },
   {
    "duration": 9,
    "start_time": "2022-06-07T15:08:13.419Z"
   },
   {
    "duration": 6,
    "start_time": "2022-06-07T15:08:15.902Z"
   },
   {
    "duration": 13,
    "start_time": "2022-06-07T15:08:23.962Z"
   },
   {
    "duration": 36,
    "start_time": "2022-06-07T15:10:18.656Z"
   },
   {
    "duration": 42,
    "start_time": "2022-06-07T15:10:39.909Z"
   },
   {
    "duration": 17,
    "start_time": "2022-06-07T15:10:54.717Z"
   },
   {
    "duration": 10,
    "start_time": "2022-06-07T15:11:23.856Z"
   },
   {
    "duration": 11,
    "start_time": "2022-06-07T15:11:29.490Z"
   },
   {
    "duration": 22,
    "start_time": "2022-06-07T15:12:46.921Z"
   },
   {
    "duration": 26,
    "start_time": "2022-06-07T15:14:09.687Z"
   },
   {
    "duration": 28,
    "start_time": "2022-06-07T15:14:46.471Z"
   },
   {
    "duration": 28,
    "start_time": "2022-06-07T15:14:54.033Z"
   },
   {
    "duration": 18,
    "start_time": "2022-06-07T15:15:27.152Z"
   },
   {
    "duration": 23,
    "start_time": "2022-06-07T15:15:57.662Z"
   },
   {
    "duration": 33,
    "start_time": "2022-06-07T15:16:22.243Z"
   },
   {
    "duration": 17,
    "start_time": "2022-06-07T15:16:37.544Z"
   },
   {
    "duration": 20,
    "start_time": "2022-06-07T15:19:38.901Z"
   },
   {
    "duration": 18,
    "start_time": "2022-06-07T15:23:00.010Z"
   },
   {
    "duration": 20,
    "start_time": "2022-06-07T15:23:07.252Z"
   },
   {
    "duration": 17,
    "start_time": "2022-06-07T15:23:16.570Z"
   },
   {
    "duration": 24,
    "start_time": "2022-06-07T15:23:20.612Z"
   },
   {
    "duration": 17,
    "start_time": "2022-06-07T15:24:04.297Z"
   },
   {
    "duration": 15,
    "start_time": "2022-06-07T15:24:30.320Z"
   },
   {
    "duration": 16,
    "start_time": "2022-06-07T15:24:33.739Z"
   },
   {
    "duration": 9,
    "start_time": "2022-06-07T15:32:08.917Z"
   },
   {
    "duration": 13,
    "start_time": "2022-06-07T15:32:32.837Z"
   },
   {
    "duration": 31,
    "start_time": "2022-06-07T15:33:01.977Z"
   },
   {
    "duration": 20,
    "start_time": "2022-06-07T15:37:24.970Z"
   },
   {
    "duration": 13,
    "start_time": "2022-06-07T15:37:31.147Z"
   },
   {
    "duration": 13,
    "start_time": "2022-06-07T15:37:35.728Z"
   },
   {
    "duration": 20,
    "start_time": "2022-06-07T15:37:49.436Z"
   },
   {
    "duration": 22,
    "start_time": "2022-06-07T15:39:58.053Z"
   },
   {
    "duration": 21,
    "start_time": "2022-06-07T15:41:43.278Z"
   },
   {
    "duration": 27,
    "start_time": "2022-06-07T15:42:04.116Z"
   },
   {
    "duration": 34,
    "start_time": "2022-06-07T15:42:25.040Z"
   },
   {
    "duration": 12,
    "start_time": "2022-06-07T15:42:43.293Z"
   },
   {
    "duration": 23,
    "start_time": "2022-06-07T15:43:18.816Z"
   },
   {
    "duration": 9,
    "start_time": "2022-06-07T15:43:57.821Z"
   },
   {
    "duration": 21,
    "start_time": "2022-06-07T15:44:56.315Z"
   },
   {
    "duration": 13,
    "start_time": "2022-06-07T15:45:17.839Z"
   },
   {
    "duration": 893,
    "start_time": "2022-06-07T15:45:38.646Z"
   },
   {
    "duration": 67,
    "start_time": "2022-06-07T15:45:39.541Z"
   },
   {
    "duration": 32,
    "start_time": "2022-06-07T15:45:39.609Z"
   },
   {
    "duration": 15,
    "start_time": "2022-06-07T15:45:39.643Z"
   },
   {
    "duration": 23,
    "start_time": "2022-06-07T15:45:39.660Z"
   },
   {
    "duration": 23,
    "start_time": "2022-06-07T15:45:39.684Z"
   },
   {
    "duration": 40,
    "start_time": "2022-06-07T15:45:39.709Z"
   },
   {
    "duration": 70,
    "start_time": "2022-06-07T15:45:39.751Z"
   },
   {
    "duration": 91,
    "start_time": "2022-06-07T15:45:39.823Z"
   },
   {
    "duration": 14,
    "start_time": "2022-06-07T15:45:39.916Z"
   },
   {
    "duration": 13,
    "start_time": "2022-06-07T15:45:41.959Z"
   },
   {
    "duration": 25,
    "start_time": "2022-06-07T15:45:45.129Z"
   },
   {
    "duration": 24,
    "start_time": "2022-06-07T15:47:33.217Z"
   },
   {
    "duration": 11,
    "start_time": "2022-06-07T15:47:40.661Z"
   },
   {
    "duration": 19,
    "start_time": "2022-06-07T15:49:23.910Z"
   },
   {
    "duration": 19,
    "start_time": "2022-06-07T15:49:44.822Z"
   },
   {
    "duration": 21,
    "start_time": "2022-06-07T15:49:59.119Z"
   },
   {
    "duration": 30,
    "start_time": "2022-06-07T15:50:28.695Z"
   },
   {
    "duration": 23,
    "start_time": "2022-06-07T15:51:52.231Z"
   },
   {
    "duration": 135,
    "start_time": "2022-06-07T15:55:15.157Z"
   },
   {
    "duration": 822,
    "start_time": "2022-06-07T15:55:29.428Z"
   },
   {
    "duration": 73,
    "start_time": "2022-06-07T15:55:30.254Z"
   },
   {
    "duration": 37,
    "start_time": "2022-06-07T15:55:30.330Z"
   },
   {
    "duration": 38,
    "start_time": "2022-06-07T15:55:30.370Z"
   },
   {
    "duration": 45,
    "start_time": "2022-06-07T15:55:30.411Z"
   },
   {
    "duration": 25,
    "start_time": "2022-06-07T15:55:30.458Z"
   },
   {
    "duration": 17,
    "start_time": "2022-06-07T15:55:30.485Z"
   },
   {
    "duration": 36,
    "start_time": "2022-06-07T15:55:30.504Z"
   },
   {
    "duration": 55,
    "start_time": "2022-06-07T15:55:30.543Z"
   },
   {
    "duration": 29,
    "start_time": "2022-06-07T15:55:30.601Z"
   },
   {
    "duration": 15,
    "start_time": "2022-06-07T15:55:33.166Z"
   },
   {
    "duration": 27,
    "start_time": "2022-06-07T15:55:36.165Z"
   },
   {
    "duration": 22,
    "start_time": "2022-06-07T15:55:39.640Z"
   },
   {
    "duration": 105,
    "start_time": "2022-06-07T15:59:31.616Z"
   },
   {
    "duration": 869,
    "start_time": "2022-06-07T15:59:47.316Z"
   },
   {
    "duration": 66,
    "start_time": "2022-06-07T15:59:48.188Z"
   },
   {
    "duration": 21,
    "start_time": "2022-06-07T15:59:48.256Z"
   },
   {
    "duration": 7,
    "start_time": "2022-06-07T15:59:48.280Z"
   },
   {
    "duration": 31,
    "start_time": "2022-06-07T15:59:48.289Z"
   },
   {
    "duration": 15,
    "start_time": "2022-06-07T15:59:48.326Z"
   },
   {
    "duration": 7,
    "start_time": "2022-06-07T15:59:48.343Z"
   },
   {
    "duration": 21,
    "start_time": "2022-06-07T15:59:48.352Z"
   },
   {
    "duration": 57,
    "start_time": "2022-06-07T15:59:48.374Z"
   },
   {
    "duration": 10,
    "start_time": "2022-06-07T15:59:48.433Z"
   },
   {
    "duration": 14,
    "start_time": "2022-06-07T15:59:51.106Z"
   },
   {
    "duration": 19,
    "start_time": "2022-06-07T15:59:54.217Z"
   },
   {
    "duration": 23,
    "start_time": "2022-06-07T16:05:29.221Z"
   },
   {
    "duration": 12,
    "start_time": "2022-06-07T16:05:45.885Z"
   },
   {
    "duration": 19,
    "start_time": "2022-06-07T16:06:53.062Z"
   },
   {
    "duration": 16,
    "start_time": "2022-06-07T16:07:08.106Z"
   },
   {
    "duration": 5,
    "start_time": "2022-06-07T16:08:59.557Z"
   },
   {
    "duration": 4,
    "start_time": "2022-06-07T16:16:25.476Z"
   },
   {
    "duration": 18,
    "start_time": "2022-06-07T16:16:33.288Z"
   },
   {
    "duration": 9,
    "start_time": "2022-06-07T16:17:26.138Z"
   },
   {
    "duration": 21,
    "start_time": "2022-06-07T16:21:13.769Z"
   },
   {
    "duration": 103,
    "start_time": "2022-06-07T16:25:34.154Z"
   },
   {
    "duration": 27,
    "start_time": "2022-06-07T16:25:43.263Z"
   },
   {
    "duration": 32,
    "start_time": "2022-06-07T16:26:42.121Z"
   },
   {
    "duration": 11,
    "start_time": "2022-06-07T16:27:06.681Z"
   },
   {
    "duration": 26,
    "start_time": "2022-06-07T16:28:12.019Z"
   },
   {
    "duration": 9,
    "start_time": "2022-06-07T16:29:13.729Z"
   },
   {
    "duration": 11,
    "start_time": "2022-06-07T16:31:58.249Z"
   },
   {
    "duration": 10,
    "start_time": "2022-06-07T16:32:06.950Z"
   },
   {
    "duration": 9,
    "start_time": "2022-06-07T16:32:12.549Z"
   },
   {
    "duration": 22,
    "start_time": "2022-06-07T16:32:32.974Z"
   },
   {
    "duration": 9,
    "start_time": "2022-06-07T16:33:17.848Z"
   },
   {
    "duration": 976,
    "start_time": "2022-06-07T16:37:31.305Z"
   },
   {
    "duration": 69,
    "start_time": "2022-06-07T16:37:32.283Z"
   },
   {
    "duration": 24,
    "start_time": "2022-06-07T16:37:32.354Z"
   },
   {
    "duration": 21,
    "start_time": "2022-06-07T16:37:32.383Z"
   },
   {
    "duration": 29,
    "start_time": "2022-06-07T16:37:32.407Z"
   },
   {
    "duration": 44,
    "start_time": "2022-06-07T16:37:32.438Z"
   },
   {
    "duration": 24,
    "start_time": "2022-06-07T16:37:32.485Z"
   },
   {
    "duration": 41,
    "start_time": "2022-06-07T16:37:32.511Z"
   },
   {
    "duration": 48,
    "start_time": "2022-06-07T16:37:32.555Z"
   },
   {
    "duration": 13,
    "start_time": "2022-06-07T16:37:32.606Z"
   },
   {
    "duration": 18,
    "start_time": "2022-06-07T16:37:32.627Z"
   },
   {
    "duration": 33,
    "start_time": "2022-06-07T16:37:35.425Z"
   },
   {
    "duration": 29,
    "start_time": "2022-06-07T16:38:03.130Z"
   },
   {
    "duration": 35,
    "start_time": "2022-06-07T16:38:25.101Z"
   },
   {
    "duration": 39,
    "start_time": "2022-06-07T16:38:32.407Z"
   },
   {
    "duration": 956,
    "start_time": "2022-06-07T16:38:54.197Z"
   },
   {
    "duration": 71,
    "start_time": "2022-06-07T16:38:55.155Z"
   },
   {
    "duration": 25,
    "start_time": "2022-06-07T16:38:55.228Z"
   },
   {
    "duration": 15,
    "start_time": "2022-06-07T16:38:55.256Z"
   },
   {
    "duration": 20,
    "start_time": "2022-06-07T16:38:55.273Z"
   },
   {
    "duration": 42,
    "start_time": "2022-06-07T16:38:55.296Z"
   },
   {
    "duration": 9,
    "start_time": "2022-06-07T16:38:55.341Z"
   },
   {
    "duration": 23,
    "start_time": "2022-06-07T16:38:55.352Z"
   },
   {
    "duration": 55,
    "start_time": "2022-06-07T16:38:55.377Z"
   },
   {
    "duration": 12,
    "start_time": "2022-06-07T16:38:55.435Z"
   },
   {
    "duration": 18,
    "start_time": "2022-06-07T16:38:55.449Z"
   },
   {
    "duration": 31,
    "start_time": "2022-06-07T16:38:55.469Z"
   },
   {
    "duration": 24,
    "start_time": "2022-06-07T16:38:55.503Z"
   },
   {
    "duration": 42,
    "start_time": "2022-06-07T16:38:55.529Z"
   },
   {
    "duration": 22,
    "start_time": "2022-06-07T16:38:55.573Z"
   },
   {
    "duration": 9,
    "start_time": "2022-06-07T16:38:55.597Z"
   },
   {
    "duration": 6,
    "start_time": "2022-06-07T16:38:55.625Z"
   },
   {
    "duration": 865,
    "start_time": "2022-06-07T16:39:06.041Z"
   },
   {
    "duration": 74,
    "start_time": "2022-06-07T16:39:06.910Z"
   },
   {
    "duration": 27,
    "start_time": "2022-06-07T16:39:06.986Z"
   },
   {
    "duration": 10,
    "start_time": "2022-06-07T16:39:07.015Z"
   },
   {
    "duration": 27,
    "start_time": "2022-06-07T16:39:07.027Z"
   },
   {
    "duration": 54,
    "start_time": "2022-06-07T16:39:07.056Z"
   },
   {
    "duration": 11,
    "start_time": "2022-06-07T16:39:07.112Z"
   },
   {
    "duration": 30,
    "start_time": "2022-06-07T16:39:07.125Z"
   },
   {
    "duration": 68,
    "start_time": "2022-06-07T16:39:07.157Z"
   },
   {
    "duration": 13,
    "start_time": "2022-06-07T16:39:07.227Z"
   },
   {
    "duration": 20,
    "start_time": "2022-06-07T16:39:07.243Z"
   },
   {
    "duration": 41,
    "start_time": "2022-06-07T16:39:07.265Z"
   },
   {
    "duration": 17,
    "start_time": "2022-06-07T16:39:07.308Z"
   },
   {
    "duration": 27,
    "start_time": "2022-06-07T16:39:10.531Z"
   },
   {
    "duration": 31,
    "start_time": "2022-06-07T16:39:20.943Z"
   },
   {
    "duration": 23,
    "start_time": "2022-06-07T16:39:25.870Z"
   },
   {
    "duration": 752,
    "start_time": "2022-06-08T06:06:22.784Z"
   },
   {
    "duration": 98,
    "start_time": "2022-06-08T06:06:23.538Z"
   },
   {
    "duration": 19,
    "start_time": "2022-06-08T06:06:23.638Z"
   },
   {
    "duration": 5,
    "start_time": "2022-06-08T06:06:23.660Z"
   },
   {
    "duration": 10,
    "start_time": "2022-06-08T06:06:23.667Z"
   },
   {
    "duration": 13,
    "start_time": "2022-06-08T06:06:23.678Z"
   },
   {
    "duration": 6,
    "start_time": "2022-06-08T06:06:23.692Z"
   },
   {
    "duration": 32,
    "start_time": "2022-06-08T06:06:23.700Z"
   },
   {
    "duration": 40,
    "start_time": "2022-06-08T06:06:23.734Z"
   },
   {
    "duration": 9,
    "start_time": "2022-06-08T06:06:23.776Z"
   },
   {
    "duration": 14,
    "start_time": "2022-06-08T06:06:31.781Z"
   },
   {
    "duration": 21,
    "start_time": "2022-06-08T06:06:33.940Z"
   },
   {
    "duration": 3,
    "start_time": "2022-06-08T06:06:37.213Z"
   },
   {
    "duration": 22,
    "start_time": "2022-06-08T06:08:22.269Z"
   },
   {
    "duration": 10,
    "start_time": "2022-06-08T06:08:29.286Z"
   },
   {
    "duration": 7,
    "start_time": "2022-06-08T06:19:35.701Z"
   },
   {
    "duration": 32,
    "start_time": "2022-06-08T06:20:02.908Z"
   },
   {
    "duration": 17,
    "start_time": "2022-06-08T06:20:09.542Z"
   },
   {
    "duration": 17,
    "start_time": "2022-06-08T06:23:04.239Z"
   },
   {
    "duration": 20,
    "start_time": "2022-06-08T06:23:31.853Z"
   },
   {
    "duration": 26,
    "start_time": "2022-06-08T06:23:34.702Z"
   },
   {
    "duration": 17,
    "start_time": "2022-06-08T06:23:37.885Z"
   },
   {
    "duration": 16,
    "start_time": "2022-06-08T06:25:12.470Z"
   },
   {
    "duration": 19,
    "start_time": "2022-06-08T06:25:16.614Z"
   },
   {
    "duration": 8,
    "start_time": "2022-06-08T06:25:44.965Z"
   },
   {
    "duration": 9,
    "start_time": "2022-06-08T06:27:32.955Z"
   },
   {
    "duration": 110,
    "start_time": "2022-06-08T06:27:52.212Z"
   },
   {
    "duration": 8,
    "start_time": "2022-06-08T06:28:12.683Z"
   },
   {
    "duration": 1562,
    "start_time": "2022-06-08T06:28:45.613Z"
   },
   {
    "duration": 1035,
    "start_time": "2022-06-08T06:29:27.715Z"
   },
   {
    "duration": 10,
    "start_time": "2022-06-08T06:29:42.268Z"
   },
   {
    "duration": 8,
    "start_time": "2022-06-08T06:29:57.660Z"
   },
   {
    "duration": 21,
    "start_time": "2022-06-08T06:30:03.683Z"
   },
   {
    "duration": 30,
    "start_time": "2022-06-08T06:30:26.307Z"
   },
   {
    "duration": 116,
    "start_time": "2022-06-08T06:30:47.373Z"
   },
   {
    "duration": 13,
    "start_time": "2022-06-08T06:31:07.596Z"
   },
   {
    "duration": 11,
    "start_time": "2022-06-08T06:40:16.185Z"
   },
   {
    "duration": 17,
    "start_time": "2022-06-08T06:40:56.050Z"
   },
   {
    "duration": 92,
    "start_time": "2022-06-08T06:41:40.586Z"
   },
   {
    "duration": 110,
    "start_time": "2022-06-08T06:41:50.387Z"
   },
   {
    "duration": 18,
    "start_time": "2022-06-08T06:42:09.386Z"
   },
   {
    "duration": 23,
    "start_time": "2022-06-08T06:42:20.365Z"
   },
   {
    "duration": 17,
    "start_time": "2022-06-08T06:42:26.315Z"
   },
   {
    "duration": 18,
    "start_time": "2022-06-08T06:42:29.178Z"
   },
   {
    "duration": 18,
    "start_time": "2022-06-08T06:42:38.834Z"
   },
   {
    "duration": 10,
    "start_time": "2022-06-08T06:43:33.403Z"
   },
   {
    "duration": 12,
    "start_time": "2022-06-08T06:43:56.609Z"
   },
   {
    "duration": 22,
    "start_time": "2022-06-08T06:44:09.642Z"
   },
   {
    "duration": 25,
    "start_time": "2022-06-08T06:44:44.779Z"
   },
   {
    "duration": 27,
    "start_time": "2022-06-08T06:44:54.043Z"
   },
   {
    "duration": 21,
    "start_time": "2022-06-08T06:44:58.201Z"
   },
   {
    "duration": 7,
    "start_time": "2022-06-08T06:45:29.706Z"
   },
   {
    "duration": 9,
    "start_time": "2022-06-08T06:46:43.361Z"
   },
   {
    "duration": 17,
    "start_time": "2022-06-08T06:46:59.537Z"
   },
   {
    "duration": 14,
    "start_time": "2022-06-08T06:47:12.867Z"
   },
   {
    "duration": 11,
    "start_time": "2022-06-08T06:47:43.762Z"
   },
   {
    "duration": 13,
    "start_time": "2022-06-08T06:47:52.017Z"
   },
   {
    "duration": 23,
    "start_time": "2022-06-08T06:48:37.275Z"
   },
   {
    "duration": 19,
    "start_time": "2022-06-08T06:48:43.770Z"
   },
   {
    "duration": 18,
    "start_time": "2022-06-08T06:56:46.146Z"
   },
   {
    "duration": 5,
    "start_time": "2022-06-08T07:54:57.435Z"
   },
   {
    "duration": 10,
    "start_time": "2022-06-08T07:55:04.004Z"
   },
   {
    "duration": 84,
    "start_time": "2022-06-08T07:55:46.244Z"
   },
   {
    "duration": 5,
    "start_time": "2022-06-08T08:01:13.003Z"
   },
   {
    "duration": 22,
    "start_time": "2022-06-08T08:03:37.716Z"
   },
   {
    "duration": 8,
    "start_time": "2022-06-08T08:04:08.454Z"
   },
   {
    "duration": 6,
    "start_time": "2022-06-08T08:04:15.515Z"
   },
   {
    "duration": 13,
    "start_time": "2022-06-08T08:04:45.380Z"
   },
   {
    "duration": 747,
    "start_time": "2022-06-08T08:17:50.699Z"
   },
   {
    "duration": 57,
    "start_time": "2022-06-08T08:17:51.448Z"
   },
   {
    "duration": 19,
    "start_time": "2022-06-08T08:17:51.507Z"
   },
   {
    "duration": 11,
    "start_time": "2022-06-08T08:17:51.528Z"
   },
   {
    "duration": 18,
    "start_time": "2022-06-08T08:17:51.541Z"
   },
   {
    "duration": 19,
    "start_time": "2022-06-08T08:17:51.561Z"
   },
   {
    "duration": 13,
    "start_time": "2022-06-08T08:17:51.582Z"
   },
   {
    "duration": 25,
    "start_time": "2022-06-08T08:17:51.597Z"
   },
   {
    "duration": 31,
    "start_time": "2022-06-08T08:17:51.624Z"
   },
   {
    "duration": 15,
    "start_time": "2022-06-08T08:17:51.658Z"
   },
   {
    "duration": 12,
    "start_time": "2022-06-08T08:17:51.675Z"
   },
   {
    "duration": 28,
    "start_time": "2022-06-08T08:17:51.688Z"
   },
   {
    "duration": 4,
    "start_time": "2022-06-08T08:17:51.717Z"
   },
   {
    "duration": 34,
    "start_time": "2022-06-08T08:17:51.723Z"
   },
   {
    "duration": 20,
    "start_time": "2022-06-08T08:17:51.759Z"
   },
   {
    "duration": 6,
    "start_time": "2022-06-08T08:17:51.781Z"
   },
   {
    "duration": 14,
    "start_time": "2022-06-08T08:17:51.788Z"
   },
   {
    "duration": 5,
    "start_time": "2022-06-08T08:17:54.937Z"
   },
   {
    "duration": 10,
    "start_time": "2022-06-08T08:17:57.274Z"
   },
   {
    "duration": 12,
    "start_time": "2022-06-08T08:21:37.345Z"
   },
   {
    "duration": 9,
    "start_time": "2022-06-08T08:22:00.426Z"
   },
   {
    "duration": 11,
    "start_time": "2022-06-08T08:22:22.266Z"
   },
   {
    "duration": 12,
    "start_time": "2022-06-08T08:22:29.722Z"
   },
   {
    "duration": 18,
    "start_time": "2022-06-08T08:22:34.593Z"
   },
   {
    "duration": 15,
    "start_time": "2022-06-08T08:22:57.369Z"
   },
   {
    "duration": 106,
    "start_time": "2022-06-08T08:25:00.507Z"
   },
   {
    "duration": 10,
    "start_time": "2022-06-08T08:36:40.706Z"
   },
   {
    "duration": 11,
    "start_time": "2022-06-08T08:36:53.578Z"
   },
   {
    "duration": 4,
    "start_time": "2022-06-08T08:38:08.537Z"
   },
   {
    "duration": 9,
    "start_time": "2022-06-08T08:38:10.553Z"
   },
   {
    "duration": 3,
    "start_time": "2022-06-08T08:38:12.275Z"
   },
   {
    "duration": 7,
    "start_time": "2022-06-08T08:40:13.330Z"
   },
   {
    "duration": 8,
    "start_time": "2022-06-08T08:40:21.211Z"
   },
   {
    "duration": 10,
    "start_time": "2022-06-08T08:40:52.314Z"
   },
   {
    "duration": 4,
    "start_time": "2022-06-08T08:40:58.586Z"
   },
   {
    "duration": 13,
    "start_time": "2022-06-08T08:41:39.770Z"
   },
   {
    "duration": 3,
    "start_time": "2022-06-08T08:43:27.930Z"
   },
   {
    "duration": 9,
    "start_time": "2022-06-08T08:43:31.378Z"
   },
   {
    "duration": 9,
    "start_time": "2022-06-08T08:49:39.915Z"
   },
   {
    "duration": 13,
    "start_time": "2022-06-08T08:50:31.228Z"
   },
   {
    "duration": 4,
    "start_time": "2022-06-08T08:50:43.875Z"
   },
   {
    "duration": 15,
    "start_time": "2022-06-08T09:05:14.581Z"
   },
   {
    "duration": 825,
    "start_time": "2022-06-08T09:06:48.649Z"
   },
   {
    "duration": 61,
    "start_time": "2022-06-08T09:06:49.476Z"
   },
   {
    "duration": 22,
    "start_time": "2022-06-08T09:06:49.539Z"
   },
   {
    "duration": 17,
    "start_time": "2022-06-08T09:06:49.563Z"
   },
   {
    "duration": 21,
    "start_time": "2022-06-08T09:06:49.582Z"
   },
   {
    "duration": 20,
    "start_time": "2022-06-08T09:06:49.607Z"
   },
   {
    "duration": 6,
    "start_time": "2022-06-08T09:06:49.628Z"
   },
   {
    "duration": 35,
    "start_time": "2022-06-08T09:06:49.636Z"
   },
   {
    "duration": 50,
    "start_time": "2022-06-08T09:06:49.673Z"
   },
   {
    "duration": 10,
    "start_time": "2022-06-08T09:06:49.726Z"
   },
   {
    "duration": 35,
    "start_time": "2022-06-08T09:06:49.737Z"
   },
   {
    "duration": 27,
    "start_time": "2022-06-08T09:06:49.773Z"
   },
   {
    "duration": 8,
    "start_time": "2022-06-08T09:06:56.016Z"
   },
   {
    "duration": 10,
    "start_time": "2022-06-08T09:07:14.999Z"
   },
   {
    "duration": 817,
    "start_time": "2022-06-08T09:09:09.842Z"
   },
   {
    "duration": 65,
    "start_time": "2022-06-08T09:09:10.661Z"
   },
   {
    "duration": 21,
    "start_time": "2022-06-08T09:09:10.728Z"
   },
   {
    "duration": 13,
    "start_time": "2022-06-08T09:09:10.751Z"
   },
   {
    "duration": 16,
    "start_time": "2022-06-08T09:09:10.768Z"
   },
   {
    "duration": 17,
    "start_time": "2022-06-08T09:09:10.786Z"
   },
   {
    "duration": 6,
    "start_time": "2022-06-08T09:09:10.805Z"
   },
   {
    "duration": 20,
    "start_time": "2022-06-08T09:09:10.813Z"
   },
   {
    "duration": 54,
    "start_time": "2022-06-08T09:09:10.834Z"
   },
   {
    "duration": 9,
    "start_time": "2022-06-08T09:09:10.891Z"
   },
   {
    "duration": 13,
    "start_time": "2022-06-08T09:09:10.902Z"
   },
   {
    "duration": 54,
    "start_time": "2022-06-08T09:09:10.917Z"
   },
   {
    "duration": 6,
    "start_time": "2022-06-08T09:09:13.709Z"
   },
   {
    "duration": 98,
    "start_time": "2022-06-08T09:09:48.421Z"
   },
   {
    "duration": 32,
    "start_time": "2022-06-08T09:10:13.982Z"
   },
   {
    "duration": 8,
    "start_time": "2022-06-08T09:10:20.277Z"
   },
   {
    "duration": 767,
    "start_time": "2022-06-08T09:10:30.484Z"
   },
   {
    "duration": 63,
    "start_time": "2022-06-08T09:10:31.253Z"
   },
   {
    "duration": 21,
    "start_time": "2022-06-08T09:10:31.317Z"
   },
   {
    "duration": 24,
    "start_time": "2022-06-08T09:10:31.340Z"
   },
   {
    "duration": 30,
    "start_time": "2022-06-08T09:10:31.365Z"
   },
   {
    "duration": 17,
    "start_time": "2022-06-08T09:10:31.397Z"
   },
   {
    "duration": 12,
    "start_time": "2022-06-08T09:10:31.416Z"
   },
   {
    "duration": 20,
    "start_time": "2022-06-08T09:10:31.430Z"
   },
   {
    "duration": 34,
    "start_time": "2022-06-08T09:10:31.452Z"
   },
   {
    "duration": 17,
    "start_time": "2022-06-08T09:10:31.489Z"
   },
   {
    "duration": 19,
    "start_time": "2022-06-08T09:10:31.508Z"
   },
   {
    "duration": 29,
    "start_time": "2022-06-08T09:10:31.528Z"
   },
   {
    "duration": 9,
    "start_time": "2022-06-08T09:10:33.432Z"
   },
   {
    "duration": 23,
    "start_time": "2022-06-08T09:10:43.520Z"
   },
   {
    "duration": 28,
    "start_time": "2022-06-08T09:10:45.664Z"
   },
   {
    "duration": 5,
    "start_time": "2022-06-08T09:10:49.472Z"
   },
   {
    "duration": 5,
    "start_time": "2022-06-08T09:10:51.570Z"
   },
   {
    "duration": 11,
    "start_time": "2022-06-08T09:10:53.785Z"
   },
   {
    "duration": 4,
    "start_time": "2022-06-08T09:12:41.863Z"
   },
   {
    "duration": 10,
    "start_time": "2022-06-08T09:12:43.960Z"
   },
   {
    "duration": 17,
    "start_time": "2022-06-08T09:14:01.344Z"
   },
   {
    "duration": 19,
    "start_time": "2022-06-08T09:14:35.721Z"
   },
   {
    "duration": 5,
    "start_time": "2022-06-08T09:15:13.345Z"
   },
   {
    "duration": 7,
    "start_time": "2022-06-08T09:15:19.112Z"
   },
   {
    "duration": 385,
    "start_time": "2022-06-08T09:15:41.424Z"
   },
   {
    "duration": 151,
    "start_time": "2022-06-08T09:16:19.360Z"
   },
   {
    "duration": 14851,
    "start_time": "2022-06-08T09:16:28.848Z"
   },
   {
    "duration": 175,
    "start_time": "2022-06-08T09:18:50.324Z"
   },
   {
    "duration": 9,
    "start_time": "2022-06-08T09:21:52.385Z"
   },
   {
    "duration": 10,
    "start_time": "2022-06-08T09:22:53.265Z"
   },
   {
    "duration": 10,
    "start_time": "2022-06-08T09:23:11.337Z"
   },
   {
    "duration": 8,
    "start_time": "2022-06-08T09:37:43.480Z"
   },
   {
    "duration": 18,
    "start_time": "2022-06-08T09:41:17.832Z"
   },
   {
    "duration": 20,
    "start_time": "2022-06-08T09:41:36.522Z"
   },
   {
    "duration": 112,
    "start_time": "2022-06-08T09:42:07.162Z"
   },
   {
    "duration": 9,
    "start_time": "2022-06-08T09:45:17.681Z"
   },
   {
    "duration": 15,
    "start_time": "2022-06-08T09:45:22.817Z"
   },
   {
    "duration": 12,
    "start_time": "2022-06-08T09:45:38.348Z"
   },
   {
    "duration": 15,
    "start_time": "2022-06-08T09:45:50.866Z"
   },
   {
    "duration": 19,
    "start_time": "2022-06-08T09:46:25.046Z"
   },
   {
    "duration": 19,
    "start_time": "2022-06-08T09:46:55.149Z"
   },
   {
    "duration": 10,
    "start_time": "2022-06-08T09:55:11.889Z"
   },
   {
    "duration": 14,
    "start_time": "2022-06-08T09:55:30.602Z"
   },
   {
    "duration": 13,
    "start_time": "2022-06-08T09:55:39.049Z"
   },
   {
    "duration": 61,
    "start_time": "2022-06-08T09:56:00.561Z"
   },
   {
    "duration": 813,
    "start_time": "2022-06-09T01:39:24.698Z"
   },
   {
    "duration": 100,
    "start_time": "2022-06-09T01:39:25.513Z"
   },
   {
    "duration": 19,
    "start_time": "2022-06-09T01:39:25.615Z"
   },
   {
    "duration": 7,
    "start_time": "2022-06-09T01:39:25.636Z"
   },
   {
    "duration": 14,
    "start_time": "2022-06-09T01:39:25.645Z"
   },
   {
    "duration": 19,
    "start_time": "2022-06-09T01:39:25.660Z"
   },
   {
    "duration": 8,
    "start_time": "2022-06-09T01:39:25.680Z"
   },
   {
    "duration": 16,
    "start_time": "2022-06-09T01:39:25.690Z"
   },
   {
    "duration": 44,
    "start_time": "2022-06-09T01:39:25.708Z"
   },
   {
    "duration": 8,
    "start_time": "2022-06-09T01:39:25.755Z"
   },
   {
    "duration": 12,
    "start_time": "2022-06-09T01:39:25.765Z"
   },
   {
    "duration": 21,
    "start_time": "2022-06-09T01:39:25.778Z"
   },
   {
    "duration": 6,
    "start_time": "2022-06-09T01:39:25.800Z"
   },
   {
    "duration": 52,
    "start_time": "2022-06-09T01:39:25.808Z"
   },
   {
    "duration": 18,
    "start_time": "2022-06-09T01:39:25.862Z"
   },
   {
    "duration": 9,
    "start_time": "2022-06-09T01:39:25.881Z"
   },
   {
    "duration": 5,
    "start_time": "2022-06-09T01:39:25.892Z"
   },
   {
    "duration": 17,
    "start_time": "2022-06-09T01:39:25.899Z"
   },
   {
    "duration": 40,
    "start_time": "2022-06-09T01:39:25.918Z"
   },
   {
    "duration": 544,
    "start_time": "2022-06-09T01:39:25.960Z"
   },
   {
    "duration": 21,
    "start_time": "2022-06-09T01:39:28.924Z"
   },
   {
    "duration": 166,
    "start_time": "2022-06-09T01:39:33.345Z"
   },
   {
    "duration": 11,
    "start_time": "2022-06-09T01:39:45.397Z"
   },
   {
    "duration": 11,
    "start_time": "2022-06-09T01:40:06.245Z"
   },
   {
    "duration": 10,
    "start_time": "2022-06-09T01:40:12.708Z"
   },
   {
    "duration": 10,
    "start_time": "2022-06-09T01:40:23.277Z"
   },
   {
    "duration": 11,
    "start_time": "2022-06-09T01:40:27.900Z"
   },
   {
    "duration": 12,
    "start_time": "2022-06-09T01:40:34.431Z"
   },
   {
    "duration": 15,
    "start_time": "2022-06-09T02:51:28.488Z"
   },
   {
    "duration": 28,
    "start_time": "2022-06-09T02:55:10.212Z"
   },
   {
    "duration": 22,
    "start_time": "2022-06-09T02:55:15.719Z"
   },
   {
    "duration": 8,
    "start_time": "2022-06-09T02:55:18.333Z"
   },
   {
    "duration": 13,
    "start_time": "2022-06-09T02:55:27.854Z"
   },
   {
    "duration": 13,
    "start_time": "2022-06-09T02:57:03.263Z"
   },
   {
    "duration": 14,
    "start_time": "2022-06-09T02:57:14.398Z"
   },
   {
    "duration": 17,
    "start_time": "2022-06-09T02:57:24.831Z"
   },
   {
    "duration": 19,
    "start_time": "2022-06-09T02:58:52.295Z"
   },
   {
    "duration": 26,
    "start_time": "2022-06-09T03:07:49.464Z"
   },
   {
    "duration": 20,
    "start_time": "2022-06-09T03:13:24.424Z"
   },
   {
    "duration": 21,
    "start_time": "2022-06-09T03:14:08.875Z"
   },
   {
    "duration": 14,
    "start_time": "2022-06-09T03:17:01.075Z"
   },
   {
    "duration": 32,
    "start_time": "2022-06-09T03:18:33.106Z"
   },
   {
    "duration": 1512,
    "start_time": "2022-06-09T03:21:21.298Z"
   },
   {
    "duration": 33,
    "start_time": "2022-06-09T03:21:43.467Z"
   },
   {
    "duration": 117,
    "start_time": "2022-06-09T03:22:29.691Z"
   },
   {
    "duration": 64,
    "start_time": "2022-06-09T03:26:38.907Z"
   },
   {
    "duration": 24,
    "start_time": "2022-06-09T03:29:22.938Z"
   },
   {
    "duration": 26,
    "start_time": "2022-06-09T03:29:32.108Z"
   },
   {
    "duration": 27,
    "start_time": "2022-06-09T03:29:42.491Z"
   },
   {
    "duration": 31,
    "start_time": "2022-06-09T03:29:53.195Z"
   },
   {
    "duration": 36,
    "start_time": "2022-06-09T03:30:16.203Z"
   },
   {
    "duration": 19,
    "start_time": "2022-06-09T03:30:23.155Z"
   },
   {
    "duration": 1615,
    "start_time": "2022-06-09T03:31:42.491Z"
   },
   {
    "duration": 24,
    "start_time": "2022-06-09T03:34:48.131Z"
   },
   {
    "duration": 13,
    "start_time": "2022-06-09T03:35:14.481Z"
   },
   {
    "duration": 16,
    "start_time": "2022-06-09T03:35:24.730Z"
   },
   {
    "duration": 11,
    "start_time": "2022-06-09T03:36:50.203Z"
   },
   {
    "duration": 22,
    "start_time": "2022-06-09T03:37:41.307Z"
   },
   {
    "duration": 11,
    "start_time": "2022-06-09T03:37:58.762Z"
   },
   {
    "duration": 11,
    "start_time": "2022-06-09T03:38:10.707Z"
   },
   {
    "duration": 11,
    "start_time": "2022-06-09T03:38:34.075Z"
   },
   {
    "duration": 6,
    "start_time": "2022-06-09T03:38:45.794Z"
   },
   {
    "duration": 7,
    "start_time": "2022-06-09T03:38:52.843Z"
   },
   {
    "duration": 7,
    "start_time": "2022-06-09T05:31:53.596Z"
   },
   {
    "duration": 9,
    "start_time": "2022-06-09T05:32:11.736Z"
   },
   {
    "duration": 3,
    "start_time": "2022-06-09T05:32:37.431Z"
   },
   {
    "duration": 9,
    "start_time": "2022-06-09T05:32:50.542Z"
   },
   {
    "duration": 10,
    "start_time": "2022-06-09T05:33:19.407Z"
   },
   {
    "duration": 10,
    "start_time": "2022-06-09T05:34:29.990Z"
   },
   {
    "duration": 11,
    "start_time": "2022-06-09T05:34:55.751Z"
   },
   {
    "duration": 18,
    "start_time": "2022-06-09T05:36:50.002Z"
   },
   {
    "duration": 17,
    "start_time": "2022-06-09T05:36:59.083Z"
   },
   {
    "duration": 23,
    "start_time": "2022-06-09T05:38:48.176Z"
   },
   {
    "duration": 317,
    "start_time": "2022-06-09T05:39:07.072Z"
   },
   {
    "duration": 23,
    "start_time": "2022-06-09T05:39:18.604Z"
   },
   {
    "duration": 1318,
    "start_time": "2022-06-09T05:40:07.455Z"
   },
   {
    "duration": 1260,
    "start_time": "2022-06-09T05:40:39.408Z"
   },
   {
    "duration": 33,
    "start_time": "2022-06-09T05:41:52.455Z"
   },
   {
    "duration": 23,
    "start_time": "2022-06-09T05:42:10.656Z"
   },
   {
    "duration": 9,
    "start_time": "2022-06-09T05:42:28.777Z"
   },
   {
    "duration": 38,
    "start_time": "2022-06-09T05:47:08.226Z"
   },
   {
    "duration": 34,
    "start_time": "2022-06-09T05:47:21.930Z"
   },
   {
    "duration": 34,
    "start_time": "2022-06-09T05:47:48.819Z"
   },
   {
    "duration": 451,
    "start_time": "2022-06-09T05:48:33.894Z"
   },
   {
    "duration": 33,
    "start_time": "2022-06-09T05:48:59.642Z"
   },
   {
    "duration": 645,
    "start_time": "2022-06-09T05:49:57.364Z"
   },
   {
    "duration": 491,
    "start_time": "2022-06-09T05:50:38.250Z"
   },
   {
    "duration": 493,
    "start_time": "2022-06-09T05:50:46.907Z"
   },
   {
    "duration": 535,
    "start_time": "2022-06-09T05:52:42.331Z"
   },
   {
    "duration": 629,
    "start_time": "2022-06-09T05:52:49.612Z"
   },
   {
    "duration": 33,
    "start_time": "2022-06-09T05:54:51.964Z"
   },
   {
    "duration": 532,
    "start_time": "2022-06-09T05:54:55.704Z"
   },
   {
    "duration": 550,
    "start_time": "2022-06-09T05:55:37.853Z"
   },
   {
    "duration": 532,
    "start_time": "2022-06-09T05:55:44.637Z"
   },
   {
    "duration": 701,
    "start_time": "2022-06-09T05:55:55.393Z"
   },
   {
    "duration": 502,
    "start_time": "2022-06-09T05:56:00.900Z"
   },
   {
    "duration": 506,
    "start_time": "2022-06-09T05:56:04.193Z"
   },
   {
    "duration": 680,
    "start_time": "2022-06-09T05:56:53.132Z"
   },
   {
    "duration": 626,
    "start_time": "2022-06-09T05:57:55.149Z"
   },
   {
    "duration": 503,
    "start_time": "2022-06-09T05:58:06.373Z"
   },
   {
    "duration": 496,
    "start_time": "2022-06-09T05:58:14.140Z"
   },
   {
    "duration": 504,
    "start_time": "2022-06-09T05:58:29.453Z"
   },
   {
    "duration": 709,
    "start_time": "2022-06-09T05:58:40.308Z"
   },
   {
    "duration": 507,
    "start_time": "2022-06-09T05:58:48.741Z"
   },
   {
    "duration": 525,
    "start_time": "2022-06-09T06:04:09.351Z"
   },
   {
    "duration": 533,
    "start_time": "2022-06-09T06:04:13.396Z"
   },
   {
    "duration": 674,
    "start_time": "2022-06-09T06:04:22.366Z"
   },
   {
    "duration": 511,
    "start_time": "2022-06-09T06:04:27.766Z"
   },
   {
    "duration": 33,
    "start_time": "2022-06-09T06:06:39.047Z"
   },
   {
    "duration": 28,
    "start_time": "2022-06-09T06:06:44.190Z"
   },
   {
    "duration": 538,
    "start_time": "2022-06-09T06:07:53.102Z"
   },
   {
    "duration": 508,
    "start_time": "2022-06-09T06:08:02.694Z"
   },
   {
    "duration": 695,
    "start_time": "2022-06-09T06:08:07.990Z"
   },
   {
    "duration": 12,
    "start_time": "2022-06-09T06:17:07.527Z"
   },
   {
    "duration": 14,
    "start_time": "2022-06-09T06:17:14.175Z"
   },
   {
    "duration": 14,
    "start_time": "2022-06-09T06:26:21.616Z"
   },
   {
    "duration": 197,
    "start_time": "2022-06-09T06:26:52.098Z"
   },
   {
    "duration": 181,
    "start_time": "2022-06-09T06:27:00.497Z"
   },
   {
    "duration": 185,
    "start_time": "2022-06-09T06:32:41.776Z"
   },
   {
    "duration": 201,
    "start_time": "2022-06-09T06:34:36.097Z"
   },
   {
    "duration": 96,
    "start_time": "2022-06-09T06:36:31.825Z"
   },
   {
    "duration": 16,
    "start_time": "2022-06-09T06:38:29.353Z"
   },
   {
    "duration": 8,
    "start_time": "2022-06-09T06:38:38.137Z"
   },
   {
    "duration": 28,
    "start_time": "2022-06-09T06:38:59.009Z"
   },
   {
    "duration": 26,
    "start_time": "2022-06-09T06:39:10.387Z"
   },
   {
    "duration": 9,
    "start_time": "2022-06-09T06:39:24.856Z"
   },
   {
    "duration": 7,
    "start_time": "2022-06-09T06:40:08.937Z"
   },
   {
    "duration": 261,
    "start_time": "2022-06-09T06:40:35.161Z"
   },
   {
    "duration": 520,
    "start_time": "2022-06-09T06:45:20.867Z"
   },
   {
    "duration": 524,
    "start_time": "2022-06-09T06:45:26.457Z"
   },
   {
    "duration": 750,
    "start_time": "2022-06-09T06:45:30.113Z"
   },
   {
    "duration": 597,
    "start_time": "2022-06-09T06:45:37.450Z"
   },
   {
    "duration": 227,
    "start_time": "2022-06-09T06:46:57.571Z"
   },
   {
    "duration": 202,
    "start_time": "2022-06-09T06:47:38.154Z"
   },
   {
    "duration": 191,
    "start_time": "2022-06-09T06:47:48.418Z"
   },
   {
    "duration": 185,
    "start_time": "2022-06-09T06:47:56.953Z"
   },
   {
    "duration": 177,
    "start_time": "2022-06-09T06:48:19.013Z"
   },
   {
    "duration": 183,
    "start_time": "2022-06-09T06:48:30.179Z"
   },
   {
    "duration": 13,
    "start_time": "2022-06-09T06:51:22.578Z"
   },
   {
    "duration": 13,
    "start_time": "2022-06-09T06:51:26.787Z"
   },
   {
    "duration": 176,
    "start_time": "2022-06-09T06:55:11.041Z"
   },
   {
    "duration": 8,
    "start_time": "2022-06-09T07:00:31.830Z"
   },
   {
    "duration": 8,
    "start_time": "2022-06-09T07:00:38.838Z"
   },
   {
    "duration": 7,
    "start_time": "2022-06-09T07:03:20.197Z"
   },
   {
    "duration": 23,
    "start_time": "2022-06-09T07:30:12.180Z"
   },
   {
    "duration": 243,
    "start_time": "2022-06-09T07:30:31.291Z"
   },
   {
    "duration": 229,
    "start_time": "2022-06-09T07:30:38.804Z"
   },
   {
    "duration": 239,
    "start_time": "2022-06-09T07:31:16.852Z"
   },
   {
    "duration": 25,
    "start_time": "2022-06-09T07:36:53.405Z"
   },
   {
    "duration": 24,
    "start_time": "2022-06-09T07:36:58.028Z"
   },
   {
    "duration": 13,
    "start_time": "2022-06-09T07:41:22.325Z"
   },
   {
    "duration": 18,
    "start_time": "2022-06-09T07:41:42.300Z"
   },
   {
    "duration": 13,
    "start_time": "2022-06-09T07:41:59.797Z"
   },
   {
    "duration": 15,
    "start_time": "2022-06-09T07:46:21.684Z"
   },
   {
    "duration": 4,
    "start_time": "2022-06-09T07:50:42.180Z"
   },
   {
    "duration": 18,
    "start_time": "2022-06-09T07:50:51.796Z"
   },
   {
    "duration": 17,
    "start_time": "2022-06-09T07:53:40.380Z"
   },
   {
    "duration": 195,
    "start_time": "2022-06-09T07:54:36.733Z"
   },
   {
    "duration": 26,
    "start_time": "2022-06-09T07:55:20.579Z"
   },
   {
    "duration": 790,
    "start_time": "2022-06-09T07:57:35.245Z"
   },
   {
    "duration": 741,
    "start_time": "2022-06-09T07:57:50.571Z"
   },
   {
    "duration": 681,
    "start_time": "2022-06-09T07:58:04.390Z"
   },
   {
    "duration": 742,
    "start_time": "2022-06-09T07:58:22.316Z"
   },
   {
    "duration": 710,
    "start_time": "2022-06-09T07:58:30.308Z"
   },
   {
    "duration": 751,
    "start_time": "2022-06-09T07:58:42.108Z"
   },
   {
    "duration": 11,
    "start_time": "2022-06-09T07:59:49.187Z"
   },
   {
    "duration": 19,
    "start_time": "2022-06-09T08:00:03.380Z"
   },
   {
    "duration": 16,
    "start_time": "2022-06-09T08:00:06.932Z"
   },
   {
    "duration": 817,
    "start_time": "2022-06-09T08:00:34.052Z"
   },
   {
    "duration": 942,
    "start_time": "2022-06-09T08:00:57.172Z"
   },
   {
    "duration": 21,
    "start_time": "2022-06-09T08:01:14.132Z"
   },
   {
    "duration": 752,
    "start_time": "2022-06-09T08:05:38.117Z"
   },
   {
    "duration": 710,
    "start_time": "2022-06-09T08:06:07.012Z"
   },
   {
    "duration": 730,
    "start_time": "2022-06-09T08:06:13.972Z"
   },
   {
    "duration": 146,
    "start_time": "2022-06-09T08:09:25.880Z"
   },
   {
    "duration": 715,
    "start_time": "2022-06-09T08:09:48.821Z"
   },
   {
    "duration": 802,
    "start_time": "2022-06-09T08:12:42.460Z"
   },
   {
    "duration": 961,
    "start_time": "2022-06-09T08:12:57.868Z"
   },
   {
    "duration": 18,
    "start_time": "2022-06-09T08:27:29.389Z"
   },
   {
    "duration": 30,
    "start_time": "2022-06-09T08:28:03.693Z"
   },
   {
    "duration": 22,
    "start_time": "2022-06-09T08:28:18.500Z"
   },
   {
    "duration": 863,
    "start_time": "2022-06-09T08:28:40.180Z"
   },
   {
    "duration": 827,
    "start_time": "2022-06-09T08:29:52.104Z"
   },
   {
    "duration": 744,
    "start_time": "2022-06-09T08:32:05.517Z"
   },
   {
    "duration": 801,
    "start_time": "2022-06-09T08:32:24.612Z"
   },
   {
    "duration": 31,
    "start_time": "2022-06-09T08:39:17.397Z"
   },
   {
    "duration": 251,
    "start_time": "2022-06-09T08:39:21.973Z"
   },
   {
    "duration": 265,
    "start_time": "2022-06-09T08:39:54.124Z"
   },
   {
    "duration": 236,
    "start_time": "2022-06-09T08:39:58.411Z"
   },
   {
    "duration": 232,
    "start_time": "2022-06-09T08:40:20.380Z"
   },
   {
    "duration": 229,
    "start_time": "2022-06-09T08:40:28.620Z"
   },
   {
    "duration": 257,
    "start_time": "2022-06-09T08:40:53.748Z"
   },
   {
    "duration": 415,
    "start_time": "2022-06-09T08:46:46.869Z"
   },
   {
    "duration": 239,
    "start_time": "2022-06-09T08:54:14.941Z"
   },
   {
    "duration": 243,
    "start_time": "2022-06-09T08:54:27.522Z"
   },
   {
    "duration": 250,
    "start_time": "2022-06-09T08:54:59.168Z"
   },
   {
    "duration": 228,
    "start_time": "2022-06-09T08:55:09.202Z"
   },
   {
    "duration": 220,
    "start_time": "2022-06-09T08:55:13.867Z"
   },
   {
    "duration": 1233,
    "start_time": "2022-06-09T15:29:04.990Z"
   },
   {
    "duration": 123,
    "start_time": "2022-06-09T15:29:06.226Z"
   },
   {
    "duration": 19,
    "start_time": "2022-06-09T15:29:06.351Z"
   },
   {
    "duration": 8,
    "start_time": "2022-06-09T15:29:06.372Z"
   },
   {
    "duration": 19,
    "start_time": "2022-06-09T15:29:06.383Z"
   },
   {
    "duration": 30,
    "start_time": "2022-06-09T15:29:06.404Z"
   },
   {
    "duration": 8,
    "start_time": "2022-06-09T15:29:06.436Z"
   },
   {
    "duration": 18,
    "start_time": "2022-06-09T15:29:06.445Z"
   },
   {
    "duration": 30,
    "start_time": "2022-06-09T15:29:06.464Z"
   },
   {
    "duration": 8,
    "start_time": "2022-06-09T15:29:06.496Z"
   },
   {
    "duration": 12,
    "start_time": "2022-06-09T15:29:06.527Z"
   },
   {
    "duration": 21,
    "start_time": "2022-06-09T15:29:06.540Z"
   },
   {
    "duration": 6,
    "start_time": "2022-06-09T15:29:06.563Z"
   },
   {
    "duration": 23,
    "start_time": "2022-06-09T15:29:06.572Z"
   },
   {
    "duration": 45,
    "start_time": "2022-06-09T15:29:06.597Z"
   },
   {
    "duration": 5,
    "start_time": "2022-06-09T15:29:06.643Z"
   },
   {
    "duration": 10,
    "start_time": "2022-06-09T15:29:06.649Z"
   },
   {
    "duration": 15,
    "start_time": "2022-06-09T15:29:06.660Z"
   },
   {
    "duration": 19,
    "start_time": "2022-06-09T15:29:06.677Z"
   },
   {
    "duration": 185,
    "start_time": "2022-06-09T15:29:06.698Z"
   },
   {
    "duration": 10,
    "start_time": "2022-06-09T15:29:06.884Z"
   },
   {
    "duration": 15,
    "start_time": "2022-06-09T15:29:06.896Z"
   },
   {
    "duration": 503,
    "start_time": "2022-06-09T15:29:06.912Z"
   },
   {
    "duration": 179,
    "start_time": "2022-06-09T15:29:07.416Z"
   },
   {
    "duration": 7,
    "start_time": "2022-06-09T15:29:07.596Z"
   },
   {
    "duration": 712,
    "start_time": "2022-06-09T15:29:07.604Z"
   },
   {
    "duration": 329,
    "start_time": "2022-06-09T15:29:08.317Z"
   },
   {
    "duration": 14,
    "start_time": "2022-06-09T15:29:08.647Z"
   },
   {
    "duration": 217,
    "start_time": "2022-06-09T15:29:59.455Z"
   },
   {
    "duration": 252,
    "start_time": "2022-06-09T15:30:05.664Z"
   },
   {
    "duration": 270,
    "start_time": "2022-06-09T15:30:16.429Z"
   },
   {
    "duration": 679,
    "start_time": "2022-06-09T15:30:32.800Z"
   },
   {
    "duration": 780,
    "start_time": "2022-06-09T15:30:53.135Z"
   },
   {
    "duration": 794,
    "start_time": "2022-06-09T15:31:03.896Z"
   },
   {
    "duration": 98,
    "start_time": "2022-06-09T15:32:24.596Z"
   },
   {
    "duration": 10,
    "start_time": "2022-06-09T15:32:39.130Z"
   },
   {
    "duration": 17,
    "start_time": "2022-06-09T15:32:56.165Z"
   },
   {
    "duration": 5,
    "start_time": "2022-06-09T15:33:44.393Z"
   },
   {
    "duration": 4,
    "start_time": "2022-06-09T15:33:53.133Z"
   },
   {
    "duration": 326,
    "start_time": "2022-06-09T15:41:33.052Z"
   },
   {
    "duration": 14,
    "start_time": "2022-06-09T15:42:15.900Z"
   },
   {
    "duration": 278,
    "start_time": "2022-06-09T15:42:56.272Z"
   },
   {
    "duration": 208,
    "start_time": "2022-06-09T15:43:23.908Z"
   },
   {
    "duration": 220,
    "start_time": "2022-06-09T15:45:39.842Z"
   },
   {
    "duration": 216,
    "start_time": "2022-06-09T15:45:48.107Z"
   },
   {
    "duration": 232,
    "start_time": "2022-06-09T15:49:40.889Z"
   },
   {
    "duration": 319,
    "start_time": "2022-06-09T15:49:50.140Z"
   },
   {
    "duration": 232,
    "start_time": "2022-06-09T15:49:57.721Z"
   },
   {
    "duration": 242,
    "start_time": "2022-06-09T15:50:05.412Z"
   },
   {
    "duration": 256,
    "start_time": "2022-06-09T15:50:10.434Z"
   },
   {
    "duration": 249,
    "start_time": "2022-06-09T15:50:15.779Z"
   },
   {
    "duration": 366,
    "start_time": "2022-06-09T15:50:25.285Z"
   },
   {
    "duration": 275,
    "start_time": "2022-06-09T15:50:33.818Z"
   },
   {
    "duration": 274,
    "start_time": "2022-06-09T15:55:17.092Z"
   },
   {
    "duration": 245,
    "start_time": "2022-06-09T15:55:22.692Z"
   },
   {
    "duration": 240,
    "start_time": "2022-06-09T15:55:27.504Z"
   },
   {
    "duration": 269,
    "start_time": "2022-06-09T15:56:36.885Z"
   },
   {
    "duration": 344,
    "start_time": "2022-06-09T15:56:42.943Z"
   },
   {
    "duration": 247,
    "start_time": "2022-06-09T15:56:48.001Z"
   },
   {
    "duration": 28,
    "start_time": "2022-06-09T16:06:51.454Z"
   },
   {
    "duration": 30,
    "start_time": "2022-06-09T16:07:27.088Z"
   },
   {
    "duration": 203,
    "start_time": "2022-06-09T16:08:17.481Z"
   },
   {
    "duration": 161,
    "start_time": "2022-06-09T16:08:40.983Z"
   },
   {
    "duration": 162,
    "start_time": "2022-06-09T16:09:01.398Z"
   },
   {
    "duration": 210,
    "start_time": "2022-06-09T16:09:07.627Z"
   },
   {
    "duration": 232,
    "start_time": "2022-06-09T16:10:09.801Z"
   },
   {
    "duration": 191,
    "start_time": "2022-06-09T16:11:29.279Z"
   },
   {
    "duration": 30,
    "start_time": "2022-06-09T16:13:49.268Z"
   },
   {
    "duration": 202,
    "start_time": "2022-06-09T16:13:54.922Z"
   },
   {
    "duration": 271,
    "start_time": "2022-06-09T16:14:18.529Z"
   },
   {
    "duration": 215,
    "start_time": "2022-06-09T16:15:34.108Z"
   },
   {
    "duration": 196,
    "start_time": "2022-06-09T16:16:01.797Z"
   },
   {
    "duration": 169,
    "start_time": "2022-06-09T16:16:08.335Z"
   },
   {
    "duration": 181,
    "start_time": "2022-06-09T16:16:21.242Z"
   },
   {
    "duration": 33,
    "start_time": "2022-06-09T16:22:32.201Z"
   },
   {
    "duration": 18,
    "start_time": "2022-06-09T16:23:10.114Z"
   },
   {
    "duration": 16,
    "start_time": "2022-06-09T16:23:31.204Z"
   },
   {
    "duration": 18,
    "start_time": "2022-06-09T16:23:50.617Z"
   },
   {
    "duration": 88,
    "start_time": "2022-06-09T16:24:02.153Z"
   },
   {
    "duration": 95,
    "start_time": "2022-06-09T16:40:12.182Z"
   },
   {
    "duration": 74,
    "start_time": "2022-06-09T16:42:40.712Z"
   },
   {
    "duration": 1325,
    "start_time": "2022-06-10T05:23:30.701Z"
   },
   {
    "duration": 192,
    "start_time": "2022-06-10T05:23:32.028Z"
   },
   {
    "duration": 19,
    "start_time": "2022-06-10T05:23:32.222Z"
   },
   {
    "duration": 6,
    "start_time": "2022-06-10T05:23:32.242Z"
   },
   {
    "duration": 13,
    "start_time": "2022-06-10T05:23:32.250Z"
   },
   {
    "duration": 16,
    "start_time": "2022-06-10T05:23:32.265Z"
   },
   {
    "duration": 8,
    "start_time": "2022-06-10T05:23:32.283Z"
   },
   {
    "duration": 17,
    "start_time": "2022-06-10T05:23:32.293Z"
   },
   {
    "duration": 54,
    "start_time": "2022-06-10T05:23:32.311Z"
   },
   {
    "duration": 9,
    "start_time": "2022-06-10T05:23:32.368Z"
   },
   {
    "duration": 12,
    "start_time": "2022-06-10T05:23:32.379Z"
   },
   {
    "duration": 22,
    "start_time": "2022-06-10T05:23:32.393Z"
   },
   {
    "duration": 7,
    "start_time": "2022-06-10T05:23:32.417Z"
   },
   {
    "duration": 56,
    "start_time": "2022-06-10T05:23:32.425Z"
   },
   {
    "duration": 20,
    "start_time": "2022-06-10T05:23:32.482Z"
   },
   {
    "duration": 9,
    "start_time": "2022-06-10T05:23:32.503Z"
   },
   {
    "duration": 12,
    "start_time": "2022-06-10T05:23:32.514Z"
   },
   {
    "duration": 35,
    "start_time": "2022-06-10T05:23:32.527Z"
   },
   {
    "duration": 20,
    "start_time": "2022-06-10T05:23:32.563Z"
   },
   {
    "duration": 202,
    "start_time": "2022-06-10T05:23:32.584Z"
   },
   {
    "duration": 14,
    "start_time": "2022-06-10T05:23:32.788Z"
   },
   {
    "duration": 21,
    "start_time": "2022-06-10T05:23:32.804Z"
   },
   {
    "duration": 593,
    "start_time": "2022-06-10T05:23:32.827Z"
   },
   {
    "duration": 202,
    "start_time": "2022-06-10T05:23:33.422Z"
   },
   {
    "duration": 6,
    "start_time": "2022-06-10T05:23:33.626Z"
   },
   {
    "duration": 824,
    "start_time": "2022-06-10T05:23:33.634Z"
   },
   {
    "duration": 337,
    "start_time": "2022-06-10T05:23:34.459Z"
   },
   {
    "duration": 243,
    "start_time": "2022-06-10T05:23:34.799Z"
   },
   {
    "duration": 200,
    "start_time": "2022-06-10T05:23:35.044Z"
   },
   {
    "duration": 44,
    "start_time": "2022-06-10T05:27:30.600Z"
   },
   {
    "duration": 20,
    "start_time": "2022-06-10T05:28:05.475Z"
   },
   {
    "duration": 10,
    "start_time": "2022-06-10T05:28:12.826Z"
   },
   {
    "duration": 12,
    "start_time": "2022-06-10T05:28:25.209Z"
   },
   {
    "duration": 12,
    "start_time": "2022-06-10T05:30:54.275Z"
   },
   {
    "duration": 13,
    "start_time": "2022-06-10T05:31:00.930Z"
   },
   {
    "duration": 5,
    "start_time": "2022-06-10T05:36:13.945Z"
   },
   {
    "duration": 8,
    "start_time": "2022-06-10T05:36:17.306Z"
   },
   {
    "duration": 36,
    "start_time": "2022-06-10T05:36:25.810Z"
   },
   {
    "duration": 8,
    "start_time": "2022-06-10T05:36:30.962Z"
   },
   {
    "duration": 9,
    "start_time": "2022-06-10T05:38:41.185Z"
   },
   {
    "duration": 10,
    "start_time": "2022-06-10T05:39:04.801Z"
   },
   {
    "duration": 9,
    "start_time": "2022-06-10T05:39:08.441Z"
   },
   {
    "duration": 10,
    "start_time": "2022-06-10T05:40:06.906Z"
   },
   {
    "duration": 10,
    "start_time": "2022-06-10T05:43:37.268Z"
   },
   {
    "duration": 10,
    "start_time": "2022-06-10T05:43:43.969Z"
   },
   {
    "duration": 13,
    "start_time": "2022-06-10T05:44:23.058Z"
   },
   {
    "duration": 12,
    "start_time": "2022-06-10T05:44:43.739Z"
   },
   {
    "duration": 10,
    "start_time": "2022-06-10T05:45:36.322Z"
   },
   {
    "duration": 36,
    "start_time": "2022-06-10T05:46:07.043Z"
   },
   {
    "duration": 10,
    "start_time": "2022-06-10T05:46:42.068Z"
   },
   {
    "duration": 11,
    "start_time": "2022-06-10T05:46:56.451Z"
   },
   {
    "duration": 13,
    "start_time": "2022-06-10T05:47:01.683Z"
   },
   {
    "duration": 134,
    "start_time": "2022-06-10T06:17:02.880Z"
   },
   {
    "duration": 23,
    "start_time": "2022-06-10T06:17:33.121Z"
   },
   {
    "duration": 27,
    "start_time": "2022-06-10T06:19:31.075Z"
   },
   {
    "duration": 9,
    "start_time": "2022-06-10T06:19:49.636Z"
   },
   {
    "duration": 36,
    "start_time": "2022-06-10T06:20:11.979Z"
   },
   {
    "duration": 12,
    "start_time": "2022-06-10T06:20:37.699Z"
   },
   {
    "duration": 9,
    "start_time": "2022-06-10T06:21:47.713Z"
   },
   {
    "duration": 24,
    "start_time": "2022-06-10T06:21:53.113Z"
   },
   {
    "duration": 166,
    "start_time": "2022-06-10T06:22:01.843Z"
   },
   {
    "duration": 17,
    "start_time": "2022-06-10T06:23:39.981Z"
   },
   {
    "duration": 26,
    "start_time": "2022-06-10T06:23:48.251Z"
   },
   {
    "duration": 107,
    "start_time": "2022-06-10T06:24:09.740Z"
   },
   {
    "duration": 188,
    "start_time": "2022-06-10T06:24:45.003Z"
   },
   {
    "duration": 30,
    "start_time": "2022-06-10T06:24:56.698Z"
   },
   {
    "duration": 46,
    "start_time": "2022-06-10T06:25:15.226Z"
   },
   {
    "duration": 43,
    "start_time": "2022-06-10T06:25:25.347Z"
   },
   {
    "duration": 202,
    "start_time": "2022-06-10T06:25:37.084Z"
   },
   {
    "duration": 261,
    "start_time": "2022-06-10T06:25:43.034Z"
   },
   {
    "duration": 205,
    "start_time": "2022-06-10T06:26:09.618Z"
   },
   {
    "duration": 20,
    "start_time": "2022-06-10T06:27:42.883Z"
   },
   {
    "duration": 228,
    "start_time": "2022-06-10T06:28:48.951Z"
   },
   {
    "duration": 235,
    "start_time": "2022-06-10T06:28:58.643Z"
   },
   {
    "duration": 211,
    "start_time": "2022-06-10T06:29:12.677Z"
   },
   {
    "duration": 33,
    "start_time": "2022-06-10T06:31:22.186Z"
   },
   {
    "duration": 19,
    "start_time": "2022-06-10T06:31:25.394Z"
   },
   {
    "duration": 20,
    "start_time": "2022-06-10T06:31:44.234Z"
   },
   {
    "duration": 20,
    "start_time": "2022-06-10T06:32:23.778Z"
   },
   {
    "duration": 28,
    "start_time": "2022-06-10T06:32:48.538Z"
   },
   {
    "duration": 20,
    "start_time": "2022-06-10T06:33:08.179Z"
   },
   {
    "duration": 249,
    "start_time": "2022-06-10T06:38:48.796Z"
   },
   {
    "duration": 290,
    "start_time": "2022-06-10T06:38:56.859Z"
   },
   {
    "duration": 249,
    "start_time": "2022-06-10T06:40:26.043Z"
   },
   {
    "duration": 253,
    "start_time": "2022-06-10T06:40:59.092Z"
   },
   {
    "duration": 212,
    "start_time": "2022-06-10T06:41:08.187Z"
   },
   {
    "duration": 13,
    "start_time": "2022-06-10T06:43:14.532Z"
   },
   {
    "duration": 219,
    "start_time": "2022-06-10T06:44:27.700Z"
   },
   {
    "duration": 227,
    "start_time": "2022-06-10T06:55:43.827Z"
   },
   {
    "duration": 209,
    "start_time": "2022-06-10T06:55:50.974Z"
   },
   {
    "duration": 198,
    "start_time": "2022-06-10T06:55:57.451Z"
   },
   {
    "duration": 26,
    "start_time": "2022-06-10T07:15:25.892Z"
   },
   {
    "duration": 26,
    "start_time": "2022-06-10T07:15:47.486Z"
   },
   {
    "duration": 38,
    "start_time": "2022-06-10T07:19:03.900Z"
   },
   {
    "duration": 42,
    "start_time": "2022-06-10T07:19:18.396Z"
   },
   {
    "duration": 19,
    "start_time": "2022-06-10T07:21:14.281Z"
   },
   {
    "duration": 4,
    "start_time": "2022-06-10T07:21:51.124Z"
   },
   {
    "duration": 19,
    "start_time": "2022-06-10T07:21:53.596Z"
   },
   {
    "duration": 56,
    "start_time": "2022-06-10T07:24:57.829Z"
   },
   {
    "duration": 36,
    "start_time": "2022-06-10T07:25:19.820Z"
   },
   {
    "duration": 44,
    "start_time": "2022-06-10T07:25:31.244Z"
   },
   {
    "duration": 32,
    "start_time": "2022-06-10T07:25:55.213Z"
   },
   {
    "duration": 47,
    "start_time": "2022-06-10T07:26:00.245Z"
   },
   {
    "duration": 32,
    "start_time": "2022-06-10T07:26:09.991Z"
   },
   {
    "duration": 29,
    "start_time": "2022-06-10T07:27:02.325Z"
   },
   {
    "duration": 36,
    "start_time": "2022-06-10T07:27:16.734Z"
   },
   {
    "duration": 45,
    "start_time": "2022-06-10T07:27:28.149Z"
   },
   {
    "duration": 45,
    "start_time": "2022-06-10T07:31:48.936Z"
   },
   {
    "duration": 20,
    "start_time": "2022-06-10T07:31:54.197Z"
   },
   {
    "duration": 26,
    "start_time": "2022-06-10T07:32:12.181Z"
   },
   {
    "duration": 29,
    "start_time": "2022-06-10T07:35:04.909Z"
   },
   {
    "duration": 38,
    "start_time": "2022-06-10T07:35:19.870Z"
   },
   {
    "duration": 28,
    "start_time": "2022-06-10T07:36:00.590Z"
   },
   {
    "duration": 40,
    "start_time": "2022-06-10T07:36:43.508Z"
   },
   {
    "duration": 34,
    "start_time": "2022-06-10T07:36:57.524Z"
   },
   {
    "duration": 57,
    "start_time": "2022-06-10T07:43:55.822Z"
   },
   {
    "duration": 55848,
    "start_time": "2022-06-10T07:45:20.997Z"
   },
   {
    "duration": 5,
    "start_time": "2022-06-10T07:57:57.569Z"
   },
   {
    "duration": 21,
    "start_time": "2022-06-10T08:00:48.449Z"
   },
   {
    "duration": 4,
    "start_time": "2022-06-10T08:01:01.603Z"
   },
   {
    "duration": 23,
    "start_time": "2022-06-10T08:01:08.518Z"
   },
   {
    "duration": 14,
    "start_time": "2022-06-10T08:01:25.804Z"
   },
   {
    "duration": 20,
    "start_time": "2022-06-10T08:01:34.223Z"
   },
   {
    "duration": 7,
    "start_time": "2022-06-10T08:02:35.143Z"
   },
   {
    "duration": 9,
    "start_time": "2022-06-10T08:04:13.809Z"
   },
   {
    "duration": 9,
    "start_time": "2022-06-10T08:52:28.825Z"
   },
   {
    "duration": 204,
    "start_time": "2022-06-10T08:52:28.836Z"
   },
   {
    "duration": 16,
    "start_time": "2022-06-10T08:52:29.042Z"
   },
   {
    "duration": 37,
    "start_time": "2022-06-10T08:52:29.062Z"
   },
   {
    "duration": 11,
    "start_time": "2022-06-10T08:52:29.101Z"
   },
   {
    "duration": 24,
    "start_time": "2022-06-10T08:52:29.114Z"
   },
   {
    "duration": 12,
    "start_time": "2022-06-10T08:52:29.140Z"
   },
   {
    "duration": 47,
    "start_time": "2022-06-10T08:52:29.153Z"
   },
   {
    "duration": 32,
    "start_time": "2022-06-10T08:52:29.202Z"
   },
   {
    "duration": 15,
    "start_time": "2022-06-10T08:52:29.235Z"
   },
   {
    "duration": 15,
    "start_time": "2022-06-10T08:52:29.252Z"
   },
   {
    "duration": 52,
    "start_time": "2022-06-10T08:52:29.269Z"
   },
   {
    "duration": 8,
    "start_time": "2022-06-10T08:52:29.322Z"
   },
   {
    "duration": 32,
    "start_time": "2022-06-10T08:52:29.333Z"
   },
   {
    "duration": 34,
    "start_time": "2022-06-10T08:52:29.371Z"
   },
   {
    "duration": 5,
    "start_time": "2022-06-10T08:52:29.406Z"
   },
   {
    "duration": 12,
    "start_time": "2022-06-10T08:52:29.413Z"
   },
   {
    "duration": 15,
    "start_time": "2022-06-10T08:52:29.426Z"
   },
   {
    "duration": 45,
    "start_time": "2022-06-10T08:52:29.443Z"
   },
   {
    "duration": 237,
    "start_time": "2022-06-10T08:52:29.490Z"
   },
   {
    "duration": 11,
    "start_time": "2022-06-10T08:52:29.729Z"
   },
   {
    "duration": 40,
    "start_time": "2022-06-10T08:52:29.741Z"
   },
   {
    "duration": 656,
    "start_time": "2022-06-10T08:52:29.783Z"
   },
   {
    "duration": 227,
    "start_time": "2022-06-10T08:52:30.441Z"
   },
   {
    "duration": 9,
    "start_time": "2022-06-10T08:52:30.672Z"
   },
   {
    "duration": 966,
    "start_time": "2022-06-10T08:52:30.686Z"
   },
   {
    "duration": 361,
    "start_time": "2022-06-10T08:52:31.654Z"
   },
   {
    "duration": 321,
    "start_time": "2022-06-10T08:52:32.018Z"
   },
   {
    "duration": 239,
    "start_time": "2022-06-10T08:52:32.342Z"
   },
   {
    "duration": 16,
    "start_time": "2022-06-10T08:52:32.583Z"
   },
   {
    "duration": 247,
    "start_time": "2022-06-10T08:52:32.601Z"
   },
   {
    "duration": 257,
    "start_time": "2022-06-10T08:52:32.849Z"
   },
   {
    "duration": 29,
    "start_time": "2022-06-10T08:52:33.107Z"
   },
   {
    "duration": 356,
    "start_time": "2022-06-10T08:53:36.885Z"
   },
   {
    "duration": 365,
    "start_time": "2022-06-10T08:54:43.439Z"
   },
   {
    "duration": 12,
    "start_time": "2022-06-10T08:55:20.807Z"
   },
   {
    "duration": 353,
    "start_time": "2022-06-10T08:55:29.398Z"
   },
   {
    "duration": 537,
    "start_time": "2022-06-10T08:58:32.799Z"
   },
   {
    "duration": 383,
    "start_time": "2022-06-10T08:58:42.023Z"
   },
   {
    "duration": 14,
    "start_time": "2022-06-10T08:59:06.874Z"
   },
   {
    "duration": 13,
    "start_time": "2022-06-10T08:59:16.285Z"
   },
   {
    "duration": 10,
    "start_time": "2022-06-10T08:59:45.312Z"
   },
   {
    "duration": 10,
    "start_time": "2022-06-10T09:00:06.103Z"
   },
   {
    "duration": 15,
    "start_time": "2022-06-10T09:02:19.199Z"
   },
   {
    "duration": 11,
    "start_time": "2022-06-10T09:02:28.984Z"
   },
   {
    "duration": 11,
    "start_time": "2022-06-10T09:02:34.478Z"
   },
   {
    "duration": 11,
    "start_time": "2022-06-10T09:04:38.640Z"
   },
   {
    "duration": 11,
    "start_time": "2022-06-10T09:12:08.424Z"
   },
   {
    "duration": 1568,
    "start_time": "2022-06-10T09:15:18.024Z"
   },
   {
    "duration": 1122,
    "start_time": "2022-06-10T09:15:37.776Z"
   },
   {
    "duration": 31,
    "start_time": "2022-06-10T09:22:06.102Z"
   },
   {
    "duration": 498,
    "start_time": "2022-06-10T09:22:16.887Z"
   },
   {
    "duration": 396,
    "start_time": "2022-06-10T09:23:40.905Z"
   },
   {
    "duration": 788,
    "start_time": "2022-06-10T09:25:11.145Z"
   },
   {
    "duration": 509,
    "start_time": "2022-06-10T09:35:28.191Z"
   },
   {
    "duration": 565,
    "start_time": "2022-06-10T09:35:49.382Z"
   },
   {
    "duration": 430,
    "start_time": "2022-06-10T09:38:33.198Z"
   },
   {
    "duration": 429,
    "start_time": "2022-06-10T09:38:49.370Z"
   },
   {
    "duration": 579,
    "start_time": "2022-06-10T09:38:59.118Z"
   },
   {
    "duration": 571,
    "start_time": "2022-06-10T09:39:25.678Z"
   },
   {
    "duration": 357,
    "start_time": "2022-06-10T09:48:48.873Z"
   },
   {
    "duration": 359,
    "start_time": "2022-06-10T09:48:53.918Z"
   },
   {
    "duration": 12,
    "start_time": "2022-06-10T09:53:53.501Z"
   },
   {
    "duration": 12,
    "start_time": "2022-06-10T09:54:27.917Z"
   },
   {
    "duration": 604,
    "start_time": "2022-06-10T09:56:23.758Z"
   },
   {
    "duration": 574,
    "start_time": "2022-06-10T09:56:27.310Z"
   },
   {
    "duration": 1455,
    "start_time": "2022-06-10T14:37:26.281Z"
   },
   {
    "duration": 151,
    "start_time": "2022-06-10T14:37:27.739Z"
   },
   {
    "duration": 22,
    "start_time": "2022-06-10T14:37:27.892Z"
   },
   {
    "duration": 14,
    "start_time": "2022-06-10T14:37:27.916Z"
   },
   {
    "duration": 24,
    "start_time": "2022-06-10T14:37:27.932Z"
   },
   {
    "duration": 61,
    "start_time": "2022-06-10T14:37:27.958Z"
   },
   {
    "duration": 8,
    "start_time": "2022-06-10T14:37:28.020Z"
   },
   {
    "duration": 25,
    "start_time": "2022-06-10T14:37:28.029Z"
   },
   {
    "duration": 87,
    "start_time": "2022-06-10T14:37:28.056Z"
   },
   {
    "duration": 32,
    "start_time": "2022-06-10T14:37:28.145Z"
   },
   {
    "duration": 33,
    "start_time": "2022-06-10T14:37:28.183Z"
   },
   {
    "duration": 34,
    "start_time": "2022-06-10T14:37:28.217Z"
   },
   {
    "duration": 17,
    "start_time": "2022-06-10T14:37:28.253Z"
   },
   {
    "duration": 54,
    "start_time": "2022-06-10T14:37:28.279Z"
   },
   {
    "duration": 18,
    "start_time": "2022-06-10T14:37:28.334Z"
   },
   {
    "duration": 5,
    "start_time": "2022-06-10T14:37:28.353Z"
   },
   {
    "duration": 48,
    "start_time": "2022-06-10T14:37:28.363Z"
   },
   {
    "duration": 15,
    "start_time": "2022-06-10T14:37:28.413Z"
   },
   {
    "duration": 19,
    "start_time": "2022-06-10T14:37:28.430Z"
   },
   {
    "duration": 225,
    "start_time": "2022-06-10T14:37:28.451Z"
   },
   {
    "duration": 20,
    "start_time": "2022-06-10T14:37:28.678Z"
   },
   {
    "duration": 28,
    "start_time": "2022-06-10T14:37:28.700Z"
   },
   {
    "duration": 655,
    "start_time": "2022-06-10T14:37:28.730Z"
   },
   {
    "duration": 229,
    "start_time": "2022-06-10T14:37:29.389Z"
   },
   {
    "duration": 9,
    "start_time": "2022-06-10T14:37:29.620Z"
   },
   {
    "duration": 886,
    "start_time": "2022-06-10T14:37:29.630Z"
   },
   {
    "duration": 415,
    "start_time": "2022-06-10T14:37:30.518Z"
   },
   {
    "duration": 259,
    "start_time": "2022-06-10T14:37:30.934Z"
   },
   {
    "duration": 203,
    "start_time": "2022-06-10T14:37:31.194Z"
   },
   {
    "duration": 9,
    "start_time": "2022-06-10T14:37:31.408Z"
   },
   {
    "duration": 211,
    "start_time": "2022-06-10T14:37:31.419Z"
   },
   {
    "duration": 218,
    "start_time": "2022-06-10T14:37:31.632Z"
   },
   {
    "duration": 33,
    "start_time": "2022-06-10T14:37:31.860Z"
   },
   {
    "duration": 55,
    "start_time": "2022-06-10T14:37:31.895Z"
   },
   {
    "duration": 44,
    "start_time": "2022-06-10T14:37:31.952Z"
   },
   {
    "duration": 598,
    "start_time": "2022-06-10T14:37:31.998Z"
   },
   {
    "duration": 638,
    "start_time": "2022-06-10T14:37:32.603Z"
   },
   {
    "duration": 489,
    "start_time": "2022-06-10T14:39:00.041Z"
   },
   {
    "duration": 423,
    "start_time": "2022-06-10T14:39:22.301Z"
   },
   {
    "duration": 375,
    "start_time": "2022-06-10T14:40:23.134Z"
   },
   {
    "duration": 825,
    "start_time": "2022-06-10T14:49:54.025Z"
   },
   {
    "duration": 124,
    "start_time": "2022-06-10T14:52:41.697Z"
   },
   {
    "duration": 14,
    "start_time": "2022-06-10T14:53:05.693Z"
   },
   {
    "duration": 147,
    "start_time": "2022-06-10T14:53:19.803Z"
   },
   {
    "duration": 14,
    "start_time": "2022-06-10T14:54:54.710Z"
   },
   {
    "duration": 215,
    "start_time": "2022-06-10T14:55:07.806Z"
   },
   {
    "duration": 280,
    "start_time": "2022-06-10T14:55:22.313Z"
   },
   {
    "duration": 239,
    "start_time": "2022-06-10T14:56:10.384Z"
   },
   {
    "duration": 242,
    "start_time": "2022-06-10T14:56:20.082Z"
   },
   {
    "duration": 405,
    "start_time": "2022-06-10T14:56:27.289Z"
   },
   {
    "duration": 258,
    "start_time": "2022-06-10T14:56:55.886Z"
   },
   {
    "duration": 278,
    "start_time": "2022-06-10T14:59:30.340Z"
   },
   {
    "duration": 258,
    "start_time": "2022-06-10T14:59:34.485Z"
   },
   {
    "duration": 261,
    "start_time": "2022-06-10T15:00:06.704Z"
   },
   {
    "duration": 378,
    "start_time": "2022-06-10T15:01:27.930Z"
   },
   {
    "duration": 360,
    "start_time": "2022-06-10T15:01:59.383Z"
   },
   {
    "duration": 357,
    "start_time": "2022-06-10T15:02:40.785Z"
   },
   {
    "duration": 951,
    "start_time": "2022-06-10T15:02:54.611Z"
   },
   {
    "duration": 391,
    "start_time": "2022-06-10T15:03:44.920Z"
   },
   {
    "duration": 365,
    "start_time": "2022-06-10T15:04:34.401Z"
   },
   {
    "duration": 546,
    "start_time": "2022-06-10T15:09:06.123Z"
   },
   {
    "duration": 15,
    "start_time": "2022-06-10T15:23:56.083Z"
   },
   {
    "duration": 15,
    "start_time": "2022-06-10T15:24:11.881Z"
   },
   {
    "duration": 8,
    "start_time": "2022-06-10T15:27:20.235Z"
   },
   {
    "duration": 20,
    "start_time": "2022-06-10T15:29:14.394Z"
   },
   {
    "duration": 17,
    "start_time": "2022-06-10T15:33:11.705Z"
   },
   {
    "duration": 8,
    "start_time": "2022-06-10T15:34:03.712Z"
   },
   {
    "duration": 8,
    "start_time": "2022-06-10T15:34:10.389Z"
   },
   {
    "duration": 6,
    "start_time": "2022-06-10T15:34:25.515Z"
   },
   {
    "duration": 18,
    "start_time": "2022-06-10T15:34:47.587Z"
   },
   {
    "duration": 13,
    "start_time": "2022-06-10T15:35:11.905Z"
   },
   {
    "duration": 13,
    "start_time": "2022-06-10T15:35:18.337Z"
   },
   {
    "duration": 2011,
    "start_time": "2022-06-11T07:51:53.777Z"
   },
   {
    "duration": 135,
    "start_time": "2022-06-11T07:51:55.790Z"
   },
   {
    "duration": 34,
    "start_time": "2022-06-11T07:51:55.927Z"
   },
   {
    "duration": 15,
    "start_time": "2022-06-11T07:51:55.970Z"
   },
   {
    "duration": 14,
    "start_time": "2022-06-11T07:51:55.987Z"
   },
   {
    "duration": 14,
    "start_time": "2022-06-11T07:51:56.003Z"
   },
   {
    "duration": 7,
    "start_time": "2022-06-11T07:51:56.018Z"
   },
   {
    "duration": 48,
    "start_time": "2022-06-11T07:51:56.042Z"
   },
   {
    "duration": 30,
    "start_time": "2022-06-11T07:51:56.092Z"
   },
   {
    "duration": 19,
    "start_time": "2022-06-11T07:51:56.123Z"
   },
   {
    "duration": 47,
    "start_time": "2022-06-11T07:51:56.143Z"
   },
   {
    "duration": 37,
    "start_time": "2022-06-11T07:51:56.192Z"
   },
   {
    "duration": 52,
    "start_time": "2022-06-11T07:51:56.231Z"
   },
   {
    "duration": 38,
    "start_time": "2022-06-11T07:51:56.288Z"
   },
   {
    "duration": 34,
    "start_time": "2022-06-11T07:51:56.329Z"
   },
   {
    "duration": 21,
    "start_time": "2022-06-11T07:51:56.371Z"
   },
   {
    "duration": 9,
    "start_time": "2022-06-11T07:51:56.395Z"
   },
   {
    "duration": 17,
    "start_time": "2022-06-11T07:51:56.406Z"
   },
   {
    "duration": 66,
    "start_time": "2022-06-11T07:51:56.425Z"
   },
   {
    "duration": 247,
    "start_time": "2022-06-11T07:51:56.493Z"
   },
   {
    "duration": 17,
    "start_time": "2022-06-11T07:51:56.746Z"
   },
   {
    "duration": 25,
    "start_time": "2022-06-11T07:51:56.770Z"
   },
   {
    "duration": 689,
    "start_time": "2022-06-11T07:51:56.798Z"
   },
   {
    "duration": 214,
    "start_time": "2022-06-11T07:51:57.489Z"
   },
   {
    "duration": 7,
    "start_time": "2022-06-11T07:51:57.704Z"
   },
   {
    "duration": 886,
    "start_time": "2022-06-11T07:51:57.713Z"
   },
   {
    "duration": 381,
    "start_time": "2022-06-11T07:51:58.600Z"
   },
   {
    "duration": 263,
    "start_time": "2022-06-11T07:51:58.983Z"
   },
   {
    "duration": 219,
    "start_time": "2022-06-11T07:51:59.249Z"
   },
   {
    "duration": 12,
    "start_time": "2022-06-11T07:51:59.474Z"
   },
   {
    "duration": 212,
    "start_time": "2022-06-11T07:51:59.487Z"
   },
   {
    "duration": 200,
    "start_time": "2022-06-11T07:51:59.701Z"
   },
   {
    "duration": 36,
    "start_time": "2022-06-11T07:51:59.902Z"
   },
   {
    "duration": 236,
    "start_time": "2022-06-11T07:51:59.940Z"
   },
   {
    "duration": 221,
    "start_time": "2022-06-11T07:52:00.178Z"
   },
   {
    "duration": 318,
    "start_time": "2022-06-11T07:52:00.401Z"
   },
   {
    "duration": 333,
    "start_time": "2022-06-11T07:52:00.721Z"
   },
   {
    "duration": 512,
    "start_time": "2022-06-11T07:52:01.056Z"
   },
   {
    "duration": 17,
    "start_time": "2022-06-11T07:52:05.266Z"
   },
   {
    "duration": 12,
    "start_time": "2022-06-11T07:52:07.780Z"
   },
   {
    "duration": 3,
    "start_time": "2022-06-11T07:54:37.377Z"
   },
   {
    "duration": 12,
    "start_time": "2022-06-11T07:54:39.676Z"
   },
   {
    "duration": 4,
    "start_time": "2022-06-11T07:54:49.011Z"
   },
   {
    "duration": 213,
    "start_time": "2022-06-11T08:02:24.989Z"
   },
   {
    "duration": 102,
    "start_time": "2022-06-11T08:03:02.304Z"
   },
   {
    "duration": 10,
    "start_time": "2022-06-11T08:03:13.351Z"
   },
   {
    "duration": 8,
    "start_time": "2022-06-11T08:03:25.753Z"
   },
   {
    "duration": 184,
    "start_time": "2022-06-11T08:03:49.177Z"
   },
   {
    "duration": 170,
    "start_time": "2022-06-11T08:03:58.277Z"
   },
   {
    "duration": 169,
    "start_time": "2022-06-11T08:04:04.117Z"
   },
   {
    "duration": 176,
    "start_time": "2022-06-11T08:04:12.800Z"
   },
   {
    "duration": 171,
    "start_time": "2022-06-11T08:04:17.092Z"
   },
   {
    "duration": 179,
    "start_time": "2022-06-11T08:05:43.424Z"
   },
   {
    "duration": 195,
    "start_time": "2022-06-11T08:06:02.351Z"
   },
   {
    "duration": 174,
    "start_time": "2022-06-11T08:06:14.520Z"
   },
   {
    "duration": 198,
    "start_time": "2022-06-11T08:09:49.455Z"
   },
   {
    "duration": 21,
    "start_time": "2022-06-11T08:11:17.205Z"
   },
   {
    "duration": 273,
    "start_time": "2022-06-11T08:11:24.398Z"
   },
   {
    "duration": 15,
    "start_time": "2022-06-11T08:11:41.621Z"
   },
   {
    "duration": 9,
    "start_time": "2022-06-11T08:12:03.321Z"
   },
   {
    "duration": 11,
    "start_time": "2022-06-11T08:13:31.893Z"
   },
   {
    "duration": 4,
    "start_time": "2022-06-11T08:13:57.759Z"
   },
   {
    "duration": 1140,
    "start_time": "2022-06-11T08:47:08.847Z"
   },
   {
    "duration": 73,
    "start_time": "2022-06-11T08:47:09.989Z"
   },
   {
    "duration": 16,
    "start_time": "2022-06-11T08:47:10.063Z"
   },
   {
    "duration": 16,
    "start_time": "2022-06-11T08:47:10.081Z"
   },
   {
    "duration": 25,
    "start_time": "2022-06-11T08:47:10.099Z"
   },
   {
    "duration": 52,
    "start_time": "2022-06-11T08:47:10.125Z"
   },
   {
    "duration": 33,
    "start_time": "2022-06-11T08:47:10.178Z"
   },
   {
    "duration": 37,
    "start_time": "2022-06-11T08:47:10.212Z"
   },
   {
    "duration": 57,
    "start_time": "2022-06-11T08:47:10.251Z"
   },
   {
    "duration": 45,
    "start_time": "2022-06-11T08:47:10.309Z"
   },
   {
    "duration": 20,
    "start_time": "2022-06-11T08:47:10.356Z"
   },
   {
    "duration": 37,
    "start_time": "2022-06-11T08:47:10.378Z"
   },
   {
    "duration": 21,
    "start_time": "2022-06-11T08:47:10.417Z"
   },
   {
    "duration": 44,
    "start_time": "2022-06-11T08:47:10.448Z"
   },
   {
    "duration": 32,
    "start_time": "2022-06-11T08:47:10.493Z"
   },
   {
    "duration": 30,
    "start_time": "2022-06-11T08:47:10.527Z"
   },
   {
    "duration": 23,
    "start_time": "2022-06-11T08:47:10.559Z"
   },
   {
    "duration": 27,
    "start_time": "2022-06-11T08:47:10.584Z"
   },
   {
    "duration": 54,
    "start_time": "2022-06-11T08:47:10.612Z"
   },
   {
    "duration": 196,
    "start_time": "2022-06-11T08:47:10.668Z"
   },
   {
    "duration": 10,
    "start_time": "2022-06-11T08:47:10.865Z"
   },
   {
    "duration": 40,
    "start_time": "2022-06-11T08:47:10.876Z"
   },
   {
    "duration": 553,
    "start_time": "2022-06-11T08:47:10.918Z"
   },
   {
    "duration": 187,
    "start_time": "2022-06-11T08:47:11.472Z"
   },
   {
    "duration": 6,
    "start_time": "2022-06-11T08:47:11.661Z"
   },
   {
    "duration": 781,
    "start_time": "2022-06-11T08:47:11.668Z"
   },
   {
    "duration": 320,
    "start_time": "2022-06-11T08:47:12.451Z"
   },
   {
    "duration": 219,
    "start_time": "2022-06-11T08:47:12.772Z"
   },
   {
    "duration": 190,
    "start_time": "2022-06-11T08:47:12.993Z"
   },
   {
    "duration": 9,
    "start_time": "2022-06-11T08:47:13.185Z"
   },
   {
    "duration": 234,
    "start_time": "2022-06-11T08:47:13.195Z"
   },
   {
    "duration": 201,
    "start_time": "2022-06-11T08:47:13.431Z"
   },
   {
    "duration": 36,
    "start_time": "2022-06-11T08:47:13.635Z"
   },
   {
    "duration": 279,
    "start_time": "2022-06-11T08:47:13.672Z"
   },
   {
    "duration": 228,
    "start_time": "2022-06-11T08:47:13.953Z"
   },
   {
    "duration": 312,
    "start_time": "2022-06-11T08:47:14.183Z"
   },
   {
    "duration": 305,
    "start_time": "2022-06-11T08:47:14.497Z"
   },
   {
    "duration": 477,
    "start_time": "2022-06-11T08:47:14.803Z"
   },
   {
    "duration": 195,
    "start_time": "2022-06-11T08:47:15.283Z"
   },
   {
    "duration": 9,
    "start_time": "2022-06-11T08:47:15.480Z"
   },
   {
    "duration": 12,
    "start_time": "2022-06-11T08:47:15.493Z"
   },
   {
    "duration": 291,
    "start_time": "2022-06-11T08:47:15.506Z"
   },
   {
    "duration": 8,
    "start_time": "2022-06-11T08:47:15.799Z"
   },
   {
    "duration": 32,
    "start_time": "2022-06-11T08:47:15.809Z"
   },
   {
    "duration": 415,
    "start_time": "2022-06-11T08:51:19.304Z"
   },
   {
    "duration": 703,
    "start_time": "2022-06-11T08:51:32.134Z"
   },
   {
    "duration": 1294,
    "start_time": "2022-06-11T14:12:51.476Z"
   },
   {
    "duration": 120,
    "start_time": "2022-06-11T14:12:52.773Z"
   },
   {
    "duration": 17,
    "start_time": "2022-06-11T14:12:52.894Z"
   },
   {
    "duration": 6,
    "start_time": "2022-06-11T14:12:52.913Z"
   },
   {
    "duration": 12,
    "start_time": "2022-06-11T14:12:52.920Z"
   },
   {
    "duration": 13,
    "start_time": "2022-06-11T14:12:52.934Z"
   },
   {
    "duration": 7,
    "start_time": "2022-06-11T14:12:52.949Z"
   },
   {
    "duration": 15,
    "start_time": "2022-06-11T14:12:52.957Z"
   },
   {
    "duration": 54,
    "start_time": "2022-06-11T14:12:52.974Z"
   },
   {
    "duration": 10,
    "start_time": "2022-06-11T14:12:53.031Z"
   },
   {
    "duration": 18,
    "start_time": "2022-06-11T14:12:53.042Z"
   },
   {
    "duration": 25,
    "start_time": "2022-06-11T14:12:53.062Z"
   },
   {
    "duration": 6,
    "start_time": "2022-06-11T14:12:53.089Z"
   },
   {
    "duration": 42,
    "start_time": "2022-06-11T14:12:53.097Z"
   },
   {
    "duration": 18,
    "start_time": "2022-06-11T14:12:53.141Z"
   },
   {
    "duration": 5,
    "start_time": "2022-06-11T14:12:53.160Z"
   },
   {
    "duration": 10,
    "start_time": "2022-06-11T14:12:53.166Z"
   },
   {
    "duration": 15,
    "start_time": "2022-06-11T14:12:53.177Z"
   },
   {
    "duration": 38,
    "start_time": "2022-06-11T14:12:53.194Z"
   },
   {
    "duration": 191,
    "start_time": "2022-06-11T14:12:53.234Z"
   },
   {
    "duration": 10,
    "start_time": "2022-06-11T14:12:53.427Z"
   },
   {
    "duration": 19,
    "start_time": "2022-06-11T14:12:53.439Z"
   },
   {
    "duration": 579,
    "start_time": "2022-06-11T14:12:53.460Z"
   },
   {
    "duration": 192,
    "start_time": "2022-06-11T14:12:54.041Z"
   },
   {
    "duration": 7,
    "start_time": "2022-06-11T14:12:54.235Z"
   },
   {
    "duration": 743,
    "start_time": "2022-06-11T14:12:54.244Z"
   },
   {
    "duration": 306,
    "start_time": "2022-06-11T14:12:54.989Z"
   },
   {
    "duration": 208,
    "start_time": "2022-06-11T14:12:55.299Z"
   },
   {
    "duration": 179,
    "start_time": "2022-06-11T14:12:55.509Z"
   },
   {
    "duration": 10,
    "start_time": "2022-06-11T14:12:55.690Z"
   },
   {
    "duration": 204,
    "start_time": "2022-06-11T14:12:55.701Z"
   },
   {
    "duration": 212,
    "start_time": "2022-06-11T14:12:55.907Z"
   },
   {
    "duration": 27,
    "start_time": "2022-06-11T14:12:56.122Z"
   },
   {
    "duration": 221,
    "start_time": "2022-06-11T14:12:56.151Z"
   },
   {
    "duration": 228,
    "start_time": "2022-06-11T14:12:56.374Z"
   },
   {
    "duration": 293,
    "start_time": "2022-06-11T14:12:56.604Z"
   },
   {
    "duration": 291,
    "start_time": "2022-06-11T14:12:56.899Z"
   },
   {
    "duration": 424,
    "start_time": "2022-06-11T14:12:57.192Z"
   },
   {
    "duration": 177,
    "start_time": "2022-06-11T14:12:57.618Z"
   },
   {
    "duration": 8,
    "start_time": "2022-06-11T14:12:57.796Z"
   },
   {
    "duration": 6,
    "start_time": "2022-06-11T14:12:57.805Z"
   },
   {
    "duration": 188,
    "start_time": "2022-06-11T14:12:57.823Z"
   },
   {
    "duration": 15,
    "start_time": "2022-06-11T14:12:58.013Z"
   },
   {
    "duration": 7,
    "start_time": "2022-06-11T14:12:58.029Z"
   },
   {
    "duration": 12,
    "start_time": "2022-06-11T14:21:15.520Z"
   },
   {
    "duration": 18,
    "start_time": "2022-06-11T14:43:50.026Z"
   },
   {
    "duration": 6,
    "start_time": "2022-06-11T15:02:44.896Z"
   },
   {
    "duration": 244,
    "start_time": "2022-06-11T15:27:28.319Z"
   },
   {
    "duration": 222,
    "start_time": "2022-06-11T15:30:26.444Z"
   },
   {
    "duration": 186,
    "start_time": "2022-06-11T15:30:40.972Z"
   },
   {
    "duration": 271,
    "start_time": "2022-06-11T15:37:47.394Z"
   },
   {
    "duration": 299,
    "start_time": "2022-06-11T15:38:10.098Z"
   },
   {
    "duration": 416,
    "start_time": "2022-06-11T15:38:58.915Z"
   },
   {
    "duration": 284,
    "start_time": "2022-06-11T15:39:07.942Z"
   },
   {
    "duration": 282,
    "start_time": "2022-06-11T15:39:22.662Z"
   },
   {
    "duration": 281,
    "start_time": "2022-06-11T15:39:40.614Z"
   },
   {
    "duration": 38,
    "start_time": "2022-06-12T09:44:04.982Z"
   },
   {
    "duration": 44,
    "start_time": "2022-06-12T09:45:18.389Z"
   },
   {
    "duration": 1195,
    "start_time": "2022-06-12T09:45:23.140Z"
   },
   {
    "duration": 107,
    "start_time": "2022-06-12T09:45:24.336Z"
   },
   {
    "duration": 19,
    "start_time": "2022-06-12T09:45:24.444Z"
   },
   {
    "duration": 6,
    "start_time": "2022-06-12T09:45:24.465Z"
   },
   {
    "duration": 14,
    "start_time": "2022-06-12T09:45:24.472Z"
   },
   {
    "duration": 15,
    "start_time": "2022-06-12T09:45:29.962Z"
   },
   {
    "duration": 9,
    "start_time": "2022-06-12T09:45:32.515Z"
   },
   {
    "duration": 11,
    "start_time": "2022-06-12T09:45:37.305Z"
   },
   {
    "duration": 26,
    "start_time": "2022-06-12T09:50:10.495Z"
   },
   {
    "duration": 8,
    "start_time": "2022-06-12T09:51:31.283Z"
   },
   {
    "duration": 20,
    "start_time": "2022-06-12T09:53:39.288Z"
   },
   {
    "duration": 5,
    "start_time": "2022-06-12T09:53:41.712Z"
   },
   {
    "duration": 5,
    "start_time": "2022-06-12T09:53:55.118Z"
   },
   {
    "duration": 10,
    "start_time": "2022-06-12T09:54:05.802Z"
   },
   {
    "duration": 5,
    "start_time": "2022-06-12T09:59:08.931Z"
   },
   {
    "duration": 12,
    "start_time": "2022-06-12T09:59:13.679Z"
   },
   {
    "duration": 21,
    "start_time": "2022-06-12T09:59:26.054Z"
   },
   {
    "duration": 196,
    "start_time": "2022-06-12T09:59:34.337Z"
   },
   {
    "duration": 10,
    "start_time": "2022-06-12T09:59:37.678Z"
   },
   {
    "duration": 16,
    "start_time": "2022-06-12T09:59:46.380Z"
   },
   {
    "duration": 571,
    "start_time": "2022-06-12T09:59:53.918Z"
   },
   {
    "duration": 190,
    "start_time": "2022-06-12T10:00:04.599Z"
   },
   {
    "duration": 9,
    "start_time": "2022-06-12T10:00:12.672Z"
   },
   {
    "duration": 838,
    "start_time": "2022-06-12T10:00:18.517Z"
   },
   {
    "duration": 261,
    "start_time": "2022-06-12T10:03:03.360Z"
   },
   {
    "duration": 326,
    "start_time": "2022-06-12T10:03:25.911Z"
   },
   {
    "duration": 191,
    "start_time": "2022-06-12T10:03:38.618Z"
   },
   {
    "duration": 10,
    "start_time": "2022-06-12T10:03:44.901Z"
   },
   {
    "duration": 198,
    "start_time": "2022-06-12T10:03:54.738Z"
   },
   {
    "duration": 241,
    "start_time": "2022-06-12T10:04:12.454Z"
   },
   {
    "duration": 190,
    "start_time": "2022-06-12T10:04:43.455Z"
   },
   {
    "duration": 312,
    "start_time": "2022-06-12T10:04:49.219Z"
   },
   {
    "duration": 203,
    "start_time": "2022-06-12T10:04:56.991Z"
   },
   {
    "duration": 200,
    "start_time": "2022-06-12T10:05:07.198Z"
   },
   {
    "duration": 202,
    "start_time": "2022-06-12T10:05:26.745Z"
   },
   {
    "duration": 191,
    "start_time": "2022-06-12T10:05:29.968Z"
   },
   {
    "duration": 28,
    "start_time": "2022-06-12T10:05:36.156Z"
   },
   {
    "duration": 198,
    "start_time": "2022-06-12T10:05:55.638Z"
   },
   {
    "duration": 303,
    "start_time": "2022-06-12T10:06:00.014Z"
   },
   {
    "duration": 318,
    "start_time": "2022-06-12T10:06:12.404Z"
   },
   {
    "duration": 295,
    "start_time": "2022-06-12T10:06:21.547Z"
   },
   {
    "duration": 281,
    "start_time": "2022-06-12T10:06:54.232Z"
   },
   {
    "duration": 280,
    "start_time": "2022-06-12T10:07:03.551Z"
   },
   {
    "duration": 361,
    "start_time": "2022-06-12T10:09:13.779Z"
   },
   {
    "duration": 456,
    "start_time": "2022-06-12T10:09:30.153Z"
   },
   {
    "duration": 26,
    "start_time": "2022-06-12T10:12:03.636Z"
   },
   {
    "duration": 215,
    "start_time": "2022-06-12T10:13:01.113Z"
   },
   {
    "duration": 9,
    "start_time": "2022-06-12T10:13:04.121Z"
   },
   {
    "duration": 4,
    "start_time": "2022-06-12T10:13:06.803Z"
   },
   {
    "duration": 191,
    "start_time": "2022-06-12T10:13:09.667Z"
   },
   {
    "duration": 10,
    "start_time": "2022-06-12T10:13:17.659Z"
   },
   {
    "duration": 5,
    "start_time": "2022-06-12T10:13:22.071Z"
   },
   {
    "duration": 287,
    "start_time": "2022-06-12T16:34:58.197Z"
   },
   {
    "duration": 280,
    "start_time": "2022-06-12T16:35:28.009Z"
   },
   {
    "duration": 1086,
    "start_time": "2022-06-12T17:38:20.462Z"
   },
   {
    "duration": 194,
    "start_time": "2022-06-12T17:38:21.550Z"
   },
   {
    "duration": 15,
    "start_time": "2022-06-12T17:38:21.746Z"
   },
   {
    "duration": 6,
    "start_time": "2022-06-12T17:38:21.763Z"
   },
   {
    "duration": 10,
    "start_time": "2022-06-12T17:38:21.770Z"
   },
   {
    "duration": 16,
    "start_time": "2022-06-12T17:38:21.782Z"
   },
   {
    "duration": 8,
    "start_time": "2022-06-12T17:38:21.799Z"
   },
   {
    "duration": 13,
    "start_time": "2022-06-12T17:38:21.808Z"
   },
   {
    "duration": 26,
    "start_time": "2022-06-12T17:38:21.822Z"
   },
   {
    "duration": 32,
    "start_time": "2022-06-12T17:38:21.851Z"
   },
   {
    "duration": 10,
    "start_time": "2022-06-12T17:38:21.885Z"
   },
   {
    "duration": 7,
    "start_time": "2022-06-12T17:38:21.897Z"
   },
   {
    "duration": 6,
    "start_time": "2022-06-12T17:38:21.906Z"
   },
   {
    "duration": 22,
    "start_time": "2022-06-12T17:38:21.913Z"
   },
   {
    "duration": 5,
    "start_time": "2022-06-12T17:38:21.936Z"
   },
   {
    "duration": 35,
    "start_time": "2022-06-12T17:38:21.943Z"
   },
   {
    "duration": 10,
    "start_time": "2022-06-12T17:38:21.980Z"
   },
   {
    "duration": 18,
    "start_time": "2022-06-12T17:38:21.992Z"
   },
   {
    "duration": 184,
    "start_time": "2022-06-12T17:38:22.012Z"
   },
   {
    "duration": 15,
    "start_time": "2022-06-12T17:38:22.198Z"
   },
   {
    "duration": 21,
    "start_time": "2022-06-12T17:38:22.215Z"
   },
   {
    "duration": 609,
    "start_time": "2022-06-12T17:38:22.238Z"
   },
   {
    "duration": 195,
    "start_time": "2022-06-12T17:38:22.849Z"
   },
   {
    "duration": 8,
    "start_time": "2022-06-12T17:38:23.045Z"
   },
   {
    "duration": 272,
    "start_time": "2022-06-12T17:38:23.054Z"
   },
   {
    "duration": 246,
    "start_time": "2022-06-12T17:38:23.328Z"
   },
   {
    "duration": 275,
    "start_time": "2022-06-12T17:38:23.577Z"
   },
   {
    "duration": 10,
    "start_time": "2022-06-12T17:38:23.855Z"
   },
   {
    "duration": 216,
    "start_time": "2022-06-12T17:38:23.877Z"
   },
   {
    "duration": 201,
    "start_time": "2022-06-12T17:38:24.095Z"
   },
   {
    "duration": 31,
    "start_time": "2022-06-12T17:38:24.298Z"
   },
   {
    "duration": 241,
    "start_time": "2022-06-12T17:38:24.331Z"
   },
   {
    "duration": 214,
    "start_time": "2022-06-12T17:38:24.573Z"
   },
   {
    "duration": 273,
    "start_time": "2022-06-12T17:38:24.788Z"
   },
   {
    "duration": 293,
    "start_time": "2022-06-12T17:38:25.063Z"
   },
   {
    "duration": 403,
    "start_time": "2022-06-12T17:38:25.358Z"
   },
   {
    "duration": 303,
    "start_time": "2022-06-12T17:38:25.762Z"
   },
   {
    "duration": 15,
    "start_time": "2022-06-12T17:38:26.067Z"
   },
   {
    "duration": 4,
    "start_time": "2022-06-12T17:38:26.084Z"
   },
   {
    "duration": 194,
    "start_time": "2022-06-12T17:38:26.090Z"
   },
   {
    "duration": 9,
    "start_time": "2022-06-12T17:38:26.286Z"
   },
   {
    "duration": 4,
    "start_time": "2022-06-12T17:38:26.296Z"
   }
  ],
  "kernelspec": {
   "display_name": "Python 3 (ipykernel)",
   "language": "python",
   "name": "python3"
  },
  "language_info": {
   "codemirror_mode": {
    "name": "ipython",
    "version": 3
   },
   "file_extension": ".py",
   "mimetype": "text/x-python",
   "name": "python",
   "nbconvert_exporter": "python",
   "pygments_lexer": "ipython3",
   "version": "3.9.13"
  },
  "toc": {
   "base_numbering": 1,
   "nav_menu": {},
   "number_sections": true,
   "sideBar": true,
   "skip_h1_title": true,
   "title_cell": "Table of Contents",
   "title_sidebar": "Contents",
   "toc_cell": false,
   "toc_position": {
    "height": "calc(100% - 180px)",
    "left": "10px",
    "top": "150px",
    "width": "244.594px"
   },
   "toc_section_display": true,
   "toc_window_display": true
  }
 },
 "nbformat": 4,
 "nbformat_minor": 2
}
